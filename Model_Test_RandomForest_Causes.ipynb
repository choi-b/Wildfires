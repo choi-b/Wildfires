{
 "cells": [
  {
   "cell_type": "code",
   "execution_count": 1,
   "metadata": {},
   "outputs": [],
   "source": [
    "## Import Libraries ##\n",
    "import sqlite3\n",
    "from sqlite3 import Error\n",
    "import pandas as pd\n",
    "import seaborn as sns\n",
    "import matplotlib.pyplot as plt\n",
    "import numpy as np\n",
    "from pandas import DataFrame\n",
    "from sqlalchemy import create_engine, MetaData, Table, select, func, desc"
   ]
  },
  {
   "cell_type": "markdown",
   "metadata": {},
   "source": [
    "## Connect to Database"
   ]
  },
  {
   "cell_type": "code",
   "execution_count": 3,
   "metadata": {},
   "outputs": [],
   "source": [
    "engine = create_engine('sqlite:///C:/Users/604906/Desktop/BAH/Data Science/WiDS/Wildfires/188-million-us-wildfires/FPA_FOD_20170508.sqlite')"
   ]
  },
  {
   "cell_type": "code",
   "execution_count": 4,
   "metadata": {},
   "outputs": [],
   "source": [
    "connection = engine.connect()"
   ]
  },
  {
   "cell_type": "code",
   "execution_count": 5,
   "metadata": {},
   "outputs": [
    {
     "name": "stdout",
     "output_type": "stream",
     "text": [
      "['ElementaryGeometries', 'Fires', 'KNN', 'NWCG_UnitIDActive_20170109', 'SpatialIndex', 'geometry_columns', 'geometry_columns_auth', 'geometry_columns_field_infos', 'geometry_columns_statistics', 'geometry_columns_time', 'idx_Fires_Shape', 'idx_Fires_Shape_node', 'idx_Fires_Shape_parent', 'idx_Fires_Shape_rowid', 'spatial_ref_sys', 'spatial_ref_sys_aux', 'spatialite_history', 'sql_statements_log', 'sqlite_sequence', 'views_geometry_columns', 'views_geometry_columns_auth', 'views_geometry_columns_field_infos', 'views_geometry_columns_statistics', 'virts_geometry_columns', 'virts_geometry_columns_auth', 'virts_geometry_columns_field_infos', 'virts_geometry_columns_statistics']\n"
     ]
    }
   ],
   "source": [
    "# Print tables names of database to make sure connection worked\n",
    "print(engine.table_names())"
   ]
  },
  {
   "cell_type": "markdown",
   "metadata": {},
   "source": [
    "## Connect to Fires Table"
   ]
  },
  {
   "cell_type": "code",
   "execution_count": 6,
   "metadata": {},
   "outputs": [],
   "source": [
    "# Function in SqlAlchemy Library that reflects the table information (such as datatypes, primary keys, etc.)\n",
    "metadata = MetaData()"
   ]
  },
  {
   "cell_type": "code",
   "execution_count": 7,
   "metadata": {},
   "outputs": [],
   "source": [
    "# Create a Table object that can be used to query the data\n",
    "Fires = Table('Fires', metadata, autoload = True, autoload_with=engine)"
   ]
  },
  {
   "cell_type": "code",
   "execution_count": 8,
   "metadata": {},
   "outputs": [],
   "source": [
    "try:\n",
    "    stmt = 'SELECT * FROM Fires'\n",
    "    \n",
    "    # Execute the statement and store all the records: results\n",
    "    results = connection.execute(stmt).fetchall()\n",
    "\n",
    "    # Create a DataFrame from the results: df\n",
    "    fires = pd.DataFrame(results)\n",
    "\n",
    "    # Set column names\n",
    "    fires.columns = results[0].keys()\n",
    "\n",
    "except Exception as err:\n",
    "    print(err)"
   ]
  },
  {
   "cell_type": "code",
   "execution_count": 9,
   "metadata": {},
   "outputs": [
    {
     "name": "stdout",
     "output_type": "stream",
     "text": [
      "<class 'pandas.core.frame.DataFrame'>\n",
      "RangeIndex: 1880465 entries, 0 to 1880464\n",
      "Data columns (total 39 columns):\n",
      "OBJECTID                      int64\n",
      "FOD_ID                        int64\n",
      "FPA_ID                        object\n",
      "SOURCE_SYSTEM_TYPE            object\n",
      "SOURCE_SYSTEM                 object\n",
      "NWCG_REPORTING_AGENCY         object\n",
      "NWCG_REPORTING_UNIT_ID        object\n",
      "NWCG_REPORTING_UNIT_NAME      object\n",
      "SOURCE_REPORTING_UNIT         object\n",
      "SOURCE_REPORTING_UNIT_NAME    object\n",
      "LOCAL_FIRE_REPORT_ID          object\n",
      "LOCAL_INCIDENT_ID             object\n",
      "FIRE_CODE                     object\n",
      "FIRE_NAME                     object\n",
      "ICS_209_INCIDENT_NUMBER       object\n",
      "ICS_209_NAME                  object\n",
      "MTBS_ID                       object\n",
      "MTBS_FIRE_NAME                object\n",
      "COMPLEX_NAME                  object\n",
      "FIRE_YEAR                     int64\n",
      "DISCOVERY_DATE                float64\n",
      "DISCOVERY_DOY                 int64\n",
      "DISCOVERY_TIME                object\n",
      "STAT_CAUSE_CODE               float64\n",
      "STAT_CAUSE_DESCR              object\n",
      "CONT_DATE                     float64\n",
      "CONT_DOY                      float64\n",
      "CONT_TIME                     object\n",
      "FIRE_SIZE                     float64\n",
      "FIRE_SIZE_CLASS               object\n",
      "LATITUDE                      float64\n",
      "LONGITUDE                     float64\n",
      "OWNER_CODE                    float64\n",
      "OWNER_DESCR                   object\n",
      "STATE                         object\n",
      "COUNTY                        object\n",
      "FIPS_CODE                     object\n",
      "FIPS_NAME                     object\n",
      "Shape                         object\n",
      "dtypes: float64(8), int64(4), object(27)\n",
      "memory usage: 559.5+ MB\n"
     ]
    }
   ],
   "source": [
    "#Look at columns in Fires\n",
    "fires.info()"
   ]
  },
  {
   "cell_type": "markdown",
   "metadata": {},
   "source": [
    "## Feature Selection"
   ]
  },
  {
   "cell_type": "code",
   "execution_count": 10,
   "metadata": {},
   "outputs": [],
   "source": [
    "df = fires[['FIRE_YEAR','DISCOVERY_DATE','STAT_CAUSE_DESCR','FIRE_SIZE','STATE','FIPS_NAME','LATITUDE','LONGITUDE']]"
   ]
  },
  {
   "cell_type": "code",
   "execution_count": 11,
   "metadata": {},
   "outputs": [
    {
     "name": "stdout",
     "output_type": "stream",
     "text": [
      "<class 'pandas.core.frame.DataFrame'>\n",
      "RangeIndex: 1880465 entries, 0 to 1880464\n",
      "Data columns (total 8 columns):\n",
      "FIRE_YEAR           int64\n",
      "DISCOVERY_DATE      float64\n",
      "STAT_CAUSE_DESCR    object\n",
      "FIRE_SIZE           float64\n",
      "STATE               object\n",
      "FIPS_NAME           object\n",
      "LATITUDE            float64\n",
      "LONGITUDE           float64\n",
      "dtypes: float64(4), int64(1), object(3)\n",
      "memory usage: 114.8+ MB\n"
     ]
    }
   ],
   "source": [
    "df.info()"
   ]
  },
  {
   "cell_type": "code",
   "execution_count": 12,
   "metadata": {},
   "outputs": [
    {
     "name": "stdout",
     "output_type": "stream",
     "text": [
      "   FIRE_YEAR  DISCOVERY_DATE STAT_CAUSE_DESCR  FIRE_SIZE STATE  FIPS_NAME  \\\n",
      "0       2005       2453403.5    Miscellaneous       0.10    CA     Plumas   \n",
      "1       2004       2453137.5        Lightning       0.25    CA     Placer   \n",
      "2       2004       2453156.5   Debris Burning       0.10    CA  El Dorado   \n",
      "3       2004       2453184.5        Lightning       0.10    CA     Alpine   \n",
      "4       2004       2453184.5        Lightning       0.10    CA     Alpine   \n",
      "\n",
      "    LATITUDE   LONGITUDE  \n",
      "0  40.036944 -121.005833  \n",
      "1  38.933056 -120.404444  \n",
      "2  38.984167 -120.735556  \n",
      "3  38.559167 -119.913333  \n",
      "4  38.559167 -119.933056  \n"
     ]
    }
   ],
   "source": [
    "#check data\n",
    "print(df.head())"
   ]
  },
  {
   "cell_type": "code",
   "execution_count": 20,
   "metadata": {},
   "outputs": [],
   "source": [
    "#Only look at California\n",
    "cali_df = df[df.STATE == 'CA'] #filter for state"
   ]
  },
  {
   "cell_type": "code",
   "execution_count": 21,
   "metadata": {},
   "outputs": [
    {
     "data": {
      "text/plain": [
       "array(['CA'], dtype=object)"
      ]
     },
     "execution_count": 21,
     "metadata": {},
     "output_type": "execute_result"
    }
   ],
   "source": [
    "#Check that the only state is CA\n",
    "cali_df.STATE.unique()"
   ]
  },
  {
   "cell_type": "code",
   "execution_count": 22,
   "metadata": {},
   "outputs": [
    {
     "data": {
      "text/plain": [
       "(189550, 8)"
      ]
     },
     "execution_count": 22,
     "metadata": {},
     "output_type": "execute_result"
    }
   ],
   "source": [
    "#Data shape\n",
    "cali_df.shape\n",
    "#1.88 million records -> now looking at 189,550."
   ]
  },
  {
   "cell_type": "code",
   "execution_count": 25,
   "metadata": {},
   "outputs": [
    {
     "data": {
      "text/html": [
       "<div>\n",
       "<style scoped>\n",
       "    .dataframe tbody tr th:only-of-type {\n",
       "        vertical-align: middle;\n",
       "    }\n",
       "\n",
       "    .dataframe tbody tr th {\n",
       "        vertical-align: top;\n",
       "    }\n",
       "\n",
       "    .dataframe thead th {\n",
       "        text-align: right;\n",
       "    }\n",
       "</style>\n",
       "<table border=\"1\" class=\"dataframe\">\n",
       "  <thead>\n",
       "    <tr style=\"text-align: right;\">\n",
       "      <th></th>\n",
       "      <th>FIRE_YEAR</th>\n",
       "      <th>DISCOVERY_DATE</th>\n",
       "      <th>STAT_CAUSE_DESCR</th>\n",
       "      <th>FIRE_SIZE</th>\n",
       "      <th>STATE</th>\n",
       "      <th>FIPS_NAME</th>\n",
       "      <th>LATITUDE</th>\n",
       "      <th>LONGITUDE</th>\n",
       "    </tr>\n",
       "  </thead>\n",
       "  <tbody>\n",
       "    <tr>\n",
       "      <td>0</td>\n",
       "      <td>2005</td>\n",
       "      <td>2453403.5</td>\n",
       "      <td>Miscellaneous</td>\n",
       "      <td>0.10</td>\n",
       "      <td>CA</td>\n",
       "      <td>Plumas</td>\n",
       "      <td>40.036944</td>\n",
       "      <td>-121.005833</td>\n",
       "    </tr>\n",
       "    <tr>\n",
       "      <td>1</td>\n",
       "      <td>2004</td>\n",
       "      <td>2453137.5</td>\n",
       "      <td>Lightning</td>\n",
       "      <td>0.25</td>\n",
       "      <td>CA</td>\n",
       "      <td>Placer</td>\n",
       "      <td>38.933056</td>\n",
       "      <td>-120.404444</td>\n",
       "    </tr>\n",
       "    <tr>\n",
       "      <td>2</td>\n",
       "      <td>2004</td>\n",
       "      <td>2453156.5</td>\n",
       "      <td>Debris Burning</td>\n",
       "      <td>0.10</td>\n",
       "      <td>CA</td>\n",
       "      <td>El Dorado</td>\n",
       "      <td>38.984167</td>\n",
       "      <td>-120.735556</td>\n",
       "    </tr>\n",
       "    <tr>\n",
       "      <td>3</td>\n",
       "      <td>2004</td>\n",
       "      <td>2453184.5</td>\n",
       "      <td>Lightning</td>\n",
       "      <td>0.10</td>\n",
       "      <td>CA</td>\n",
       "      <td>Alpine</td>\n",
       "      <td>38.559167</td>\n",
       "      <td>-119.913333</td>\n",
       "    </tr>\n",
       "    <tr>\n",
       "      <td>4</td>\n",
       "      <td>2004</td>\n",
       "      <td>2453184.5</td>\n",
       "      <td>Lightning</td>\n",
       "      <td>0.10</td>\n",
       "      <td>CA</td>\n",
       "      <td>Alpine</td>\n",
       "      <td>38.559167</td>\n",
       "      <td>-119.933056</td>\n",
       "    </tr>\n",
       "    <tr>\n",
       "      <td>...</td>\n",
       "      <td>...</td>\n",
       "      <td>...</td>\n",
       "      <td>...</td>\n",
       "      <td>...</td>\n",
       "      <td>...</td>\n",
       "      <td>...</td>\n",
       "      <td>...</td>\n",
       "      <td>...</td>\n",
       "    </tr>\n",
       "    <tr>\n",
       "      <td>1872300</td>\n",
       "      <td>2015</td>\n",
       "      <td>2457300.5</td>\n",
       "      <td>Missing/Undefined</td>\n",
       "      <td>0.01</td>\n",
       "      <td>CA</td>\n",
       "      <td>Sacramento</td>\n",
       "      <td>38.691628</td>\n",
       "      <td>-121.372908</td>\n",
       "    </tr>\n",
       "    <tr>\n",
       "      <td>1872301</td>\n",
       "      <td>2015</td>\n",
       "      <td>2457316.5</td>\n",
       "      <td>Miscellaneous</td>\n",
       "      <td>0.10</td>\n",
       "      <td>CA</td>\n",
       "      <td>Calaveras</td>\n",
       "      <td>38.172881</td>\n",
       "      <td>-120.801955</td>\n",
       "    </tr>\n",
       "    <tr>\n",
       "      <td>1872302</td>\n",
       "      <td>2015</td>\n",
       "      <td>2457353.5</td>\n",
       "      <td>Miscellaneous</td>\n",
       "      <td>0.10</td>\n",
       "      <td>CA</td>\n",
       "      <td>Riverside</td>\n",
       "      <td>33.919157</td>\n",
       "      <td>-116.882973</td>\n",
       "    </tr>\n",
       "    <tr>\n",
       "      <td>1872303</td>\n",
       "      <td>2015</td>\n",
       "      <td>2457347.5</td>\n",
       "      <td>Debris Burning</td>\n",
       "      <td>0.25</td>\n",
       "      <td>CA</td>\n",
       "      <td>Fresno</td>\n",
       "      <td>37.110917</td>\n",
       "      <td>-119.322918</td>\n",
       "    </tr>\n",
       "    <tr>\n",
       "      <td>1872304</td>\n",
       "      <td>2015</td>\n",
       "      <td>2457302.5</td>\n",
       "      <td>Miscellaneous</td>\n",
       "      <td>0.01</td>\n",
       "      <td>CA</td>\n",
       "      <td>Mendocino</td>\n",
       "      <td>39.365926</td>\n",
       "      <td>-123.233855</td>\n",
       "    </tr>\n",
       "  </tbody>\n",
       "</table>\n",
       "<p>56221 rows × 8 columns</p>\n",
       "</div>"
      ],
      "text/plain": [
       "         FIRE_YEAR  DISCOVERY_DATE   STAT_CAUSE_DESCR  FIRE_SIZE STATE  \\\n",
       "0             2005       2453403.5      Miscellaneous       0.10    CA   \n",
       "1             2004       2453137.5          Lightning       0.25    CA   \n",
       "2             2004       2453156.5     Debris Burning       0.10    CA   \n",
       "3             2004       2453184.5          Lightning       0.10    CA   \n",
       "4             2004       2453184.5          Lightning       0.10    CA   \n",
       "...            ...             ...                ...        ...   ...   \n",
       "1872300       2015       2457300.5  Missing/Undefined       0.01    CA   \n",
       "1872301       2015       2457316.5      Miscellaneous       0.10    CA   \n",
       "1872302       2015       2457353.5      Miscellaneous       0.10    CA   \n",
       "1872303       2015       2457347.5     Debris Burning       0.25    CA   \n",
       "1872304       2015       2457302.5      Miscellaneous       0.01    CA   \n",
       "\n",
       "          FIPS_NAME   LATITUDE   LONGITUDE  \n",
       "0            Plumas  40.036944 -121.005833  \n",
       "1            Placer  38.933056 -120.404444  \n",
       "2         El Dorado  38.984167 -120.735556  \n",
       "3            Alpine  38.559167 -119.913333  \n",
       "4            Alpine  38.559167 -119.933056  \n",
       "...             ...        ...         ...  \n",
       "1872300  Sacramento  38.691628 -121.372908  \n",
       "1872301   Calaveras  38.172881 -120.801955  \n",
       "1872302   Riverside  33.919157 -116.882973  \n",
       "1872303      Fresno  37.110917 -119.322918  \n",
       "1872304   Mendocino  39.365926 -123.233855  \n",
       "\n",
       "[56221 rows x 8 columns]"
      ]
     },
     "execution_count": 25,
     "metadata": {},
     "output_type": "execute_result"
    }
   ],
   "source": [
    "#Drop the 678,148 missing records\n",
    "cali_df.dropna()"
   ]
  },
  {
   "cell_type": "code",
   "execution_count": 30,
   "metadata": {
    "scrolled": true
   },
   "outputs": [
    {
     "data": {
      "text/plain": [
       "Riverside         6925\n",
       "Los Angeles       2703\n",
       "El Dorado         2676\n",
       "San Bernardino    2642\n",
       "San Diego         2443\n",
       "Fresno            2183\n",
       "Siskiyou          2156\n",
       "Shasta            2118\n",
       "Butte             1768\n",
       "Kern              1737\n",
       "Name: FIPS_NAME, dtype: int64"
      ]
     },
     "execution_count": 30,
     "metadata": {},
     "output_type": "execute_result"
    }
   ],
   "source": [
    "#List top 10 counties in CA with most wildfires\n",
    "cali_df['FIPS_NAME'].value_counts().head(10)"
   ]
  },
  {
   "cell_type": "code",
   "execution_count": 161,
   "metadata": {},
   "outputs": [],
   "source": [
    "#Maybe focus on the \"Top X\" Counties\n",
    "#For now, focus on these Top 10"
   ]
  },
  {
   "cell_type": "code",
   "execution_count": 31,
   "metadata": {},
   "outputs": [],
   "source": [
    "top10_county = cali_df[cali_df['FIPS_NAME'].isin(['Riverside', 'Los Angeles','El Dorado','San Bernardino','San Diego',\n",
    "                                              'Fresno','Siskiyou','Shasta','Butte', 'Kern'])]"
   ]
  },
  {
   "cell_type": "code",
   "execution_count": 32,
   "metadata": {},
   "outputs": [
    {
     "data": {
      "text/plain": [
       "(27351, 8)"
      ]
     },
     "execution_count": 32,
     "metadata": {},
     "output_type": "execute_result"
    }
   ],
   "source": [
    "top10_county.shape"
   ]
  },
  {
   "cell_type": "code",
   "execution_count": 33,
   "metadata": {},
   "outputs": [
    {
     "data": {
      "text/html": [
       "<div>\n",
       "<style scoped>\n",
       "    .dataframe tbody tr th:only-of-type {\n",
       "        vertical-align: middle;\n",
       "    }\n",
       "\n",
       "    .dataframe tbody tr th {\n",
       "        vertical-align: top;\n",
       "    }\n",
       "\n",
       "    .dataframe thead th {\n",
       "        text-align: right;\n",
       "    }\n",
       "</style>\n",
       "<table border=\"1\" class=\"dataframe\">\n",
       "  <thead>\n",
       "    <tr style=\"text-align: right;\">\n",
       "      <th></th>\n",
       "      <th>FIRE_YEAR</th>\n",
       "      <th>DISCOVERY_DATE</th>\n",
       "      <th>STAT_CAUSE_DESCR</th>\n",
       "      <th>FIRE_SIZE</th>\n",
       "      <th>STATE</th>\n",
       "      <th>FIPS_NAME</th>\n",
       "      <th>LATITUDE</th>\n",
       "      <th>LONGITUDE</th>\n",
       "    </tr>\n",
       "  </thead>\n",
       "  <tbody>\n",
       "    <tr>\n",
       "      <td>2</td>\n",
       "      <td>2004</td>\n",
       "      <td>2453156.5</td>\n",
       "      <td>Debris Burning</td>\n",
       "      <td>0.10</td>\n",
       "      <td>CA</td>\n",
       "      <td>El Dorado</td>\n",
       "      <td>38.984167</td>\n",
       "      <td>-120.735556</td>\n",
       "    </tr>\n",
       "    <tr>\n",
       "      <td>6</td>\n",
       "      <td>2004</td>\n",
       "      <td>2453187.5</td>\n",
       "      <td>Lightning</td>\n",
       "      <td>0.10</td>\n",
       "      <td>CA</td>\n",
       "      <td>El Dorado</td>\n",
       "      <td>38.688333</td>\n",
       "      <td>-120.153333</td>\n",
       "    </tr>\n",
       "    <tr>\n",
       "      <td>10</td>\n",
       "      <td>2004</td>\n",
       "      <td>2453188.5</td>\n",
       "      <td>Lightning</td>\n",
       "      <td>0.10</td>\n",
       "      <td>CA</td>\n",
       "      <td>El Dorado</td>\n",
       "      <td>38.691667</td>\n",
       "      <td>-120.159722</td>\n",
       "    </tr>\n",
       "    <tr>\n",
       "      <td>12</td>\n",
       "      <td>2004</td>\n",
       "      <td>2453251.5</td>\n",
       "      <td>Miscellaneous</td>\n",
       "      <td>0.10</td>\n",
       "      <td>CA</td>\n",
       "      <td>El Dorado</td>\n",
       "      <td>38.786667</td>\n",
       "      <td>-120.193333</td>\n",
       "    </tr>\n",
       "    <tr>\n",
       "      <td>14</td>\n",
       "      <td>2004</td>\n",
       "      <td>2453281.5</td>\n",
       "      <td>Lightning</td>\n",
       "      <td>0.20</td>\n",
       "      <td>CA</td>\n",
       "      <td>El Dorado</td>\n",
       "      <td>38.675833</td>\n",
       "      <td>-120.279722</td>\n",
       "    </tr>\n",
       "    <tr>\n",
       "      <td>...</td>\n",
       "      <td>...</td>\n",
       "      <td>...</td>\n",
       "      <td>...</td>\n",
       "      <td>...</td>\n",
       "      <td>...</td>\n",
       "      <td>...</td>\n",
       "      <td>...</td>\n",
       "      <td>...</td>\n",
       "    </tr>\n",
       "    <tr>\n",
       "      <td>1872295</td>\n",
       "      <td>2015</td>\n",
       "      <td>2457332.5</td>\n",
       "      <td>Debris Burning</td>\n",
       "      <td>9.90</td>\n",
       "      <td>CA</td>\n",
       "      <td>Fresno</td>\n",
       "      <td>36.945877</td>\n",
       "      <td>-119.503609</td>\n",
       "    </tr>\n",
       "    <tr>\n",
       "      <td>1872296</td>\n",
       "      <td>2015</td>\n",
       "      <td>2457300.5</td>\n",
       "      <td>Missing/Undefined</td>\n",
       "      <td>0.01</td>\n",
       "      <td>CA</td>\n",
       "      <td>Riverside</td>\n",
       "      <td>33.789728</td>\n",
       "      <td>-117.255233</td>\n",
       "    </tr>\n",
       "    <tr>\n",
       "      <td>1872298</td>\n",
       "      <td>2015</td>\n",
       "      <td>2457367.5</td>\n",
       "      <td>Missing/Undefined</td>\n",
       "      <td>0.02</td>\n",
       "      <td>CA</td>\n",
       "      <td>Riverside</td>\n",
       "      <td>33.709175</td>\n",
       "      <td>-116.179773</td>\n",
       "    </tr>\n",
       "    <tr>\n",
       "      <td>1872302</td>\n",
       "      <td>2015</td>\n",
       "      <td>2457353.5</td>\n",
       "      <td>Miscellaneous</td>\n",
       "      <td>0.10</td>\n",
       "      <td>CA</td>\n",
       "      <td>Riverside</td>\n",
       "      <td>33.919157</td>\n",
       "      <td>-116.882973</td>\n",
       "    </tr>\n",
       "    <tr>\n",
       "      <td>1872303</td>\n",
       "      <td>2015</td>\n",
       "      <td>2457347.5</td>\n",
       "      <td>Debris Burning</td>\n",
       "      <td>0.25</td>\n",
       "      <td>CA</td>\n",
       "      <td>Fresno</td>\n",
       "      <td>37.110917</td>\n",
       "      <td>-119.322918</td>\n",
       "    </tr>\n",
       "  </tbody>\n",
       "</table>\n",
       "<p>27351 rows × 8 columns</p>\n",
       "</div>"
      ],
      "text/plain": [
       "         FIRE_YEAR  DISCOVERY_DATE   STAT_CAUSE_DESCR  FIRE_SIZE STATE  \\\n",
       "2             2004       2453156.5     Debris Burning       0.10    CA   \n",
       "6             2004       2453187.5          Lightning       0.10    CA   \n",
       "10            2004       2453188.5          Lightning       0.10    CA   \n",
       "12            2004       2453251.5      Miscellaneous       0.10    CA   \n",
       "14            2004       2453281.5          Lightning       0.20    CA   \n",
       "...            ...             ...                ...        ...   ...   \n",
       "1872295       2015       2457332.5     Debris Burning       9.90    CA   \n",
       "1872296       2015       2457300.5  Missing/Undefined       0.01    CA   \n",
       "1872298       2015       2457367.5  Missing/Undefined       0.02    CA   \n",
       "1872302       2015       2457353.5      Miscellaneous       0.10    CA   \n",
       "1872303       2015       2457347.5     Debris Burning       0.25    CA   \n",
       "\n",
       "         FIPS_NAME   LATITUDE   LONGITUDE  \n",
       "2        El Dorado  38.984167 -120.735556  \n",
       "6        El Dorado  38.688333 -120.153333  \n",
       "10       El Dorado  38.691667 -120.159722  \n",
       "12       El Dorado  38.786667 -120.193333  \n",
       "14       El Dorado  38.675833 -120.279722  \n",
       "...            ...        ...         ...  \n",
       "1872295     Fresno  36.945877 -119.503609  \n",
       "1872296  Riverside  33.789728 -117.255233  \n",
       "1872298  Riverside  33.709175 -116.179773  \n",
       "1872302  Riverside  33.919157 -116.882973  \n",
       "1872303     Fresno  37.110917 -119.322918  \n",
       "\n",
       "[27351 rows x 8 columns]"
      ]
     },
     "execution_count": 33,
     "metadata": {},
     "output_type": "execute_result"
    }
   ],
   "source": [
    "top10_county"
   ]
  },
  {
   "cell_type": "code",
   "execution_count": 34,
   "metadata": {},
   "outputs": [
    {
     "data": {
      "text/plain": [
       "min    1997.0\n",
       "max    2015.0\n",
       "Name: FIRE_YEAR, dtype: float64"
      ]
     },
     "execution_count": 34,
     "metadata": {},
     "output_type": "execute_result"
    }
   ],
   "source": [
    "#Find Min and Max Year\n",
    "top10_county.FIRE_YEAR.describe()[['min','max']]\n",
    "#Train on 1997-2014\n",
    "#Test on 2015 data"
   ]
  },
  {
   "cell_type": "code",
   "execution_count": null,
   "metadata": {},
   "outputs": [],
   "source": [
    "# Problem 1: Which county will the fire occur in? \n",
    "# Can the machine predict which county the wildfire will occur given data such as location, day of week, etc."
   ]
  },
  {
   "cell_type": "code",
   "execution_count": 2,
   "metadata": {},
   "outputs": [
    {
     "ename": "NameError",
     "evalue": "name 'top10_county' is not defined",
     "output_type": "error",
     "traceback": [
      "\u001b[1;31m---------------------------------------------------------------------------\u001b[0m",
      "\u001b[1;31mNameError\u001b[0m                                 Traceback (most recent call last)",
      "\u001b[1;32m<ipython-input-2-52cd6fa04489>\u001b[0m in \u001b[0;36m<module>\u001b[1;34m\u001b[0m\n\u001b[0;32m      1\u001b[0m \u001b[1;31m# Drop Latitude and Longitude, which defeats the purpose of predicting location of wildfire and State (not needed here)\u001b[0m\u001b[1;33m\u001b[0m\u001b[1;33m\u001b[0m\u001b[1;33m\u001b[0m\u001b[0m\n\u001b[1;32m----> 2\u001b[1;33m \u001b[0mtest1\u001b[0m \u001b[1;33m=\u001b[0m \u001b[0mtop10_county\u001b[0m\u001b[1;33m.\u001b[0m\u001b[0mdrop\u001b[0m\u001b[1;33m(\u001b[0m\u001b[0mcolumns\u001b[0m\u001b[1;33m=\u001b[0m\u001b[1;33m[\u001b[0m\u001b[1;34m'LATITUDE'\u001b[0m\u001b[1;33m,\u001b[0m\u001b[1;34m'LONGITUDE'\u001b[0m\u001b[1;33m,\u001b[0m\u001b[1;34m'STATE'\u001b[0m\u001b[1;33m]\u001b[0m\u001b[1;33m)\u001b[0m\u001b[1;33m\u001b[0m\u001b[1;33m\u001b[0m\u001b[0m\n\u001b[0m\u001b[0;32m      3\u001b[0m \u001b[0mtest1\u001b[0m\u001b[1;33m\u001b[0m\u001b[1;33m\u001b[0m\u001b[0m\n",
      "\u001b[1;31mNameError\u001b[0m: name 'top10_county' is not defined"
     ]
    }
   ],
   "source": [
    "# Drop Latitude and Longitude, which defeats the purpose of predicting location of wildfire and State (not needed here)\n",
    "test1 = top10_county.drop(columns=['LATITUDE','LONGITUDE','STATE'])\n",
    "test1"
   ]
  },
  {
   "cell_type": "code",
   "execution_count": 68,
   "metadata": {},
   "outputs": [],
   "source": [
    "#Use LabelEncoder to dummy encode STAT_CAUSE_DESCR & FIPS_NAME\n",
    "from sklearn.preprocessing import LabelEncoder\n",
    "le = LabelEncoder()\n",
    "test1['STAT_CAUSE_DESCR'] = le.fit_transform(test1['STAT_CAUSE_DESCR']) #STAT_CAUSE_DESCR : cause of fire\n",
    "test1['FIPS_NAME'] = le.fit_transform(test1['FIPS_NAME']) #FIPS_NAME : county name\n",
    "#test1"
   ]
  },
  {
   "cell_type": "code",
   "execution_count": 72,
   "metadata": {},
   "outputs": [],
   "source": [
    "#Standardize data (features have different scales/units)\n",
    "from sklearn.preprocessing import StandardScaler\n",
    "\n",
    "scaled_test1 = test1.copy()\n",
    "col_names = ['FIRE_YEAR', 'DISCOVERY_DATE','FIRE_SIZE'] #Don't include STAT_CAUSE_DESCR & FIPS_NAME : the dummy encoded ones\n",
    "features = scaled_test1[col_names]\n",
    "scaler = StandardScaler().fit(features.values)\n",
    "features = scaler.transform(features.values)"
   ]
  },
  {
   "cell_type": "code",
   "execution_count": 73,
   "metadata": {},
   "outputs": [
    {
     "name": "stdout",
     "output_type": "stream",
     "text": [
      "         FIRE_YEAR  DISCOVERY_DATE  STAT_CAUSE_DESCR  FIRE_SIZE  FIPS_NAME\n",
      "2        -0.976623       -1.001333                 3  -0.040807          1\n",
      "6        -0.976623       -0.984110                 6  -0.040807          1\n",
      "10       -0.976623       -0.983554                 6  -0.040807          1\n",
      "12       -0.976623       -0.948553                 7  -0.040807          1\n",
      "14       -0.976623       -0.931886                 6  -0.040765          1\n",
      "...            ...             ...               ...        ...        ...\n",
      "1872295   1.252841        1.318751                 3  -0.036757          2\n",
      "1872296   1.252841        1.300973                 8  -0.040844          5\n",
      "1872298   1.252841        1.338197                 8  -0.040840          5\n",
      "1872302   1.252841        1.330419                 7  -0.040807          5\n",
      "1872303   1.252841        1.327085                 3  -0.040745          2\n",
      "\n",
      "[27351 rows x 5 columns]\n"
     ]
    }
   ],
   "source": [
    "#Assign results to those three columns\n",
    "scaled_test1[col_names] = features\n",
    "print(scaled_test1)"
   ]
  },
  {
   "cell_type": "code",
   "execution_count": 74,
   "metadata": {},
   "outputs": [],
   "source": [
    "##Partitioning Data\n",
    "X = scaled_test1.drop(['FIPS_NAME'], axis=1).values\n",
    "y = scaled_test1['FIPS_NAME'].values"
   ]
  },
  {
   "cell_type": "code",
   "execution_count": 76,
   "metadata": {},
   "outputs": [],
   "source": [
    "from sklearn.model_selection import train_test_split\n",
    "X_train, X_test, y_train, y_test = train_test_split(X,y,test_size=0.3, random_state=0) #30% for testing, 70% for training"
   ]
  },
  {
   "cell_type": "code",
   "execution_count": 79,
   "metadata": {},
   "outputs": [
    {
     "name": "stdout",
     "output_type": "stream",
     "text": [
      "0.32451864489398\n"
     ]
    }
   ],
   "source": [
    "#Random Forest\n",
    "from sklearn.ensemble import RandomForestClassifier\n",
    "rf_clsf = RandomForestClassifier(n_estimators=50)\n",
    "rf_clsf = rf_clsf.fit(X_train, y_train)\n",
    "print(rf_clsf.score(X_test,y_test))"
   ]
  },
  {
   "cell_type": "code",
   "execution_count": 81,
   "metadata": {},
   "outputs": [
    {
     "data": {
      "text/plain": [
       "array([ 3,  6,  7,  4,  0,  1,  2, 10, 11,  9,  8,  5, 12], dtype=int64)"
      ]
     },
     "execution_count": 81,
     "metadata": {},
     "output_type": "execute_result"
    }
   ],
   "source": [
    "#Try predicting cause of wildfire\n",
    "scaled_test1.STAT_CAUSE_DESCR.unique() #There seems to be 13 causes for these top 10 counties."
   ]
  },
  {
   "cell_type": "code",
   "execution_count": 82,
   "metadata": {},
   "outputs": [],
   "source": [
    "##Partitioning Data (2)\n",
    "X = scaled_test1.drop(['STAT_CAUSE_DESCR'], axis=1).values\n",
    "y = scaled_test1['STAT_CAUSE_DESCR'].values"
   ]
  },
  {
   "cell_type": "code",
   "execution_count": 84,
   "metadata": {},
   "outputs": [],
   "source": [
    "X_train, X_test, y_train, y_test = train_test_split(X,y,test_size=0.3, random_state=0) #30% for testing, 70% for training"
   ]
  },
  {
   "cell_type": "code",
   "execution_count": 85,
   "metadata": {},
   "outputs": [
    {
     "name": "stdout",
     "output_type": "stream",
     "text": [
      "0.36010236412381186\n"
     ]
    }
   ],
   "source": [
    "#Random Forest (2)\n",
    "rf_clsf = RandomForestClassifier(n_estimators=50)\n",
    "rf_clsf = rf_clsf.fit(X_train, y_train)\n",
    "print(rf_clsf.score(X_test,y_test))"
   ]
  },
  {
   "cell_type": "code",
   "execution_count": 89,
   "metadata": {},
   "outputs": [],
   "source": [
    "## Only include numeric columns (drop the other dummy encoded variable)\n",
    "scaled_test1a = scaled_test1.drop(columns=['STAT_CAUSE_DESCR'])\n",
    "##Partitioning Data (3)\n",
    "X = scaled_test1a.drop(['FIPS_NAME'], axis=1).values\n",
    "y = scaled_test1a['FIPS_NAME'].values"
   ]
  },
  {
   "cell_type": "code",
   "execution_count": 90,
   "metadata": {},
   "outputs": [],
   "source": [
    "X_train, X_test, y_train, y_test = train_test_split(X,y,test_size=0.3, random_state=0) #30% for testing, 70% for training"
   ]
  },
  {
   "cell_type": "code",
   "execution_count": 91,
   "metadata": {},
   "outputs": [
    {
     "name": "stdout",
     "output_type": "stream",
     "text": [
      "0.271996100414331\n"
     ]
    }
   ],
   "source": [
    "#Random Forest (3)\n",
    "rf_clsf = RandomForestClassifier(n_estimators=50)\n",
    "rf_clsf = rf_clsf.fit(X_train, y_train)\n",
    "print(rf_clsf.score(X_test,y_test))"
   ]
  },
  {
   "cell_type": "code",
   "execution_count": 93,
   "metadata": {},
   "outputs": [],
   "source": [
    "## Only include numeric columns (drop the other dummy encoded variable) #2\n",
    "scaled_test1b = scaled_test1.drop(columns=['FIPS_NAME'])\n",
    "##Partitioning Data ()\n",
    "X = scaled_test1b.drop(['STAT_CAUSE_DESCR'], axis=1).values\n",
    "y = scaled_test1b['STAT_CAUSE_DESCR'].values"
   ]
  },
  {
   "cell_type": "code",
   "execution_count": 94,
   "metadata": {},
   "outputs": [],
   "source": [
    "X_train, X_test, y_train, y_test = train_test_split(X,y,test_size=0.3, random_state=0) #30% for testing, 70% for training"
   ]
  },
  {
   "cell_type": "code",
   "execution_count": 95,
   "metadata": {},
   "outputs": [
    {
     "name": "stdout",
     "output_type": "stream",
     "text": [
      "0.30246161345357053\n"
     ]
    }
   ],
   "source": [
    "#Random Forest (4)\n",
    "rf_clsf = RandomForestClassifier(n_estimators=50)\n",
    "rf_clsf = rf_clsf.fit(X_train, y_train)\n",
    "print(rf_clsf.score(X_test,y_test))"
   ]
  },
  {
   "cell_type": "code",
   "execution_count": null,
   "metadata": {},
   "outputs": [],
   "source": []
  }
 ],
 "metadata": {
  "kernelspec": {
   "display_name": "Python 3",
   "language": "python",
   "name": "python3"
  },
  "language_info": {
   "codemirror_mode": {
    "name": "ipython",
    "version": 3
   },
   "file_extension": ".py",
   "mimetype": "text/x-python",
   "name": "python",
   "nbconvert_exporter": "python",
   "pygments_lexer": "ipython3",
   "version": "3.7.3"
  }
 },
 "nbformat": 4,
 "nbformat_minor": 2
}

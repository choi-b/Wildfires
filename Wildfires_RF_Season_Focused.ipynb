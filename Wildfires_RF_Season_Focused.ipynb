{
 "cells": [
  {
   "cell_type": "code",
   "execution_count": 1,
   "metadata": {},
   "outputs": [],
   "source": [
    "## Import Libraries ##\n",
    "import numpy as np\n",
    "import matplotlib.pyplot as plt\n",
    "from matplotlib.ticker import NullFormatter\n",
    "import pandas as pd\n",
    "import numpy as np\n",
    "import matplotlib.ticker as ticker\n",
    "from sklearn import preprocessing\n",
    "from sklearn.preprocessing import StandardScaler\n",
    "\n",
    "from sklearn.feature_extraction import DictVectorizer\n",
    "%matplotlib inline"
   ]
  },
  {
   "cell_type": "markdown",
   "metadata": {},
   "source": [
    "## Pull in Data (csv)"
   ]
  },
  {
   "cell_type": "code",
   "execution_count": 2,
   "metadata": {},
   "outputs": [
    {
     "name": "stderr",
     "output_type": "stream",
     "text": [
      "C:\\Users\\604906\\AppData\\Local\\Continuum\\anaconda3\\lib\\site-packages\\IPython\\core\\interactiveshell.py:3058: DtypeWarning: Columns (5,11,15,17) have mixed types. Specify dtype option on import or set low_memory=False.\n",
      "  interactivity=interactivity, compiler=compiler, result=result)\n"
     ]
    }
   ],
   "source": [
    "fires = pd.read_csv('fires_with_climate.csv')\n"
   ]
  },
  {
   "cell_type": "markdown",
   "metadata": {},
   "source": [
    "## Feature Exploration"
   ]
  },
  {
   "cell_type": "code",
   "execution_count": 3,
   "metadata": {},
   "outputs": [
    {
     "name": "stdout",
     "output_type": "stream",
     "text": [
      "<class 'pandas.core.frame.DataFrame'>\n",
      "RangeIndex: 1880465 entries, 0 to 1880464\n",
      "Data columns (total 18 columns):\n",
      "FIRE_YEAR           int64\n",
      "DISCOVERY_DATE      object\n",
      "DISCOVERY_MONTH     object\n",
      "DISCOVERY_DOY       int64\n",
      "DISCOVERY_TIME      float64\n",
      "CONT_DATE           object\n",
      "CONT_TIME           float64\n",
      "STAT_CAUSE_DESCR    object\n",
      "FIRE_SIZE           float64\n",
      "FIRE_SIZE_CLASS     object\n",
      "STATE               object\n",
      "FIPS_NAME           object\n",
      "LATITUDE            float64\n",
      "LONGITUDE           float64\n",
      "FOD_ID              int64\n",
      "CLIMATE             object\n",
      "CLIMATE_ZONE        float64\n",
      "MOISTURE            object\n",
      "dtypes: float64(6), int64(3), object(9)\n",
      "memory usage: 258.2+ MB\n"
     ]
    }
   ],
   "source": [
    "fires.info()"
   ]
  },
  {
   "cell_type": "code",
   "execution_count": 4,
   "metadata": {},
   "outputs": [
    {
     "data": {
      "text/html": [
       "<div>\n",
       "<style scoped>\n",
       "    .dataframe tbody tr th:only-of-type {\n",
       "        vertical-align: middle;\n",
       "    }\n",
       "\n",
       "    .dataframe tbody tr th {\n",
       "        vertical-align: top;\n",
       "    }\n",
       "\n",
       "    .dataframe thead th {\n",
       "        text-align: right;\n",
       "    }\n",
       "</style>\n",
       "<table border=\"1\" class=\"dataframe\">\n",
       "  <thead>\n",
       "    <tr style=\"text-align: right;\">\n",
       "      <th></th>\n",
       "      <th>FIRE_YEAR</th>\n",
       "      <th>DISCOVERY_DATE</th>\n",
       "      <th>DISCOVERY_MONTH</th>\n",
       "      <th>DISCOVERY_DOY</th>\n",
       "      <th>DISCOVERY_TIME</th>\n",
       "      <th>CONT_DATE</th>\n",
       "      <th>CONT_TIME</th>\n",
       "      <th>STAT_CAUSE_DESCR</th>\n",
       "      <th>FIRE_SIZE</th>\n",
       "      <th>FIRE_SIZE_CLASS</th>\n",
       "      <th>STATE</th>\n",
       "      <th>FIPS_NAME</th>\n",
       "      <th>LATITUDE</th>\n",
       "      <th>LONGITUDE</th>\n",
       "      <th>FOD_ID</th>\n",
       "      <th>CLIMATE</th>\n",
       "      <th>CLIMATE_ZONE</th>\n",
       "      <th>MOISTURE</th>\n",
       "    </tr>\n",
       "  </thead>\n",
       "  <tbody>\n",
       "    <tr>\n",
       "      <td>0</td>\n",
       "      <td>2005</td>\n",
       "      <td>2005-02-02</td>\n",
       "      <td>February</td>\n",
       "      <td>33</td>\n",
       "      <td>1300.0</td>\n",
       "      <td>2005-02-02</td>\n",
       "      <td>1730.0</td>\n",
       "      <td>Miscellaneous</td>\n",
       "      <td>0.10</td>\n",
       "      <td>A</td>\n",
       "      <td>CA</td>\n",
       "      <td>Plumas</td>\n",
       "      <td>40.036944</td>\n",
       "      <td>-121.005833</td>\n",
       "      <td>1</td>\n",
       "      <td>Cold</td>\n",
       "      <td>5.0</td>\n",
       "      <td>B</td>\n",
       "    </tr>\n",
       "    <tr>\n",
       "      <td>1</td>\n",
       "      <td>2004</td>\n",
       "      <td>2004-05-12</td>\n",
       "      <td>May</td>\n",
       "      <td>133</td>\n",
       "      <td>845.0</td>\n",
       "      <td>2004-05-12</td>\n",
       "      <td>1530.0</td>\n",
       "      <td>Lightning</td>\n",
       "      <td>0.25</td>\n",
       "      <td>A</td>\n",
       "      <td>CA</td>\n",
       "      <td>Placer</td>\n",
       "      <td>38.933056</td>\n",
       "      <td>-120.404444</td>\n",
       "      <td>2</td>\n",
       "      <td>Hot-Dry</td>\n",
       "      <td>3.0</td>\n",
       "      <td>B</td>\n",
       "    </tr>\n",
       "    <tr>\n",
       "      <td>2</td>\n",
       "      <td>2004</td>\n",
       "      <td>2004-05-31</td>\n",
       "      <td>May</td>\n",
       "      <td>152</td>\n",
       "      <td>1921.0</td>\n",
       "      <td>2004-05-31</td>\n",
       "      <td>2024.0</td>\n",
       "      <td>Debris Burning</td>\n",
       "      <td>0.10</td>\n",
       "      <td>A</td>\n",
       "      <td>CA</td>\n",
       "      <td>El Dorado</td>\n",
       "      <td>38.984167</td>\n",
       "      <td>-120.735556</td>\n",
       "      <td>3</td>\n",
       "      <td>Mixed-Dry</td>\n",
       "      <td>4.0</td>\n",
       "      <td>B</td>\n",
       "    </tr>\n",
       "    <tr>\n",
       "      <td>3</td>\n",
       "      <td>2004</td>\n",
       "      <td>2004-06-28</td>\n",
       "      <td>June</td>\n",
       "      <td>180</td>\n",
       "      <td>1600.0</td>\n",
       "      <td>2004-07-03</td>\n",
       "      <td>1400.0</td>\n",
       "      <td>Lightning</td>\n",
       "      <td>0.10</td>\n",
       "      <td>A</td>\n",
       "      <td>CA</td>\n",
       "      <td>Alpine</td>\n",
       "      <td>38.559167</td>\n",
       "      <td>-119.913333</td>\n",
       "      <td>4</td>\n",
       "      <td>Cold</td>\n",
       "      <td>6.0</td>\n",
       "      <td>B</td>\n",
       "    </tr>\n",
       "    <tr>\n",
       "      <td>4</td>\n",
       "      <td>2004</td>\n",
       "      <td>2004-06-28</td>\n",
       "      <td>June</td>\n",
       "      <td>180</td>\n",
       "      <td>1600.0</td>\n",
       "      <td>2004-07-03</td>\n",
       "      <td>1200.0</td>\n",
       "      <td>Lightning</td>\n",
       "      <td>0.10</td>\n",
       "      <td>A</td>\n",
       "      <td>CA</td>\n",
       "      <td>Alpine</td>\n",
       "      <td>38.559167</td>\n",
       "      <td>-119.933056</td>\n",
       "      <td>5</td>\n",
       "      <td>Cold</td>\n",
       "      <td>6.0</td>\n",
       "      <td>B</td>\n",
       "    </tr>\n",
       "  </tbody>\n",
       "</table>\n",
       "</div>"
      ],
      "text/plain": [
       "   FIRE_YEAR DISCOVERY_DATE DISCOVERY_MONTH  DISCOVERY_DOY  DISCOVERY_TIME  \\\n",
       "0       2005     2005-02-02        February             33          1300.0   \n",
       "1       2004     2004-05-12             May            133           845.0   \n",
       "2       2004     2004-05-31             May            152          1921.0   \n",
       "3       2004     2004-06-28            June            180          1600.0   \n",
       "4       2004     2004-06-28            June            180          1600.0   \n",
       "\n",
       "    CONT_DATE  CONT_TIME STAT_CAUSE_DESCR  FIRE_SIZE FIRE_SIZE_CLASS STATE  \\\n",
       "0  2005-02-02     1730.0    Miscellaneous       0.10               A    CA   \n",
       "1  2004-05-12     1530.0        Lightning       0.25               A    CA   \n",
       "2  2004-05-31     2024.0   Debris Burning       0.10               A    CA   \n",
       "3  2004-07-03     1400.0        Lightning       0.10               A    CA   \n",
       "4  2004-07-03     1200.0        Lightning       0.10               A    CA   \n",
       "\n",
       "   FIPS_NAME   LATITUDE   LONGITUDE  FOD_ID    CLIMATE  CLIMATE_ZONE MOISTURE  \n",
       "0     Plumas  40.036944 -121.005833       1       Cold           5.0        B  \n",
       "1     Placer  38.933056 -120.404444       2    Hot-Dry           3.0        B  \n",
       "2  El Dorado  38.984167 -120.735556       3  Mixed-Dry           4.0        B  \n",
       "3     Alpine  38.559167 -119.913333       4       Cold           6.0        B  \n",
       "4     Alpine  38.559167 -119.933056       5       Cold           6.0        B  "
      ]
     },
     "execution_count": 4,
     "metadata": {},
     "output_type": "execute_result"
    }
   ],
   "source": [
    "fires.head(5)"
   ]
  },
  {
   "cell_type": "code",
   "execution_count": 5,
   "metadata": {},
   "outputs": [
    {
     "name": "stdout",
     "output_type": "stream",
     "text": [
      "   FIRE_YEAR DISCOVERY_DATE DISCOVERY_MONTH  DISCOVERY_DOY  DISCOVERY_TIME  \\\n",
      "0       2005     2005-02-02        February             33          1300.0   \n",
      "1       2004     2004-05-12             May            133           845.0   \n",
      "2       2004     2004-05-31             May            152          1921.0   \n",
      "3       2004     2004-06-28            June            180          1600.0   \n",
      "4       2004     2004-06-28            June            180          1600.0   \n",
      "\n",
      "    CONT_DATE  CONT_TIME STAT_CAUSE_DESCR  FIRE_SIZE FIRE_SIZE_CLASS STATE  \\\n",
      "0  2005-02-02     1730.0    Miscellaneous       0.10               A    CA   \n",
      "1  2004-05-12     1530.0        Lightning       0.25               A    CA   \n",
      "2  2004-05-31     2024.0   Debris Burning       0.10               A    CA   \n",
      "3  2004-07-03     1400.0        Lightning       0.10               A    CA   \n",
      "4  2004-07-03     1200.0        Lightning       0.10               A    CA   \n",
      "\n",
      "   FIPS_NAME   LATITUDE   LONGITUDE  FOD_ID    CLIMATE  CLIMATE_ZONE MOISTURE  \\\n",
      "0     Plumas  40.036944 -121.005833       1       Cold           5.0        B   \n",
      "1     Placer  38.933056 -120.404444       2    Hot-Dry           3.0        B   \n",
      "2  El Dorado  38.984167 -120.735556       3  Mixed-Dry           4.0        B   \n",
      "3     Alpine  38.559167 -119.913333       4       Cold           6.0        B   \n",
      "4     Alpine  38.559167 -119.933056       5       Cold           6.0        B   \n",
      "\n",
      "   SEASON  \n",
      "0  Winter  \n",
      "1  Spring  \n",
      "2  Spring  \n",
      "3  Summer  \n",
      "4  Summer  \n"
     ]
    }
   ],
   "source": [
    "SEASON = []\n",
    "\n",
    "for row in fires['DISCOVERY_MONTH']:\n",
    "    \n",
    "    if row in ['March', 'April', 'May']:\n",
    "        SEASON.append('Spring')\n",
    "        \n",
    "    elif row in ['June', 'July', 'August']:\n",
    "        SEASON.append('Summer')\n",
    "    \n",
    "    elif row in ['September','October','November']:\n",
    "        SEASON.append('Fall')\n",
    "\n",
    "    else: \n",
    "        SEASON.append('Winter')\n",
    "    \n",
    "\n",
    "fires['SEASON'] = SEASON\n",
    "print(fires.head())"
   ]
  },
  {
   "cell_type": "code",
   "execution_count": 6,
   "metadata": {},
   "outputs": [
    {
     "data": {
      "text/plain": [
       "Spring    636120\n",
       "Summer    609252\n",
       "Fall      330694\n",
       "Winter    304399\n",
       "Name: SEASON, dtype: int64"
      ]
     },
     "execution_count": 6,
     "metadata": {},
     "output_type": "execute_result"
    }
   ],
   "source": [
    "fires['SEASON'].value_counts()\n",
    "#Spring 636,120\n",
    "#Summer 609,252\n",
    "#Fall 330,694\n",
    "#Winter 304,399"
   ]
  },
  {
   "cell_type": "code",
   "execution_count": 7,
   "metadata": {},
   "outputs": [
    {
     "data": {
      "text/plain": [
       "FIRE_YEAR                0\n",
       "DISCOVERY_DATE           0\n",
       "DISCOVERY_MONTH          0\n",
       "DISCOVERY_DOY            0\n",
       "DISCOVERY_TIME      882638\n",
       "CONT_DATE           891531\n",
       "CONT_TIME           972553\n",
       "STAT_CAUSE_DESCR         0\n",
       "FIRE_SIZE                0\n",
       "FIRE_SIZE_CLASS          0\n",
       "STATE                    0\n",
       "FIPS_NAME           678148\n",
       "LATITUDE                 0\n",
       "LONGITUDE                0\n",
       "FOD_ID                   0\n",
       "CLIMATE             679576\n",
       "CLIMATE_ZONE        679576\n",
       "MOISTURE            679886\n",
       "SEASON                   0\n",
       "dtype: int64"
      ]
     },
     "execution_count": 7,
     "metadata": {},
     "output_type": "execute_result"
    }
   ],
   "source": [
    "fires.isnull().sum()"
   ]
  },
  {
   "cell_type": "code",
   "execution_count": 8,
   "metadata": {},
   "outputs": [],
   "source": [
    "#new df, rows with any null dropped\n",
    "fires = fires.dropna()"
   ]
  },
  {
   "cell_type": "code",
   "execution_count": 9,
   "metadata": {},
   "outputs": [
    {
     "data": {
      "text/plain": [
       "July         76499\n",
       "April        73320\n",
       "March        72592\n",
       "August       68584\n",
       "May          50855\n",
       "June         48893\n",
       "February     45482\n",
       "September    38063\n",
       "November     31946\n",
       "October      31545\n",
       "January      26714\n",
       "December     15967\n",
       "Name: DISCOVERY_MONTH, dtype: int64"
      ]
     },
     "execution_count": 9,
     "metadata": {},
     "output_type": "execute_result"
    }
   ],
   "source": [
    "fires['DISCOVERY_MONTH'].value_counts()"
   ]
  },
  {
   "cell_type": "code",
   "execution_count": 10,
   "metadata": {},
   "outputs": [
    {
     "name": "stdout",
     "output_type": "stream",
     "text": [
      "   FIRE_YEAR DISCOVERY_MONTH  DISCOVERY_DOY  DISCOVERY_TIME  CONT_TIME  \\\n",
      "0       2005        February             33          1300.0     1730.0   \n",
      "1       2004             May            133           845.0     1530.0   \n",
      "2       2004             May            152          1921.0     2024.0   \n",
      "3       2004            June            180          1600.0     1400.0   \n",
      "4       2004            June            180          1600.0     1200.0   \n",
      "\n",
      "  STAT_CAUSE_DESCR  FIRE_SIZE FIRE_SIZE_CLASS   LATITUDE   LONGITUDE  \\\n",
      "0    Miscellaneous       0.10               A  40.036944 -121.005833   \n",
      "1        Lightning       0.25               A  38.933056 -120.404444   \n",
      "2   Debris Burning       0.10               A  38.984167 -120.735556   \n",
      "3        Lightning       0.10               A  38.559167 -119.913333   \n",
      "4        Lightning       0.10               A  38.559167 -119.933056   \n",
      "\n",
      "     CLIMATE  CLIMATE_ZONE MOISTURE  SEASON  \n",
      "0       Cold           5.0        B  Winter  \n",
      "1    Hot-Dry           3.0        B  Spring  \n",
      "2  Mixed-Dry           4.0        B  Spring  \n",
      "3       Cold           6.0        B  Summer  \n",
      "4       Cold           6.0        B  Summer  \n"
     ]
    }
   ],
   "source": [
    "#select useful columns\n",
    "df = fires[['FIRE_YEAR', 'DISCOVERY_MONTH','DISCOVERY_DOY', 'DISCOVERY_TIME', 'CONT_TIME', 'STAT_CAUSE_DESCR', 'FIRE_SIZE', 'FIRE_SIZE_CLASS',\n",
    "            'LATITUDE', 'LONGITUDE','CLIMATE','CLIMATE_ZONE','MOISTURE','SEASON']]\n",
    "print(df.head())"
   ]
  },
  {
   "cell_type": "code",
   "execution_count": 11,
   "metadata": {},
   "outputs": [
    {
     "name": "stdout",
     "output_type": "stream",
     "text": [
      "   FIRE_YEAR DISCOVERY_MONTH  DISCOVERY_DOY  DISCOVERY_TIME  CONT_TIME  \\\n",
      "0       2005        February             33          1300.0     1730.0   \n",
      "1       2004             May            133           845.0     1530.0   \n",
      "2       2004             May            152          1921.0     2024.0   \n",
      "3       2004            June            180          1600.0     1400.0   \n",
      "4       2004            June            180          1600.0     1200.0   \n",
      "\n",
      "  STAT_CAUSE_DESCR  FIRE_SIZE FIRE_SIZE_CLASS   LATITUDE   LONGITUDE  \\\n",
      "0    Miscellaneous       0.10               A  40.036944 -121.005833   \n",
      "1        Lightning       0.25               A  38.933056 -120.404444   \n",
      "2   Debris Burning       0.10               A  38.984167 -120.735556   \n",
      "3        Lightning       0.10               A  38.559167 -119.913333   \n",
      "4        Lightning       0.10               A  38.559167 -119.933056   \n",
      "\n",
      "     CLIMATE  CLIMATE_ZONE MOISTURE  SEASON  BURN_TIME  \n",
      "0       Cold           5.0        B  Winter      430.0  \n",
      "1    Hot-Dry           3.0        B  Spring      685.0  \n",
      "2  Mixed-Dry           4.0        B  Spring      103.0  \n",
      "3       Cold           6.0        B  Summer     -200.0  \n",
      "4       Cold           6.0        B  Summer     -400.0  \n"
     ]
    },
    {
     "name": "stderr",
     "output_type": "stream",
     "text": [
      "C:\\Users\\604906\\AppData\\Local\\Continuum\\anaconda3\\lib\\site-packages\\ipykernel_launcher.py:2: SettingWithCopyWarning: \n",
      "A value is trying to be set on a copy of a slice from a DataFrame.\n",
      "Try using .loc[row_indexer,col_indexer] = value instead\n",
      "\n",
      "See the caveats in the documentation: http://pandas.pydata.org/pandas-docs/stable/user_guide/indexing.html#returning-a-view-versus-a-copy\n",
      "  \n"
     ]
    }
   ],
   "source": [
    "#Add Burn Time as a new feature\n",
    "df['BURN_TIME'] = df['CONT_TIME']-df['DISCOVERY_TIME']\n",
    "print(df.head())"
   ]
  },
  {
   "cell_type": "code",
   "execution_count": 12,
   "metadata": {},
   "outputs": [
    {
     "name": "stdout",
     "output_type": "stream",
     "text": [
      "<class 'pandas.core.frame.DataFrame'>\n",
      "Int64Index: 580460 entries, 0 to 1872304\n",
      "Data columns (total 15 columns):\n",
      "FIRE_YEAR           580460 non-null int64\n",
      "DISCOVERY_MONTH     580460 non-null object\n",
      "DISCOVERY_DOY       580460 non-null int64\n",
      "DISCOVERY_TIME      580460 non-null float64\n",
      "CONT_TIME           580460 non-null float64\n",
      "STAT_CAUSE_DESCR    580460 non-null object\n",
      "FIRE_SIZE           580460 non-null float64\n",
      "FIRE_SIZE_CLASS     580460 non-null object\n",
      "LATITUDE            580460 non-null float64\n",
      "LONGITUDE           580460 non-null float64\n",
      "CLIMATE             580460 non-null object\n",
      "CLIMATE_ZONE        580460 non-null float64\n",
      "MOISTURE            580460 non-null object\n",
      "SEASON              580460 non-null object\n",
      "BURN_TIME           580460 non-null float64\n",
      "dtypes: float64(7), int64(2), object(6)\n",
      "memory usage: 70.9+ MB\n"
     ]
    }
   ],
   "source": [
    "#check which columns are object types\n",
    "df.info()"
   ]
  },
  {
   "cell_type": "code",
   "execution_count": 13,
   "metadata": {},
   "outputs": [
    {
     "name": "stderr",
     "output_type": "stream",
     "text": [
      "C:\\Users\\604906\\AppData\\Local\\Continuum\\anaconda3\\lib\\site-packages\\pandas\\core\\frame.py:3494: SettingWithCopyWarning: \n",
      "A value is trying to be set on a copy of a slice from a DataFrame.\n",
      "Try using .loc[row_indexer,col_indexer] = value instead\n",
      "\n",
      "See the caveats in the documentation: http://pandas.pydata.org/pandas-docs/stable/user_guide/indexing.html#returning-a-view-versus-a-copy\n",
      "  self[k1] = value[k2]\n"
     ]
    }
   ],
   "source": [
    "## lABEL ENCODING ##\n",
    "# Extract categorical features\n",
    "categorical_feature_mask = df.dtypes==object\n",
    "# filter categorical columns using mask and turn it into a list\n",
    "categorical_cols = df.columns[categorical_feature_mask].tolist()\n",
    "\n",
    "from sklearn.preprocessing import LabelEncoder\n",
    "le = LabelEncoder()\n",
    "# apply le on categorical feature columns\n",
    "df[categorical_cols] = df[categorical_cols].apply(lambda col: le.fit_transform(col))"
   ]
  },
  {
   "cell_type": "code",
   "execution_count": 14,
   "metadata": {},
   "outputs": [
    {
     "data": {
      "text/plain": [
       "Cold           197407\n",
       "Mixed-Humid    183689\n",
       "Hot-Humid      121514\n",
       "Hot-Dry         38685\n",
       "Marine          14957\n",
       "Mixed-Dry       12986\n",
       "Very-Cold       11222\n",
       "Name: CLIMATE, dtype: int64"
      ]
     },
     "execution_count": 14,
     "metadata": {},
     "output_type": "execute_result"
    }
   ],
   "source": [
    "#CHECK\n",
    "fires.CLIMATE.value_counts(sort=True)\n"
   ]
  },
  {
   "cell_type": "code",
   "execution_count": 15,
   "metadata": {},
   "outputs": [
    {
     "data": {
      "text/plain": [
       "3.0    195348\n",
       "5.0    125284\n",
       "4.0    113575\n",
       "6.0     71752\n",
       "2.0     62804\n",
       "7.0     11222\n",
       "1.0       475\n",
       "Name: CLIMATE_ZONE, dtype: int64"
      ]
     },
     "execution_count": 15,
     "metadata": {},
     "output_type": "execute_result"
    }
   ],
   "source": [
    "fires.CLIMATE_ZONE.value_counts(sort=True)"
   ]
  },
  {
   "cell_type": "code",
   "execution_count": 16,
   "metadata": {},
   "outputs": [
    {
     "data": {
      "text/html": [
       "<div>\n",
       "<style scoped>\n",
       "    .dataframe tbody tr th:only-of-type {\n",
       "        vertical-align: middle;\n",
       "    }\n",
       "\n",
       "    .dataframe tbody tr th {\n",
       "        vertical-align: top;\n",
       "    }\n",
       "\n",
       "    .dataframe thead th {\n",
       "        text-align: right;\n",
       "    }\n",
       "</style>\n",
       "<table border=\"1\" class=\"dataframe\">\n",
       "  <thead>\n",
       "    <tr style=\"text-align: right;\">\n",
       "      <th></th>\n",
       "      <th>FIRE_YEAR</th>\n",
       "      <th>DISCOVERY_TIME</th>\n",
       "      <th>CONT_TIME</th>\n",
       "      <th>STAT_CAUSE_DESCR</th>\n",
       "      <th>FIRE_SIZE</th>\n",
       "      <th>FIRE_SIZE_CLASS</th>\n",
       "      <th>LATITUDE</th>\n",
       "      <th>LONGITUDE</th>\n",
       "      <th>SEASON</th>\n",
       "      <th>BURN_TIME</th>\n",
       "    </tr>\n",
       "  </thead>\n",
       "  <tbody>\n",
       "    <tr>\n",
       "      <td>0</td>\n",
       "      <td>2005</td>\n",
       "      <td>1300.0</td>\n",
       "      <td>1730.0</td>\n",
       "      <td>7</td>\n",
       "      <td>0.10</td>\n",
       "      <td>0</td>\n",
       "      <td>40.036944</td>\n",
       "      <td>-121.005833</td>\n",
       "      <td>3</td>\n",
       "      <td>430.0</td>\n",
       "    </tr>\n",
       "    <tr>\n",
       "      <td>1</td>\n",
       "      <td>2004</td>\n",
       "      <td>845.0</td>\n",
       "      <td>1530.0</td>\n",
       "      <td>6</td>\n",
       "      <td>0.25</td>\n",
       "      <td>0</td>\n",
       "      <td>38.933056</td>\n",
       "      <td>-120.404444</td>\n",
       "      <td>1</td>\n",
       "      <td>685.0</td>\n",
       "    </tr>\n",
       "    <tr>\n",
       "      <td>2</td>\n",
       "      <td>2004</td>\n",
       "      <td>1921.0</td>\n",
       "      <td>2024.0</td>\n",
       "      <td>3</td>\n",
       "      <td>0.10</td>\n",
       "      <td>0</td>\n",
       "      <td>38.984167</td>\n",
       "      <td>-120.735556</td>\n",
       "      <td>1</td>\n",
       "      <td>103.0</td>\n",
       "    </tr>\n",
       "    <tr>\n",
       "      <td>3</td>\n",
       "      <td>2004</td>\n",
       "      <td>1600.0</td>\n",
       "      <td>1400.0</td>\n",
       "      <td>6</td>\n",
       "      <td>0.10</td>\n",
       "      <td>0</td>\n",
       "      <td>38.559167</td>\n",
       "      <td>-119.913333</td>\n",
       "      <td>2</td>\n",
       "      <td>-200.0</td>\n",
       "    </tr>\n",
       "    <tr>\n",
       "      <td>4</td>\n",
       "      <td>2004</td>\n",
       "      <td>1600.0</td>\n",
       "      <td>1200.0</td>\n",
       "      <td>6</td>\n",
       "      <td>0.10</td>\n",
       "      <td>0</td>\n",
       "      <td>38.559167</td>\n",
       "      <td>-119.933056</td>\n",
       "      <td>2</td>\n",
       "      <td>-400.0</td>\n",
       "    </tr>\n",
       "  </tbody>\n",
       "</table>\n",
       "</div>"
      ],
      "text/plain": [
       "   FIRE_YEAR  DISCOVERY_TIME  CONT_TIME  STAT_CAUSE_DESCR  FIRE_SIZE  \\\n",
       "0       2005          1300.0     1730.0                 7       0.10   \n",
       "1       2004           845.0     1530.0                 6       0.25   \n",
       "2       2004          1921.0     2024.0                 3       0.10   \n",
       "3       2004          1600.0     1400.0                 6       0.10   \n",
       "4       2004          1600.0     1200.0                 6       0.10   \n",
       "\n",
       "   FIRE_SIZE_CLASS   LATITUDE   LONGITUDE  SEASON  BURN_TIME  \n",
       "0                0  40.036944 -121.005833       3      430.0  \n",
       "1                0  38.933056 -120.404444       1      685.0  \n",
       "2                0  38.984167 -120.735556       1      103.0  \n",
       "3                0  38.559167 -119.913333       2     -200.0  \n",
       "4                0  38.559167 -119.933056       2     -400.0  "
      ]
     },
     "execution_count": 16,
     "metadata": {},
     "output_type": "execute_result"
    }
   ],
   "source": [
    "#drop variables that might be correlated with season\n",
    "df1 = df.drop(['DISCOVERY_MONTH','DISCOVERY_DOY','CLIMATE','CLIMATE_ZONE','MOISTURE'],axis=1)\n",
    "df1.head(5)"
   ]
  },
  {
   "cell_type": "code",
   "execution_count": 40,
   "metadata": {},
   "outputs": [
    {
     "data": {
      "text/plain": [
       "(390743, 10)"
      ]
     },
     "execution_count": 40,
     "metadata": {},
     "output_type": "execute_result"
    }
   ],
   "source": [
    "#spring and summer only\n",
    "df2 = df1.loc[df1['SEASON'].isin(['1','2'])]\n",
    "df2.shape #390,743 rows -> confirmed"
   ]
  },
  {
   "cell_type": "code",
   "execution_count": 41,
   "metadata": {},
   "outputs": [
    {
     "data": {
      "text/plain": [
       "count    361286.000000\n",
       "mean       2005.529669\n",
       "std           6.525080\n",
       "min        1992.000000\n",
       "25%        2001.000000\n",
       "50%        2007.000000\n",
       "75%        2011.000000\n",
       "max        2014.000000\n",
       "Name: FIRE_YEAR, dtype: float64"
      ]
     },
     "execution_count": 41,
     "metadata": {},
     "output_type": "execute_result"
    }
   ],
   "source": [
    "#Train on data from 1992 - 2014\n",
    "df_train = df2[df2['FIRE_YEAR'] != 2015]\n",
    "df_train.FIRE_YEAR.describe()"
   ]
  },
  {
   "cell_type": "code",
   "execution_count": 42,
   "metadata": {},
   "outputs": [
    {
     "data": {
      "text/plain": [
       "count    29457.0\n",
       "mean      2015.0\n",
       "std          0.0\n",
       "min       2015.0\n",
       "25%       2015.0\n",
       "50%       2015.0\n",
       "75%       2015.0\n",
       "max       2015.0\n",
       "Name: FIRE_YEAR, dtype: float64"
      ]
     },
     "execution_count": 42,
     "metadata": {},
     "output_type": "execute_result"
    }
   ],
   "source": [
    "#Test on \"future\" data: 2015\n",
    "df_test = df2[df2['FIRE_YEAR'] == 2015]\n",
    "df_test.FIRE_YEAR.describe()"
   ]
  },
  {
   "cell_type": "markdown",
   "metadata": {},
   "source": [
    "## Predicting the SEASON of a Wildfire (Spring or Summer?)"
   ]
  },
  {
   "cell_type": "code",
   "execution_count": 44,
   "metadata": {},
   "outputs": [],
   "source": [
    "#Try binary classification\n",
    "X_train, X_test = df_train.drop(['SEASON'], axis=1).values, df_test.drop(['SEASON'], axis=1).values\n",
    "y_train, y_test = df_train['SEASON'].values, df_test['SEASON'].values\n",
    "\n",
    "#X = df2.drop(['SEASON'], axis=1).values\n",
    "#y = df2['SEASON'].values\n",
    "#X_train, X_test, y_train, y_test = train_test_split(X, y, test_size = 0.25, random_state = 21)"
   ]
  },
  {
   "cell_type": "code",
   "execution_count": 45,
   "metadata": {},
   "outputs": [],
   "source": [
    "#scale data\n",
    "scaler = StandardScaler()\n",
    "X_train = scaler.fit_transform(X_train)\n",
    "X_test = scaler.transform(X_test)"
   ]
  },
  {
   "cell_type": "code",
   "execution_count": 50,
   "metadata": {},
   "outputs": [
    {
     "data": {
      "text/plain": [
       "RandomForestClassifier(bootstrap=True, class_weight=None, criterion='entropy',\n",
       "                       max_depth=None, max_features='auto', max_leaf_nodes=None,\n",
       "                       min_impurity_decrease=0.0, min_impurity_split=None,\n",
       "                       min_samples_leaf=1, min_samples_split=2,\n",
       "                       min_weight_fraction_leaf=0.0, n_estimators=50,\n",
       "                       n_jobs=None, oob_score=False, random_state=42, verbose=0,\n",
       "                       warm_start=False)"
      ]
     },
     "execution_count": 50,
     "metadata": {},
     "output_type": "execute_result"
    }
   ],
   "source": [
    "#takes a minute to run\n",
    "classifier = RandomForestClassifier(n_estimators = 50, criterion = 'entropy', random_state = 42)\n",
    "classifier.fit(X_train, y_train)"
   ]
  },
  {
   "cell_type": "code",
   "execution_count": 51,
   "metadata": {},
   "outputs": [
    {
     "name": "stdout",
     "output_type": "stream",
     "text": [
      "Accuracy: 0.7856876124520488\n"
     ]
    }
   ],
   "source": [
    "#check results of actual vs. pred\n",
    "y_pred = classifier.predict(X_test)\n",
    "from sklearn import metrics\n",
    "print(\"Accuracy:\",metrics.accuracy_score(y_test, y_pred))\n",
    "\n",
    "#Training on 1992-2014, Test on 2015\n",
    "#n_estimators = 10; 77.7%\n",
    "#n_estimators = 20; 78.1%\n",
    "#n_estimators = 50; 78.6%\n",
    "\n",
    "#ALL DATA - RANDOM SPLIT\n",
    "#n_estimators = 10; 81% accuracy\n",
    "#n_estimators = 20; 81% accuracy\n",
    "#n_estimators = 50 ; 82% accuracy"
   ]
  }
 ],
 "metadata": {
  "kernelspec": {
   "display_name": "Python 3",
   "language": "python",
   "name": "python3"
  },
  "language_info": {
   "codemirror_mode": {
    "name": "ipython",
    "version": 3
   },
   "file_extension": ".py",
   "mimetype": "text/x-python",
   "name": "python",
   "nbconvert_exporter": "python",
   "pygments_lexer": "ipython3",
   "version": "3.7.3"
  }
 },
 "nbformat": 4,
 "nbformat_minor": 2
}

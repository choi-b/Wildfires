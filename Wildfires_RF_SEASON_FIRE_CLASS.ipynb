{
 "cells": [
  {
   "cell_type": "code",
   "execution_count": 32,
   "metadata": {},
   "outputs": [],
   "source": [
    "## Import Libraries ##\n",
    "import numpy as np\n",
    "import matplotlib.pyplot as plt\n",
    "from matplotlib.ticker import NullFormatter\n",
    "import pandas as pd\n",
    "import numpy as np\n",
    "import matplotlib.ticker as ticker\n",
    "from sklearn import preprocessing\n",
    "from sklearn.preprocessing import StandardScaler\n",
    "\n",
    "from sklearn.feature_extraction import DictVectorizer\n",
    "%matplotlib inline"
   ]
  },
  {
   "cell_type": "markdown",
   "metadata": {},
   "source": [
    "## Pull in Data (csv)"
   ]
  },
  {
   "cell_type": "code",
   "execution_count": 336,
   "metadata": {},
   "outputs": [
    {
     "name": "stderr",
     "output_type": "stream",
    }
   ],
   "source": [
    "fires = pd.read_csv('fires_with_climate.csv')\n"
   ]
  },
  {
   "cell_type": "markdown",
   "metadata": {},
   "source": [
    "## Feature Exploration"
   ]
  },
  {
   "cell_type": "code",
   "execution_count": 337,
   "metadata": {},
   "outputs": [
    {
     "name": "stdout",
     "output_type": "stream",
     "text": [
      "<class 'pandas.core.frame.DataFrame'>\n",
      "RangeIndex: 1880465 entries, 0 to 1880464\n",
      "Data columns (total 18 columns):\n",
      "FIRE_YEAR           int64\n",
      "DISCOVERY_DATE      object\n",
      "DISCOVERY_MONTH     object\n",
      "DISCOVERY_DOY       int64\n",
      "DISCOVERY_TIME      float64\n",
      "CONT_DATE           object\n",
      "CONT_TIME           float64\n",
      "STAT_CAUSE_DESCR    object\n",
      "FIRE_SIZE           float64\n",
      "FIRE_SIZE_CLASS     object\n",
      "STATE               object\n",
      "FIPS_NAME           object\n",
      "LATITUDE            float64\n",
      "LONGITUDE           float64\n",
      "FOD_ID              int64\n",
      "CLIMATE             object\n",
      "CLIMATE_ZONE        float64\n",
      "MOISTURE            object\n",
      "dtypes: float64(6), int64(3), object(9)\n",
      "memory usage: 258.2+ MB\n"
     ]
    }
   ],
   "source": [
    "fires.info()"
   ]
  },
  {
   "cell_type": "code",
   "execution_count": 338,
   "metadata": {},
   "outputs": [
    {
     "data": {
      "text/html": [
       "<div>\n",
       "<style scoped>\n",
       "    .dataframe tbody tr th:only-of-type {\n",
       "        vertical-align: middle;\n",
       "    }\n",
       "\n",
       "    .dataframe tbody tr th {\n",
       "        vertical-align: top;\n",
       "    }\n",
       "\n",
       "    .dataframe thead th {\n",
       "        text-align: right;\n",
       "    }\n",
       "</style>\n",
       "<table border=\"1\" class=\"dataframe\">\n",
       "  <thead>\n",
       "    <tr style=\"text-align: right;\">\n",
       "      <th></th>\n",
       "      <th>FIRE_YEAR</th>\n",
       "      <th>DISCOVERY_DATE</th>\n",
       "      <th>DISCOVERY_MONTH</th>\n",
       "      <th>DISCOVERY_DOY</th>\n",
       "      <th>DISCOVERY_TIME</th>\n",
       "      <th>CONT_DATE</th>\n",
       "      <th>CONT_TIME</th>\n",
       "      <th>STAT_CAUSE_DESCR</th>\n",
       "      <th>FIRE_SIZE</th>\n",
       "      <th>FIRE_SIZE_CLASS</th>\n",
       "      <th>STATE</th>\n",
       "      <th>FIPS_NAME</th>\n",
       "      <th>LATITUDE</th>\n",
       "      <th>LONGITUDE</th>\n",
       "      <th>FOD_ID</th>\n",
       "      <th>CLIMATE</th>\n",
       "      <th>CLIMATE_ZONE</th>\n",
       "      <th>MOISTURE</th>\n",
       "    </tr>\n",
       "  </thead>\n",
       "  <tbody>\n",
       "    <tr>\n",
       "      <td>0</td>\n",
       "      <td>2005</td>\n",
       "      <td>2005-02-02</td>\n",
       "      <td>February</td>\n",
       "      <td>33</td>\n",
       "      <td>1300.0</td>\n",
       "      <td>2005-02-02</td>\n",
       "      <td>1730.0</td>\n",
       "      <td>Miscellaneous</td>\n",
       "      <td>0.10</td>\n",
       "      <td>A</td>\n",
       "      <td>CA</td>\n",
       "      <td>Plumas</td>\n",
       "      <td>40.036944</td>\n",
       "      <td>-121.005833</td>\n",
       "      <td>1</td>\n",
       "      <td>Cold</td>\n",
       "      <td>5.0</td>\n",
       "      <td>B</td>\n",
       "    </tr>\n",
       "    <tr>\n",
       "      <td>1</td>\n",
       "      <td>2004</td>\n",
       "      <td>2004-05-12</td>\n",
       "      <td>May</td>\n",
       "      <td>133</td>\n",
       "      <td>845.0</td>\n",
       "      <td>2004-05-12</td>\n",
       "      <td>1530.0</td>\n",
       "      <td>Lightning</td>\n",
       "      <td>0.25</td>\n",
       "      <td>A</td>\n",
       "      <td>CA</td>\n",
       "      <td>Placer</td>\n",
       "      <td>38.933056</td>\n",
       "      <td>-120.404444</td>\n",
       "      <td>2</td>\n",
       "      <td>Hot-Dry</td>\n",
       "      <td>3.0</td>\n",
       "      <td>B</td>\n",
       "    </tr>\n",
       "    <tr>\n",
       "      <td>2</td>\n",
       "      <td>2004</td>\n",
       "      <td>2004-05-31</td>\n",
       "      <td>May</td>\n",
       "      <td>152</td>\n",
       "      <td>1921.0</td>\n",
       "      <td>2004-05-31</td>\n",
       "      <td>2024.0</td>\n",
       "      <td>Debris Burning</td>\n",
       "      <td>0.10</td>\n",
       "      <td>A</td>\n",
       "      <td>CA</td>\n",
       "      <td>El Dorado</td>\n",
       "      <td>38.984167</td>\n",
       "      <td>-120.735556</td>\n",
       "      <td>3</td>\n",
       "      <td>Mixed-Dry</td>\n",
       "      <td>4.0</td>\n",
       "      <td>B</td>\n",
       "    </tr>\n",
       "    <tr>\n",
       "      <td>3</td>\n",
       "      <td>2004</td>\n",
       "      <td>2004-06-28</td>\n",
       "      <td>June</td>\n",
       "      <td>180</td>\n",
       "      <td>1600.0</td>\n",
       "      <td>2004-07-03</td>\n",
       "      <td>1400.0</td>\n",
       "      <td>Lightning</td>\n",
       "      <td>0.10</td>\n",
       "      <td>A</td>\n",
       "      <td>CA</td>\n",
       "      <td>Alpine</td>\n",
       "      <td>38.559167</td>\n",
       "      <td>-119.913333</td>\n",
       "      <td>4</td>\n",
       "      <td>Cold</td>\n",
       "      <td>6.0</td>\n",
       "      <td>B</td>\n",
       "    </tr>\n",
       "    <tr>\n",
       "      <td>4</td>\n",
       "      <td>2004</td>\n",
       "      <td>2004-06-28</td>\n",
       "      <td>June</td>\n",
       "      <td>180</td>\n",
       "      <td>1600.0</td>\n",
       "      <td>2004-07-03</td>\n",
       "      <td>1200.0</td>\n",
       "      <td>Lightning</td>\n",
       "      <td>0.10</td>\n",
       "      <td>A</td>\n",
       "      <td>CA</td>\n",
       "      <td>Alpine</td>\n",
       "      <td>38.559167</td>\n",
       "      <td>-119.933056</td>\n",
       "      <td>5</td>\n",
       "      <td>Cold</td>\n",
       "      <td>6.0</td>\n",
       "      <td>B</td>\n",
       "    </tr>\n",
       "  </tbody>\n",
       "</table>\n",
       "</div>"
      ],
      "text/plain": [
       "   FIRE_YEAR DISCOVERY_DATE DISCOVERY_MONTH  DISCOVERY_DOY  DISCOVERY_TIME  \\\n",
       "0       2005     2005-02-02        February             33          1300.0   \n",
       "1       2004     2004-05-12             May            133           845.0   \n",
       "2       2004     2004-05-31             May            152          1921.0   \n",
       "3       2004     2004-06-28            June            180          1600.0   \n",
       "4       2004     2004-06-28            June            180          1600.0   \n",
       "\n",
       "    CONT_DATE  CONT_TIME STAT_CAUSE_DESCR  FIRE_SIZE FIRE_SIZE_CLASS STATE  \\\n",
       "0  2005-02-02     1730.0    Miscellaneous       0.10               A    CA   \n",
       "1  2004-05-12     1530.0        Lightning       0.25               A    CA   \n",
       "2  2004-05-31     2024.0   Debris Burning       0.10               A    CA   \n",
       "3  2004-07-03     1400.0        Lightning       0.10               A    CA   \n",
       "4  2004-07-03     1200.0        Lightning       0.10               A    CA   \n",
       "\n",
       "   FIPS_NAME   LATITUDE   LONGITUDE  FOD_ID    CLIMATE  CLIMATE_ZONE MOISTURE  \n",
       "0     Plumas  40.036944 -121.005833       1       Cold           5.0        B  \n",
       "1     Placer  38.933056 -120.404444       2    Hot-Dry           3.0        B  \n",
       "2  El Dorado  38.984167 -120.735556       3  Mixed-Dry           4.0        B  \n",
       "3     Alpine  38.559167 -119.913333       4       Cold           6.0        B  \n",
       "4     Alpine  38.559167 -119.933056       5       Cold           6.0        B  "
      ]
     },
     "execution_count": 338,
     "metadata": {},
     "output_type": "execute_result"
    }
   ],
   "source": [
    "fires.head(5)"
   ]
  },
  {
   "cell_type": "code",
   "execution_count": 339,
   "metadata": {},
   "outputs": [
    {
     "name": "stdout",
     "output_type": "stream",
     "text": [
      "   FIRE_YEAR DISCOVERY_DATE DISCOVERY_MONTH  DISCOVERY_DOY  DISCOVERY_TIME  \\\n",
      "0       2005     2005-02-02        February             33          1300.0   \n",
      "1       2004     2004-05-12             May            133           845.0   \n",
      "2       2004     2004-05-31             May            152          1921.0   \n",
      "3       2004     2004-06-28            June            180          1600.0   \n",
      "4       2004     2004-06-28            June            180          1600.0   \n",
      "\n",
      "    CONT_DATE  CONT_TIME STAT_CAUSE_DESCR  FIRE_SIZE FIRE_SIZE_CLASS STATE  \\\n",
      "0  2005-02-02     1730.0    Miscellaneous       0.10               A    CA   \n",
      "1  2004-05-12     1530.0        Lightning       0.25               A    CA   \n",
      "2  2004-05-31     2024.0   Debris Burning       0.10               A    CA   \n",
      "3  2004-07-03     1400.0        Lightning       0.10               A    CA   \n",
      "4  2004-07-03     1200.0        Lightning       0.10               A    CA   \n",
      "\n",
      "   FIPS_NAME   LATITUDE   LONGITUDE  FOD_ID    CLIMATE  CLIMATE_ZONE MOISTURE  \\\n",
      "0     Plumas  40.036944 -121.005833       1       Cold           5.0        B   \n",
      "1     Placer  38.933056 -120.404444       2    Hot-Dry           3.0        B   \n",
      "2  El Dorado  38.984167 -120.735556       3  Mixed-Dry           4.0        B   \n",
      "3     Alpine  38.559167 -119.913333       4       Cold           6.0        B   \n",
      "4     Alpine  38.559167 -119.933056       5       Cold           6.0        B   \n",
      "\n",
      "   SEASON  \n",
      "0  Winter  \n",
      "1  Spring  \n",
      "2  Spring  \n",
      "3  Summer  \n",
      "4  Summer  \n"
     ]
    }
   ],
   "source": [
    "SEASON = []\n",
    "\n",
    "for row in fires['DISCOVERY_MONTH']:\n",
    "    \n",
    "    if row in ['March', 'April', 'May']:\n",
    "        SEASON.append('Spring')\n",
    "        \n",
    "    elif row in ['June', 'July', 'August']:\n",
    "        SEASON.append('Summer')\n",
    "    \n",
    "    elif row in ['September','October','November']:\n",
    "        SEASON.append('Fall')\n",
    "\n",
    "    else: \n",
    "        SEASON.append('Winter')\n",
    "    \n",
    "\n",
    "fires['SEASON'] = SEASON\n",
    "print(fires.head())"
   ]
  },
  {
   "cell_type": "code",
   "execution_count": 340,
   "metadata": {},
   "outputs": [
    {
     "data": {
      "text/plain": [
       "Spring    636120\n",
       "Summer    609252\n",
       "Fall      330694\n",
       "Winter    304399\n",
       "Name: SEASON, dtype: int64"
      ]
     },
     "execution_count": 340,
     "metadata": {},
     "output_type": "execute_result"
    }
   ],
   "source": [
    "fires['SEASON'].value_counts()\n",
    "#Spring 636,120\n",
    "#Summer 609,252\n",
    "#Fall 330,694\n",
    "#Winter 304,399"
   ]
  },
  {
   "cell_type": "code",
   "execution_count": 341,
   "metadata": {},
   "outputs": [
    {
     "data": {
      "text/plain": [
       "FIRE_YEAR                0\n",
       "DISCOVERY_DATE           0\n",
       "DISCOVERY_MONTH          0\n",
       "DISCOVERY_DOY            0\n",
       "DISCOVERY_TIME      882638\n",
       "CONT_DATE           891531\n",
       "CONT_TIME           972553\n",
       "STAT_CAUSE_DESCR         0\n",
       "FIRE_SIZE                0\n",
       "FIRE_SIZE_CLASS          0\n",
       "STATE                    0\n",
       "FIPS_NAME           678148\n",
       "LATITUDE                 0\n",
       "LONGITUDE                0\n",
       "FOD_ID                   0\n",
       "CLIMATE             679576\n",
       "CLIMATE_ZONE        679576\n",
       "MOISTURE            679886\n",
       "SEASON                   0\n",
       "dtype: int64"
      ]
     },
     "execution_count": 341,
     "metadata": {},
     "output_type": "execute_result"
    }
   ],
   "source": [
    "fires.isnull().sum()"
   ]
  },
  {
   "cell_type": "code",
   "execution_count": 342,
   "metadata": {},
   "outputs": [],
   "source": [
    "#new df, rows with any null dropped\n",
    "fires = fires.dropna()"
   ]
  },
  {
   "cell_type": "code",
   "execution_count": 343,
   "metadata": {},
   "outputs": [
    {
     "data": {
      "text/plain": [
       "July         76499\n",
       "April        73320\n",
       "March        72592\n",
       "August       68584\n",
       "May          50855\n",
       "June         48893\n",
       "February     45482\n",
       "September    38063\n",
       "November     31946\n",
       "October      31545\n",
       "January      26714\n",
       "December     15967\n",
       "Name: DISCOVERY_MONTH, dtype: int64"
      ]
     },
     "execution_count": 343,
     "metadata": {},
     "output_type": "execute_result"
    }
   ],
   "source": [
    "fires['DISCOVERY_MONTH'].value_counts()"
   ]
  },
  {
   "cell_type": "code",
   "execution_count": 311,
   "metadata": {},
   "outputs": [
    {
     "name": "stdout",
     "output_type": "stream",
     "text": [
      "   FIRE_YEAR DISCOVERY_MONTH  DISCOVERY_DOY  DISCOVERY_TIME  CONT_TIME  \\\n",
      "0       2005        February             33          1300.0     1730.0   \n",
      "1       2004             May            133           845.0     1530.0   \n",
      "2       2004             May            152          1921.0     2024.0   \n",
      "3       2004            June            180          1600.0     1400.0   \n",
      "4       2004            June            180          1600.0     1200.0   \n",
      "\n",
      "  STAT_CAUSE_DESCR  FIRE_SIZE FIRE_SIZE_CLASS   LATITUDE   LONGITUDE  \\\n",
      "0    Miscellaneous       0.10               A  40.036944 -121.005833   \n",
      "1        Lightning       0.25               A  38.933056 -120.404444   \n",
      "2   Debris Burning       0.10               A  38.984167 -120.735556   \n",
      "3        Lightning       0.10               A  38.559167 -119.913333   \n",
      "4        Lightning       0.10               A  38.559167 -119.933056   \n",
      "\n",
      "     CLIMATE  CLIMATE_ZONE MOISTURE  SEASON  \n",
      "0       Cold           5.0        B  Winter  \n",
      "1    Hot-Dry           3.0        B  Spring  \n",
      "2  Mixed-Dry           4.0        B  Spring  \n",
      "3       Cold           6.0        B  Summer  \n",
      "4       Cold           6.0        B  Summer  \n"
     ]
    }
   ],
   "source": [
    "#select useful columns\n",
    "df = fires[['FIRE_YEAR', 'DISCOVERY_MONTH','DISCOVERY_DOY', 'DISCOVERY_TIME', 'CONT_TIME', 'STAT_CAUSE_DESCR', 'FIRE_SIZE', 'FIRE_SIZE_CLASS',\n",
    "            'LATITUDE', 'LONGITUDE','CLIMATE','CLIMATE_ZONE','MOISTURE','SEASON']]\n",
    "print(df.head())"
   ]
  },
  {
   "cell_type": "code",
   "execution_count": 312,
   "metadata": {},
   "outputs": [
    {
     "name": "stdout",
     "output_type": "stream",
     "text": [
      "   FIRE_YEAR DISCOVERY_MONTH  DISCOVERY_DOY  DISCOVERY_TIME  CONT_TIME  \\\n",
      "0       2005        February             33          1300.0     1730.0   \n",
      "1       2004             May            133           845.0     1530.0   \n",
      "2       2004             May            152          1921.0     2024.0   \n",
      "3       2004            June            180          1600.0     1400.0   \n",
      "4       2004            June            180          1600.0     1200.0   \n",
      "\n",
      "  STAT_CAUSE_DESCR  FIRE_SIZE FIRE_SIZE_CLASS   LATITUDE   LONGITUDE  \\\n",
      "0    Miscellaneous       0.10               A  40.036944 -121.005833   \n",
      "1        Lightning       0.25               A  38.933056 -120.404444   \n",
      "2   Debris Burning       0.10               A  38.984167 -120.735556   \n",
      "3        Lightning       0.10               A  38.559167 -119.913333   \n",
      "4        Lightning       0.10               A  38.559167 -119.933056   \n",
      "\n",
      "     CLIMATE  CLIMATE_ZONE MOISTURE  SEASON  BURN_TIME  \n",
      "0       Cold           5.0        B  Winter      430.0  \n",
      "1    Hot-Dry           3.0        B  Spring      685.0  \n",
      "2  Mixed-Dry           4.0        B  Spring      103.0  \n",
      "3       Cold           6.0        B  Summer     -200.0  \n",
      "4       Cold           6.0        B  Summer     -400.0  \n"
     ]
    },
    {
     "name": "stderr",
     "output_type": "stream",
    }
   ],
   "source": [
    "#Add Burn Time as a new feature\n",
    "df['BURN_TIME'] = df['CONT_TIME']-df['DISCOVERY_TIME']\n",
    "print(df.head())"
   ]
  },
  {
   "cell_type": "code",
   "execution_count": 319,
   "metadata": {},
   "outputs": [
    {
     "name": "stdout",
     "output_type": "stream",
     "text": [
      "<class 'pandas.core.frame.DataFrame'>\n",
      "Int64Index: 580460 entries, 0 to 1872304\n",
      "Data columns (total 15 columns):\n",
      "FIRE_YEAR           580460 non-null int64\n",
      "DISCOVERY_MONTH     580460 non-null object\n",
      "DISCOVERY_DOY       580460 non-null int64\n",
      "DISCOVERY_TIME      580460 non-null float64\n",
      "CONT_TIME           580460 non-null float64\n",
      "STAT_CAUSE_DESCR    580460 non-null object\n",
      "FIRE_SIZE           580460 non-null float64\n",
      "FIRE_SIZE_CLASS     580460 non-null object\n",
      "LATITUDE            580460 non-null float64\n",
      "LONGITUDE           580460 non-null float64\n",
      "CLIMATE             580460 non-null object\n",
      "CLIMATE_ZONE        580460 non-null float64\n",
      "MOISTURE            580460 non-null object\n",
      "SEASON              580460 non-null object\n",
      "BURN_TIME           580460 non-null float64\n",
      "dtypes: float64(7), int64(2), object(6)\n",
      "memory usage: 90.9+ MB\n"
     ]
    }
   ],
   "source": [
    "#check which columns are object types\n",
    "df.info()"
   ]
  },
  {
   "cell_type": "code",
   "execution_count": 320,
   "metadata": {},
   "outputs": [
    {
     "name": "stderr",
     "output_type": "stream",  
    }
   ],
   "source": [
    "## lABEL ENCODING ##\n",
    "# Extract categorical features\n",
    "categorical_feature_mask = df.dtypes==object\n",
    "# filter categorical columns using mask and turn it into a list\n",
    "categorical_cols = df.columns[categorical_feature_mask].tolist()\n",
    "\n",
    "from sklearn.preprocessing import LabelEncoder\n",
    "le = LabelEncoder()\n",
    "# apply le on categorical feature columns\n",
    "df[categorical_cols] = df[categorical_cols].apply(lambda col: le.fit_transform(col))"
   ]
  },
  {
   "cell_type": "code",
   "execution_count": 248,
   "metadata": {},
   "outputs": [
    {
     "data": {
      "text/plain": [
       "Cold           197407\n",
       "Mixed-Humid    183689\n",
       "Hot-Humid      121514\n",
       "Hot-Dry         38685\n",
       "Marine          14957\n",
       "Mixed-Dry       12986\n",
       "Very-Cold       11222\n",
       "Name: CLIMATE, dtype: int64"
      ]
     },
     "execution_count": 248,
     "metadata": {},
     "output_type": "execute_result"
    }
   ],
   "source": [
    "#CHECK\n",
    "fires.CLIMATE.value_counts(sort=True)\n"
   ]
  },
  {
   "cell_type": "code",
   "execution_count": 249,
   "metadata": {},
   "outputs": [
    {
     "data": {
      "text/plain": [
       "3.0    195348\n",
       "5.0    125284\n",
       "4.0    113575\n",
       "6.0     71752\n",
       "2.0     62804\n",
       "7.0     11222\n",
       "1.0       475\n",
       "Name: CLIMATE_ZONE, dtype: int64"
      ]
     },
     "execution_count": 249,
     "metadata": {},
     "output_type": "execute_result"
    }
   ],
   "source": [
    "fires.CLIMATE_ZONE.value_counts(sort=True)"
   ]
  },
  {
   "cell_type": "code",
   "execution_count": 418,
   "metadata": {},
   "outputs": [
    {
     "data": {
      "text/html": [
       "<div>\n",
       "<style scoped>\n",
       "    .dataframe tbody tr th:only-of-type {\n",
       "        vertical-align: middle;\n",
       "    }\n",
       "\n",
       "    .dataframe tbody tr th {\n",
       "        vertical-align: top;\n",
       "    }\n",
       "\n",
       "    .dataframe thead th {\n",
       "        text-align: right;\n",
       "    }\n",
       "</style>\n",
       "<table border=\"1\" class=\"dataframe\">\n",
       "  <thead>\n",
       "    <tr style=\"text-align: right;\">\n",
       "      <th></th>\n",
       "      <th>FIRE_YEAR</th>\n",
       "      <th>DISCOVERY_TIME</th>\n",
       "      <th>CONT_TIME</th>\n",
       "      <th>STAT_CAUSE_DESCR</th>\n",
       "      <th>FIRE_SIZE</th>\n",
       "      <th>FIRE_SIZE_CLASS</th>\n",
       "      <th>LATITUDE</th>\n",
       "      <th>LONGITUDE</th>\n",
       "      <th>SEASON</th>\n",
       "      <th>BURN_TIME</th>\n",
       "    </tr>\n",
       "  </thead>\n",
       "  <tbody>\n",
       "    <tr>\n",
       "      <td>0</td>\n",
       "      <td>2005</td>\n",
       "      <td>1300.0</td>\n",
       "      <td>1730.0</td>\n",
       "      <td>7</td>\n",
       "      <td>0.10</td>\n",
       "      <td>0</td>\n",
       "      <td>40.036944</td>\n",
       "      <td>-121.005833</td>\n",
       "      <td>3</td>\n",
       "      <td>430.0</td>\n",
       "    </tr>\n",
       "    <tr>\n",
       "      <td>1</td>\n",
       "      <td>2004</td>\n",
       "      <td>845.0</td>\n",
       "      <td>1530.0</td>\n",
       "      <td>6</td>\n",
       "      <td>0.25</td>\n",
       "      <td>0</td>\n",
       "      <td>38.933056</td>\n",
       "      <td>-120.404444</td>\n",
       "      <td>1</td>\n",
       "      <td>685.0</td>\n",
       "    </tr>\n",
       "    <tr>\n",
       "      <td>2</td>\n",
       "      <td>2004</td>\n",
       "      <td>1921.0</td>\n",
       "      <td>2024.0</td>\n",
       "      <td>3</td>\n",
       "      <td>0.10</td>\n",
       "      <td>0</td>\n",
       "      <td>38.984167</td>\n",
       "      <td>-120.735556</td>\n",
       "      <td>1</td>\n",
       "      <td>103.0</td>\n",
       "    </tr>\n",
       "    <tr>\n",
       "      <td>3</td>\n",
       "      <td>2004</td>\n",
       "      <td>1600.0</td>\n",
       "      <td>1400.0</td>\n",
       "      <td>6</td>\n",
       "      <td>0.10</td>\n",
       "      <td>0</td>\n",
       "      <td>38.559167</td>\n",
       "      <td>-119.913333</td>\n",
       "      <td>2</td>\n",
       "      <td>-200.0</td>\n",
       "    </tr>\n",
       "    <tr>\n",
       "      <td>4</td>\n",
       "      <td>2004</td>\n",
       "      <td>1600.0</td>\n",
       "      <td>1200.0</td>\n",
       "      <td>6</td>\n",
       "      <td>0.10</td>\n",
       "      <td>0</td>\n",
       "      <td>38.559167</td>\n",
       "      <td>-119.933056</td>\n",
       "      <td>2</td>\n",
       "      <td>-400.0</td>\n",
       "    </tr>\n",
       "  </tbody>\n",
       "</table>\n",
       "</div>"
      ],
      "text/plain": [
       "   FIRE_YEAR  DISCOVERY_TIME  CONT_TIME  STAT_CAUSE_DESCR  FIRE_SIZE  \\\n",
       "0       2005          1300.0     1730.0                 7       0.10   \n",
       "1       2004           845.0     1530.0                 6       0.25   \n",
       "2       2004          1921.0     2024.0                 3       0.10   \n",
       "3       2004          1600.0     1400.0                 6       0.10   \n",
       "4       2004          1600.0     1200.0                 6       0.10   \n",
       "\n",
       "   FIRE_SIZE_CLASS   LATITUDE   LONGITUDE  SEASON  BURN_TIME  \n",
       "0                0  40.036944 -121.005833       3      430.0  \n",
       "1                0  38.933056 -120.404444       1      685.0  \n",
       "2                0  38.984167 -120.735556       1      103.0  \n",
       "3                0  38.559167 -119.913333       2     -200.0  \n",
       "4                0  38.559167 -119.933056       2     -400.0  "
      ]
     },
     "execution_count": 418,
     "metadata": {},
     "output_type": "execute_result"
    }
   ],
   "source": [
    "#drop year + variables that might be correlated with season\n",
    "df1 = df.drop(['DISCOVERY_MONTH','DISCOVERY_DOY','CLIMATE','CLIMATE_ZONE','MOISTURE'],axis=1)\n",
    "df1.head(5)"
   ]
  },
  {
   "cell_type": "code",
   "execution_count": 223,
   "metadata": {},
   "outputs": [
    {
     "data": {
      "text/plain": [
       "Spring    196767\n",
       "Summer    193976\n",
       "Fall      101554\n",
       "Winter     88163\n",
       "Name: SEASON, dtype: int64"
      ]
     },
     "execution_count": 223,
     "metadata": {},
     "output_type": "execute_result"
    }
   ],
   "source": [
    "#Count how many fires were in each season\n",
    "fires.SEASON.value_counts(sort=True)"
   ]
  },
  {
   "cell_type": "code",
   "execution_count": 224,
   "metadata": {},
   "outputs": [],
   "source": [
    "import sklearn.ensemble as ske\n",
    "from sklearn.model_selection import train_test_split\n",
    "from sklearn.ensemble import RandomForestClassifier\n",
    "\n",
    "#Try predicting season using Random Forest Classifier\n",
    "X = df1.drop(['SEASON'], axis=1).values\n",
    "y = df1['SEASON'].values\n",
    "X_train, X_test, y_train, y_test = train_test_split(X, y, test_size = 0.25, random_state = 21)"
   ]
  },
  {
   "cell_type": "code",
   "execution_count": 225,
   "metadata": {},
   "outputs": [],
   "source": [
    "#scale data\n",
    "scaler = StandardScaler()\n",
    "X_train = scaler.fit_transform(X_train)\n",
    "X_test = scaler.transform(X_test)"
   ]
  },
  {
   "cell_type": "code",
   "execution_count": 226,
   "metadata": {},
   "outputs": [
    {
     "data": {
      "text/plain": [
       "RandomForestClassifier(bootstrap=True, class_weight=None, criterion='entropy',\n",
       "                       max_depth=None, max_features='auto', max_leaf_nodes=None,\n",
       "                       min_impurity_decrease=0.0, min_impurity_split=None,\n",
       "                       min_samples_leaf=1, min_samples_split=2,\n",
       "                       min_weight_fraction_leaf=0.0, n_estimators=50,\n",
       "                       n_jobs=None, oob_score=False, random_state=42, verbose=0,\n",
       "                       warm_start=False)"
      ]
     },
     "execution_count": 226,
     "metadata": {},
     "output_type": "execute_result"
    }
   ],
   "source": [
    "#takes a minute to run\n",
    "classifier = RandomForestClassifier(n_estimators = 50, criterion = 'entropy', random_state = 42)\n",
    "classifier.fit(X_train, y_train)"
   ]
  },
  {
   "cell_type": "code",
   "execution_count": 227,
   "metadata": {},
   "outputs": [
    {
     "name": "stdout",
     "output_type": "stream",
     "text": [
      "Accuracy: 0.5516659201323089\n"
     ]
    }
   ],
   "source": [
    "#check results of actual vs. pred\n",
    "y_pred = classifier.predict(X_test)\n",
    "from sklearn import metrics\n",
    "print(\"Accuracy:\",metrics.accuracy_score(y_test, y_pred))\n",
    "#n_estimators = 10 ; 52% accuracy\n",
    "#n_estimators = 20 ; 54% accuracy\n",
    "#n_estimators = 50 ; 55% accuracy"
   ]
  },
  {
   "cell_type": "code",
   "execution_count": 322,
   "metadata": {},
   "outputs": [
    {
     "data": {
      "text/plain": [
       "1    196767\n",
       "2    193976\n",
       "0    101554\n",
       "3     88163\n",
       "Name: SEASON, dtype: int64"
      ]
     },
     "execution_count": 322,
     "metadata": {},
     "output_type": "execute_result"
    }
   ],
   "source": [
    "#Try doing a Binary Classification\n",
    "df.SEASON.value_counts(sort=True)\n",
    "# B/C Encoding was done by alphabetical order\n",
    "# SEASON = 0 means Fall\n",
    "# SEASON = 1 means Spring\n",
    "# SEASON = 2 means Summer\n",
    "# SEASON = 3 means Winter"
   ]
  },
  {
   "cell_type": "code",
   "execution_count": 323,
   "metadata": {},
   "outputs": [
    {
     "data": {
      "text/html": [
       "<div>\n",
       "<style scoped>\n",
       "    .dataframe tbody tr th:only-of-type {\n",
       "        vertical-align: middle;\n",
       "    }\n",
       "\n",
       "    .dataframe tbody tr th {\n",
       "        vertical-align: top;\n",
       "    }\n",
       "\n",
       "    .dataframe thead th {\n",
       "        text-align: right;\n",
       "    }\n",
       "</style>\n",
       "<table border=\"1\" class=\"dataframe\">\n",
       "  <thead>\n",
       "    <tr style=\"text-align: right;\">\n",
       "      <th></th>\n",
       "      <th>SEASON</th>\n",
       "      <th>FIRE_SIZE</th>\n",
       "    </tr>\n",
       "  </thead>\n",
       "  <tbody>\n",
       "    <tr>\n",
       "      <td>0</td>\n",
       "      <td>0</td>\n",
       "      <td>47.513257</td>\n",
       "    </tr>\n",
       "    <tr>\n",
       "      <td>1</td>\n",
       "      <td>1</td>\n",
       "      <td>40.097007</td>\n",
       "    </tr>\n",
       "    <tr>\n",
       "      <td>2</td>\n",
       "      <td>2</td>\n",
       "      <td>203.214839</td>\n",
       "    </tr>\n",
       "    <tr>\n",
       "      <td>3</td>\n",
       "      <td>3</td>\n",
       "      <td>18.414987</td>\n",
       "    </tr>\n",
       "  </tbody>\n",
       "</table>\n",
       "</div>"
      ],
      "text/plain": [
       "   SEASON   FIRE_SIZE\n",
       "0       0   47.513257\n",
       "1       1   40.097007\n",
       "2       2  203.214839\n",
       "3       3   18.414987"
      ]
     },
     "execution_count": 323,
     "metadata": {},
     "output_type": "execute_result"
    }
   ],
   "source": [
    "#Only work with Wildfires data in Spring and Summer. \n",
    "#Reason 1) Data Balance\n",
    "#Reason 2) Wildfires occur the most in these two seasons\n",
    "#Reason 3) See if model accuracy will improve\n",
    "\n",
    "#But do we actually want to only work with Spring & Summer?\n",
    "#See Avg FIRE_SIZE by SEASON\n",
    "df1.groupby('SEASON', as_index=False)['FIRE_SIZE'].mean()\n",
    "#winter def has the smallest avg of fire_size but we should still aim to work with all 4 seasons"
   ]
  },
  {
   "cell_type": "code",
   "execution_count": 278,
   "metadata": {},
   "outputs": [
    {
     "data": {
      "text/plain": [
       "July         76499\n",
       "April        73320\n",
       "March        72592\n",
       "August       68584\n",
       "May          50855\n",
       "June         48893\n",
       "February     45482\n",
       "September    38063\n",
       "November     31946\n",
       "October      31545\n",
       "January      26714\n",
       "December     15967\n",
       "Name: DISCOVERY_MONTH, dtype: int64"
      ]
     },
     "execution_count": 278,
     "metadata": {},
     "output_type": "execute_result"
    }
   ],
   "source": [
    "#Also check how many fires across months\n",
    "fires['DISCOVERY_MONTH'].value_counts()"
   ]
  },
  {
   "cell_type": "code",
   "execution_count": 298,
   "metadata": {},
   "outputs": [
    {
     "data": {
      "text/html": [
       "<div>\n",
       "<style scoped>\n",
       "    .dataframe tbody tr th:only-of-type {\n",
       "        vertical-align: middle;\n",
       "    }\n",
       "\n",
       "    .dataframe tbody tr th {\n",
       "        vertical-align: top;\n",
       "    }\n",
       "\n",
       "    .dataframe thead th {\n",
       "        text-align: right;\n",
       "    }\n",
       "</style>\n",
       "<table border=\"1\" class=\"dataframe\">\n",
       "  <thead>\n",
       "    <tr style=\"text-align: right;\">\n",
       "      <th></th>\n",
       "      <th>DISCOVERY_MONTH</th>\n",
       "      <th>FIRE_SIZE</th>\n",
       "    </tr>\n",
       "  </thead>\n",
       "  <tbody>\n",
       "    <tr>\n",
       "      <td>1</td>\n",
       "      <td>August</td>\n",
       "      <td>225.897357</td>\n",
       "    </tr>\n",
       "    <tr>\n",
       "      <td>5</td>\n",
       "      <td>July</td>\n",
       "      <td>210.996341</td>\n",
       "    </tr>\n",
       "    <tr>\n",
       "      <td>6</td>\n",
       "      <td>June</td>\n",
       "      <td>159.222141</td>\n",
       "    </tr>\n",
       "    <tr>\n",
       "      <td>11</td>\n",
       "      <td>September</td>\n",
       "      <td>72.563437</td>\n",
       "    </tr>\n",
       "    <tr>\n",
       "      <td>8</td>\n",
       "      <td>May</td>\n",
       "      <td>45.938382</td>\n",
       "    </tr>\n",
       "    <tr>\n",
       "      <td>0</td>\n",
       "      <td>April</td>\n",
       "      <td>43.775211</td>\n",
       "    </tr>\n",
       "    <tr>\n",
       "      <td>10</td>\n",
       "      <td>October</td>\n",
       "      <td>43.444060</td>\n",
       "    </tr>\n",
       "    <tr>\n",
       "      <td>7</td>\n",
       "      <td>March</td>\n",
       "      <td>32.289686</td>\n",
       "    </tr>\n",
       "    <tr>\n",
       "      <td>3</td>\n",
       "      <td>February</td>\n",
       "      <td>22.973096</td>\n",
       "    </tr>\n",
       "    <tr>\n",
       "      <td>9</td>\n",
       "      <td>November</td>\n",
       "      <td>21.684604</td>\n",
       "    </tr>\n",
       "    <tr>\n",
       "      <td>4</td>\n",
       "      <td>January</td>\n",
       "      <td>14.080208</td>\n",
       "    </tr>\n",
       "    <tr>\n",
       "      <td>2</td>\n",
       "      <td>December</td>\n",
       "      <td>12.683628</td>\n",
       "    </tr>\n",
       "  </tbody>\n",
       "</table>\n",
       "</div>"
      ],
      "text/plain": [
       "   DISCOVERY_MONTH   FIRE_SIZE\n",
       "1           August  225.897357\n",
       "5             July  210.996341\n",
       "6             June  159.222141\n",
       "11       September   72.563437\n",
       "8              May   45.938382\n",
       "0            April   43.775211\n",
       "10         October   43.444060\n",
       "7            March   32.289686\n",
       "3         February   22.973096\n",
       "9         November   21.684604\n",
       "4          January   14.080208\n",
       "2         December   12.683628"
      ]
     },
     "execution_count": 298,
     "metadata": {},
     "output_type": "execute_result"
    }
   ],
   "source": [
    "#check how big fires were across months\n",
    "#fires.groupby('DISCOVERY_MONTH', as_index=False)['FIRE_SIZE'].sum()\n",
    "test = fires.groupby('DISCOVERY_MONTH', as_index=False)['FIRE_SIZE'].mean()\n",
    "test.sort_values(by='FIRE_SIZE',ascending=False)"
   ]
  },
  {
   "cell_type": "code",
   "execution_count": 328,
   "metadata": {},
   "outputs": [
    {
     "data": {
      "text/plain": [
       "July         76499\n",
       "April        73320\n",
       "March        72592\n",
       "August       68584\n",
       "May          50855\n",
       "June         48893\n",
       "February     45482\n",
       "September    38063\n",
       "November     31946\n",
       "October      31545\n",
       "January      26714\n",
       "December     15967\n",
       "Name: DISCOVERY_MONTH, dtype: int64"
      ]
     },
     "execution_count": 328,
     "metadata": {},
     "output_type": "execute_result"
    }
   ],
   "source": [
    "fires.DISCOVERY_MONTH.value_counts(sort=True)"
   ]
  },
  {
   "cell_type": "code",
   "execution_count": 330,
   "metadata": {},
   "outputs": [
    {
     "data": {
      "image/png": "iVBORw0KGgoAAAANSUhEUgAAAnYAAAFQCAYAAAAySTNPAAAABHNCSVQICAgIfAhkiAAAAAlwSFlzAAALEgAACxIB0t1+/AAAADh0RVh0U29mdHdhcmUAbWF0cGxvdGxpYiB2ZXJzaW9uMy4xLjAsIGh0dHA6Ly9tYXRwbG90bGliLm9yZy+17YcXAAAgAElEQVR4nO3debgkVX3/8fdHFgWRfVFZBCMuaJTgCLhEURQHNMFEUAgCGuJE45poFJMYIi5RY1yIyy8oCLgBIggaFCcIKirLgAiCKCMMMoKAbCIYEfj+/qhznebOXfreucvcvu/X8/TTVadOVX2ru6v726fqVKWqkCRJ0tz3gNkOQJIkSVPDxE6SJGlAmNhJkiQNCBM7SZKkAWFiJ0mSNCBM7CRJkgaEiZ2kUSX5TZJHtuFjkrxrjLqV5FFteJ0kX0lye5IvJjkgyTdmIN6XJzlnutcznZIsS/Lc2Y5D0txkYifNE0neluT0YWVXjlK2H0BVrVdVV01idfsAWwCbVNW+VfW5qtpj0sHPgiRnt2T1ScPKv9zKd5uCdYyZLPcx/8OSnJbkuhbTtsOmb5nk1CS3JFme5FXDpv9Zkh+1BP57SXbomXZwkguT/LrN+/4ka44Ry5j1k2yc5JQkdya5JslfTWA7jklyd4tz6LHGZF83aZCZ2Enzx7eBpw/9ICZ5KLAWsNOwske1uqviEcBPq+qe8SqOlSysBn4KHDQ0kmQTYFfgplmL6P7uA74OvHiU6Z8FrqZLsl8AvCfJswGSbA98DngVsCHwFeC0nvdjXeCNwKbALsDuwJvHiGW8+h8D7m6xHAB8Isnj+9wOgPe3PxpDj3vHqCvNWyZ20vxxAV0it2MbfyZwFvCTYWU/q6rr4P6HV4dL8o9Jrm+tLH/dU/4O4F+Bl7aWlUOGHyJty31NkiuBK1vZY5Msbq1LP0nykp76eyW5PMkdSX6RZKwEI0n+qx0GviLJ7q1w3yQXDqv4piRfHmNZn2vbMdQ6tD9wCl2CMrSMByb5cHsdrmvDD2zTdmutV29KcmN7vV7Rpi2iS3De0l6nr/Ssd8ckl7RtOCHJg0YKrqpuqKqP0723w1+E9YDdgHdX1e+r6ofAScDQe/V84DtVdU5LwN8HbAk8qy37E1X1naq6u6p+0V6Lp4/2Qo1VP8mD6ZK2t1fVb6rqHOA04MDxtkPSxJjYSfNEVd0NnEeXvNGevwOcM6xs3Na6JAvpWmOeB2wP/OGcsKo6DHgPcEJrWTlqlMW8iK5lZ4f2w78Y+DywOV0C9fGeFp2jgL+tqocATwC+OUZ4uwBX0bUcHQacnGRjukRiuySP66n7MuAzYyzrOuByYOgw8kHAccPq/DNdK96OwJOAnYF/6Zn+UGADuqTpEOBjSTaqqiPpkp+hlqg/65nnJcBCYDvgicDLx4hxNBn2PDT8hJ7h4dN6pw/3TOCyCay/t/6jgXur6qc9038IPH6luUb3dy3pvzDJWC170rxmYifNL99iRRL3p3SJ3XeGlX2rj+W8BPh0Vf2oqu4E/m0Ssfx7Vd1SVb8FXggsq6pPV9U9VXUR8CW6c/UAfk+XAK5fVbe26aO5Efhwa6U6ga5F8gVV9TvgBLpkjpY0bgt8dZw4jwMOSvIYYMOq+v6w6QcAh1fVjVV1E/AOWktUT+yHt3hOB34DPGacdR5RVddV1S10h0h3HKf+SqrqDuC7wNuTPCjJTnStZuu2KouBZ7VWxbWBfwLW7pn+B62VcQHwgX7WPUL99YDbh1W7HXhIn5tzBN0fiM2BtwPHJBm19VCaz0zspPnl28AzkmwEbFZVVwLfA57Wyp5Af+fXPRy4tmf8mknE0jv/I4Bdktw29KBLmB7apr8Y2Au4Jsm3kjx1jOX+oqpqWGwPb8PHAn+VJHTJ14kt4RvLycBzgNcxcuvew7n/9veuD+DmYeca3kWX6IzllxOsP5oD6Fr9rgU+QddCuBygqq4ADgY+ClxP18J5+dD0IUleBLwX2LOqftXKDujpxPC18erTJbPrD4ttfeCOfjaiqi6qqptb0n96246/7Gdeab5ZnU9aljT1vk93WHARXWsOVfXrJNe1suuq6uo+lnM9sHXP+DaTiKU3+boW+FZVPW/EilUXAHsnWQt4LXDisPX32jJJepK7begOw1JV5ya5m65l8q/aY+wgq+5qycurgT8aocp1dInp0GHHbVpZP2r8KpNXVdfQtYYCkOTzwPk900+iO++OJBvSnX93QU/9hcAn6Vo8L+2Z73N0ydX9jFafrhPKmkm2b38moDtsPZFDu/fbNO5/GFlSY4udNI+0w55LgH+gOwQ75JxW1m9v2BOBlyfZIcm6dOeyrYqvAo9OcmCStdrjKUkel2Tt1kK0QVX9Hvg1MFaPyM2B17dl7As8Dui9pMtxdK1U97ST+PvxT8CzqmrZCNO+APxLks2SbErXceSzfS73BuCRfdYdUetY8cA2+sDejhbt9XtIew1fRneu4Ad7pj85yRpJNgP+G/hKa8kjyXPokrcXV9UfksEx4hi1fjtcfzJweJIHt8Ooe9PTAjrOduyTZL0kD0iyB93h9NP6e4Wk+cXETpp/vkWX/PQmNd9pZX0ldlX1NeDDdJ0YljJ2Z4Z+lncHXdKxH11r1y/pemkO/dAfCCxL8mu6y3O8bIzFnUd3PtavgHcD+1TVzT3TP0N3yHmsThPD47tujCTwXXTJ8iXApcBFrawfR9GdO3jbOL1zx/JbukOdAFe08SHPp+tIcivd67awnQc45CPAbXTnId4GvLJn2tvpWndPH+2w6zDj1f87YB26cyC/ALy6qnpb7MbajjcAv2gx/gfwyqo6e4xYpHkr9z8VRZIGW5Kh5GKnnsOCkjQQbLGTNN+8GrjApE7SILLzhKR5I8kyupPuXzTLoUjStJixFrskf5/ksnT3JfxCu67SdknOS3dvyhPatZSGruR+QpKlbfq2Pct5Wyv/SZLn95QvbGVLkxw6U9slae6oqm2r6hFV9YPZjkWSpsOMJHZJtgReDyyoqicAa9CdJP0+4ENVtT3dyb2HtFkOAW6tqkcBH2r1SHeD6v3orla+kO7K9Guku93Px4A9gR2A/dNzM2tJkqT5YCbPsVsTWCfdDabXpbsO1nNo11Ciu3Do0OGRvds4bfru7YKiewPHV9Xv2rW2ltLdvmdnYGlVXdVum3R8qytJkjRvzMg5dlX1iyQfAH5O14X9G8CFwG09V2RfTncvRdrztW3ee5LcDmzSys/tWXTvPNcOK99lvLg23XTT2nbbbSezSZIkSTPqwgsv/FVVbTZWnRlJ7Nqtivamu7XNbcAX6Q6bDjd07ZWRrig+2pXGi5FbHke8jkuSRXRX2GebbbZhyZIlY8YuSZK0Okgy7u0bZ+pQ7HOBq6vqpnbl+JOBpwEbtkOzAFux4jY8y2m3C2rTNwBu6S0fNs9o5SupqiOrakFVLdhsszGTXkmSpDllphK7nwO7Jlm3nSu3O93Nps8C9ml1DgZObcOntXHa9G+2+z6eBuzXes1uR3d1+fPp7m24fetluzZdBwtvNyNJkuaVmTrH7rwkJ9Hdauce4AfAkcD/AMcneVcrO6rNchTwmSRL6Vrq9mvLuSzJiXRJ4T3Aa6rqXoAkrwXOoOtxe/SwW9VIkiQNvHl9S7EFCxaU59hJkqS5IMmFVbVgrDreUkySJGlAmNhJkiQNCBM7SZKkAWFiJ0mSNCBM7CRJkgaEiZ0kSdKAMLGTJEkaEDNygeK54taTTp/tEFay0T57zXYIkiRpjrDFTpIkaUCY2EmSJA0IEztJkqQBYWInSZI0IEzsJEmSBoSJnSRJ0oAwsZMkSRoQJnaSJEkDwsROkiRpQJjYSZIkDQhvKTYgfnn8W2Y7hJU8dL/3z3YIkiTNK7bYSZIkDQhb7DSrvn/q62c7hJU8de8jZjsESZImxRY7SZKkAWFiJ0mSNCBM7CRJkgaEiZ0kSdKAmJHELsljklzc8/h1kjcm2TjJ4iRXtueNWv0kOSLJ0iSXJNmpZ1kHt/pXJjm4p/zJSS5t8xyRJDOxbZIkSauLGUnsquonVbVjVe0IPBm4CzgFOBQ4s6q2B85s4wB7Atu3xyLgEwBJNgYOA3YBdgYOG0oGW51FPfMtnIFNkyRJWm3MxqHY3YGfVdU1wN7Asa38WOBFbXhv4LjqnAtsmORhwPOBxVV1S1XdCiwGFrZp61fV96uqgON6liVJkjQvzEZitx/whTa8RVVdD9CeN2/lWwLX9syzvJWNVb58hHJJkqR5Y0YTuyRrA38OfHG8qiOU1STKR4phUZIlSZbcdNNN44QhSZI0d8x0i92ewEVVdUMbv6EdRqU939jKlwNb98y3FXDdOOVbjVC+kqo6sqoWVNWCzTbbbBU3R5IkafUx04nd/qw4DAtwGjDUs/Vg4NSe8oNa79hdgdvbodozgD2SbNQ6TewBnNGm3ZFk19Yb9qCeZUmSJM0LM3av2CTrAs8D/ran+L3AiUkOAX4O7NvKTwf2ApbS9aB9BUBV3ZLkncAFrd7hVXVLG341cAywDvC19pAkSZo3Ziyxq6q7gE2Gld1M10t2eN0CXjPKco4Gjh6hfAnwhCkJVpIkaQ6ascROGjRf+p/XznYIK3nxCz462yFIkmaRtxSTJEkaECZ2kiRJA8LETpIkaUCY2EmSJA0IEztJkqQBYWInSZI0IEzsJEmSBoSJnSRJ0oAwsZMkSRoQJnaSJEkDwsROkiRpQJjYSZIkDQgTO0mSpAFhYidJkjQgTOwkSZIGhImdJEnSgDCxkyRJGhAmdpIkSQPCxE6SJGlAmNhJkiQNCBM7SZKkAWFiJ0mSNCBM7CRJkgaEiZ0kSdKAmFRil2SdJGtPcJ4Nk5yU5IokP07y1CQbJ1mc5Mr2vFGrmyRHJFma5JIkO/Us5+BW/8okB/eUPznJpW2eI5JkMtsmSZI0V/WV2CX5QJKd2/ALgFuA25L82QTW9RHg61X1WOBJwI+BQ4Ezq2p74Mw2DrAnsH17LAI+0da9MXAYsAuwM3DYUDLY6izqmW/hBGKTJEma8/ptsTsA+FEb/lfgZcCfA+/pZ+Yk6wPPBI4CqKq7q+o2YG/g2FbtWOBFbXhv4LjqnAtsmORhwPOBxVV1S1XdCiwGFrZp61fV96uqgON6liVJkjQvrNlnvXWr6q4kmwCPrKovASR5RJ/zPxK4Cfh0kicBFwJvALaoqusBqur6JJu3+lsC1/bMv7yVjVW+fIRySZKkeaPfFrufJjkAeC1dKxlJNgV+2+f8awI7AZ+oqj8B7mTFYdeRjHR+XE2ifOUFJ4uSLEmy5Kabbho7akmSpDmk38Tu74DXAM8B3t7Kng98o8/5lwPLq+q8Nn4SXaJ3QzuMSnu+saf+1j3zbwVcN075ViOUr6SqjqyqBVW1YLPNNuszfEmSpNVfX4ldVV1QVU+rqmdV1c9a2eeq6sA+5/8lcG2Sx7Si3YHLgdOAoZ6tBwOntuHTgINa79hdgdvbIdszgD2SbNQ6TewBnNGm3ZFk19Yb9qCeZUmSJM0L/Z5jR5LnAfsBm1fVnyVZQNdh4Zt9LuJ1wOfaZVKuAl5Bl1iemOQQ4OfAvq3u6cBewFLgrlaXqrolyTuBC1q9w6vqljb8auAYYB3ga+0hSZI0b/SV2CV5HV1nh08B+7Ti3wJHAE/rZxlVdTGwYIRJu49Qt+gO/Y60nKOBo0coXwI8oZ9YJEmSBlG/59i9EXhuVb0XuK+VXQE8ZvRZJEmSNJP6TeweworLjAz1Nl0LuHvKI5IkSdKk9JvYfZuVL0/yeuCsqQ1HkiRJk9Vv54nXAV9J8krgIUl+AvwamMgtxSRJkjSN+krs2l0hngI8BXgE3WHZ86vqvrHnlCRJ0kzpt1fsjsDNVXU+cH4r2zrJxlX1w+kMUJIkSf3p9xy7z9J1lui1NvCZqQ1HkiRJk9VvYrdNVV3VW9DuQLHtlEckSZKkSek3sVueZKfegjY+4v1YJUmSNPP67RX7IeDUJO8Hfgb8EfBm4N3TFZgkSZImpt9esZ9MchtwCLA1Xa/YN1XVSdMZnCRJkvrXb4sdVfVF4IvTGIskSZJWQd+JXZI9gB2B9XrLq+pfpzooSZIkTVy/17H7KPASuluI3dUzqUaeQ5IkSTOt3xa7/YEdq+ra6QxGkiRJk9fv5U5uBm6bzkAkSZK0avptsftP4HNJ/h24oXfC8AsXS5IkaXb0m9h9oj2/cFh5AWtMXTiSJEmarH6vY9fvIVtJkiTNkgklbEm2TrLrdAUjSZKkyesrsUuyTZLvAlcA/9vK9knyqekMTpIkSf3rt8Xuv4H/AR4C/L6VLQaeNx1BSZIkaeL67TyxM/CCqrovSQFU1e1JNpi+0CRJkjQR/bbY3QA8qrcgyQ7Az6c8IkmSJE1Kv4ndB4CvJnkFsGaS/YETgPdNW2SSJEmakL4Su6o6GngLsC9wLXAQ8Paq+ly/K0qyLMmlSS5OsqSVbZxkcZIr2/NGrTxJjkiyNMklSXbqWc7Brf6VSQ7uKX9yW/7SNm/6jU2SJGkQjHuOXZI1gMOAd1fVl1dxfc+uql/1jB8KnFlV701yaBt/K7AnsH177EJ3geRdkmzcYllAd3HkC5OcVlW3tjqLgHOB04GFwNdWMV5p4LzjrNfNdggrOezZ/zXbIUjSQBi3xa6q7gVew4resFNpb+DYNnws8KKe8uOqcy6wYZKHAc8HFlfVLS2ZWwwsbNPWr6rvV1UBx/UsS5IkaV7o9xy7Y4FXreK6CvhGkguTLGplW1TV9QDtefNWviXdId8hy1vZWOXLRyiXJEmaNyZyuZPXJXkLXWJVQxOq6pl9LuPpVXVdks2BxUmuGKPuSOfH1STKV15wl1QuAthmm23GjliSJGkO6Tex+2R7TFpVXdeeb0xyCl2yeEOSh1XV9e1w6o2t+nJg657ZtwKua+W7DSs/u5VvNUL9keI4EjgSYMGCBSMmf5IkSXPRuIdiW+eJPwKOr6pjhz/6WUmSByd5yNAwsAfwI+A0YKhn68HAqW34NOCg1jt2V+D2dqj2DGCPJBu1HrR7AGe0aXck2bX1hj2oZ1mSJEnzwrgtdlV1b5LXAP+2CuvZAjilXYFkTeDzVfX1JBcAJyY5hO5ix/u2+qcDewFLgbuAV7RYbknyTuCCVu/wqrqlDb8aOAZYh643rD1ipQHzhrOOm+0QVvKRZx802yFI0h/0eyh2qPPExyezkqq6CnjSCOU3A7uPUF50PXFHWtbRwNEjlC8BnjCZ+CRJkgbBTHaekCRJ0jSasc4TkiRJml59JXb9dpKQJEnS7OkrsUvy16NNa+e8SZIkaZb1eyj2wGHjD6W7BMp3GaEjgyRJkmZev4dinz28rLXiPW7KI5IkSdKk9Huv2JEcAxwyRXFIkiRpFfV7jt3wBHBd4GXAbVMekSRJkial33Ps7qHn2nXNL4BFUxuOJEmSJqvfxG67YeN3VtWvpjoYSZIkTd5EWuzuqqpbhwqSbASsU1XXTUtkkjQg3njm6nfr6g/vvudshyBpGvTbeeLLwFbDyrYCTpnacCRJkjRZ/SZ2j6mqS3sL2vhjpz4kSZIkTUa/id2NSR7VW9DGb576kCRJkjQZ/SZ2RwNfSvLCJDsk+TPgJOBT0xeaJEmSJqLfzhPvBX4PfADYGvg5cBTwwWmKS5IkSRPU7y3F7gP+oz0kSZK0GurrUGySQ5M8ZVjZzkneMj1hSZIkaaL6PcfuDcDlw8ouB944teFIkiRpsvpN7NamO8eu193Ag6Y2HEmSJE1Wv4ndhcDfDSt7FXDR1IYjSZKkyeq3V+zfA4uTHAj8DHgUsAXwvOkKTJIkSRPTb6/Yy5I8Gngh3eVOTga+WlW/mc7gJEmS1L9+W+wAHgZcA1xYVVdOUzySJEmapHHPsUvyl0mWAT8BvgtckWRZkn2mOzhJkiT1b8zELskLgE8DHwceCawD/BHwCeBTSV44kZUlWSPJD5J8tY1vl+S8JFcmOSHJ2q38gW18aZu+bc8y3tbKf5Lk+T3lC1vZ0iSHTiQuSZKkQTBei93bgb+tqvdX1bKq+l17fh/w6jZ9It4A/Lhn/H3Ah6pqe+BW4JBWfghwa1U9CvhQq0eSHYD9gMcDC4GPt2RxDeBjwJ7ADsD+ra4kSdK8MV5i93jglFGmnUyXRPUlyVbAC4BPtfEAzwFOalWOBV7Uhvdu47Tpu7f6ewPHtwTzamApsHN7LK2qq6rqbuD4VleSJGneGC+x+x2w/ijTNqS7SHG/Pgy8BbivjW8C3FZV97Tx5cCWbXhL4FqANv32Vv8P5cPmGa18JUkWJVmSZMlNN900gfAlSZJWb+Mldl8H/n2Uae8BzuhnJe1cvBur6sLe4hGq1jjTJlq+cmHVkVW1oKoWbLbZZmNELUmSNLeMd7mTtwLnJLkE+BJwPd1lT15M15L3jD7X83Tgz5PsRXcbsvXpWvA2TLJma5XbCriu1V9Od7285UnWBDYAbukpH9I7z2jlkiRJ88KYLXZV9QtgJ+BUus4K/9ieTwV2qqrl/aykqt5WVVtV1bZ0nR++WVUHAGcBQ5dNObgtF+C0Nk6b/s2qqla+X+s1ux2wPXA+cAGwfetlu3Zbx2n9xCZJkjQoxr1AcVXdStf7daI9YPvxVuD4JO8CfgAc1cqPAj6TZCldS91+LZbLkpwIXA7cA7ymqu4FSPJaukPDawBHV9Vl0xCvJEnSamsid56YElV1NnB2G76Krkfr8Dr/B+w7yvzvBt49QvnpwOlTGKokSdKcMu6dJyRJkjQ3zHiLnSRp7njTmefPdggr+c/dVzrQI6kZtcUuybk9w4fNTDiSJEmarLEOxT46yYPa8JtmIhhJkiRN3liHYk8FfppkGbBOkm+PVKmqnjkdgUmSJGliRk3squoVSZ4BbAs8hRWXIpEkSdJqaMzOE1V1Dt2dJ9auqmNnKCZJkiRNQl+9Yqvq6CTPBg4EtgR+AXy2qr45ncFJkiSpf31dxy7J3wAnAL8ETqa7Z+znk7xyGmOTJEnSBPR7Hbu3AM+rqh8OFSQ5AfgS8MnpCEySJEkT0++dJzahuz9rr58AG09tOJIkSZqsfhO7c4APJlkXIMmDgf8AvjddgUmSJGli+k3sXgU8Ebg9yQ3AbcCTgL+drsAkSZI0Mf32ir0eeFaSrYCHA9dV1fJpjUySJEkT0m/nCQBaMmdCJ0mStBrq91CsJEmSVnMmdpIkSQNi3MQuyQOSPCfJ2jMRkCRJkiZn3MSuqu4DTq2qu2cgHkmSJE1Sv4div51k12mNRJIkSauk316x1wBfS3IqcC1QQxOq6l+nIzBJkiRNTL+J3TrAl9vwVtMUiyRJklZBvxcofsV0ByJJ0lT5j7N+OdshrOQfn/3Q2Q5B80DfFyhO8jhgH2CLqnptkscAD6yqS6YtOkmS5pnvfuO22Q5hJU/fY8PZDkF96qvzRJJ9gW8DWwIHteKHAB/sc/4HJTk/yQ+TXJbkHa18uyTnJbkyyQlDl1RJ8sA2vrRN37ZnWW9r5T9J8vye8oWtbGmSQ/uJS5IkaZD02yv2cOB5VfUq4N5W9kPgSX3O/zvgOVX1JGBHYGHrZfs+4ENVtT1wK3BIq38IcGtVPQr4UKtHkh2A/YDHAwuBjydZI8kawMeAPYEdgP1bXUmSpHmj38Ruc7pEDlb0iK2e4TFV5zdtdK32KOA5wEmt/FjgRW147zZOm757krTy46vqd1V1NbAU2Lk9llbVVe16e8e3upIkSfNGv4ndhcCBw8r2A87vd0WtZe1i4EZgMfAz4LaquqdVWU53qJf2fC1Am347sElv+bB5RiuXJEmaN/rtPPF64BtJDgEenOQM4NHAHv2uqKruBXZMsiFwCvC4kaq154wybbTykRLUEVsTkywCFgFss80240QtSZI0d/R7uZMrkjwWeCHwVbrWsa/2HF7tW1XdluRsYFdgwyRrtla5rYDrWrXlwNbA8iRrAhsAt/SUD+mdZ7Ty4es/EjgSYMGCBX0dSpYkSZoL+j0US1XdBXwXOBv4zkSSuiSbtZY6kqwDPBf4MXAW3SVUAA4GTm3Dp7Vx2vRvVlW18v1ar9ntgO3pDgdfAGzfetmuTXeY+LR+45MkSRoEfbXYJdkG+BxdK9utwEZJzgMOqKpr+ljEw4BjW+/VBwAnVtVXk1wOHJ/kXcAPgKNa/aOAzyRZStdStx9AVV2W5ETgcuAe4DXtEC9JXgucAawBHF1Vl/WzbZIkSYOi33PsjqXrQLGwqu5Msh7wzla+23gzt4sY/8kI5VfR9WgdXv5/wL6jLOvdwLtHKD8dOH28WCRJkgZVv4ndk4E9qur3AFX1myRvBW6etsgkSZI0If2eY3cuK7esLQC+P7XhSJIkabJGbbFLcnjP6M+A05P8D12P2K2BvYDPT294kiRJ6tdYh2K3HjZ+cnvenO4WYacAD5qOoCRJkjRxoyZ2VfWKmQxEkiRJq6bfzhMkWRd4FLBeb3lVfW+qg5IkSdLE9Xsdu4OAjwJ3A7/tmVSA9+WSJGmeu+7zv5rtEFby8L/adLZDmHH9tti9H3hxVS2ezmAkSZI0ef1e7uRuuluJSZIkaTXVb2L3duCDSeZfm6YkSdIc0W9i91Pgz4EbktzbHvcluXcaY5MkSdIE9HuO3WeA44ATuH/nCUmSJK0m+k3sNgH+tapqOoORJEnS5PV7KPbTwIHTGYgkSZJWTb8tdjsDr03yz8ANvROq6plTHpUkSZImrN/E7pPtIUmSpNVUX4ldVR073YFIkiRp1fR7S7G/Hm1aVR09deFIkiRpsvo9FDu848RDgT8CvguY2EmSJK0G+j0U++zhZa0V73FTHpEkSZImpd/LnYzkGOCQKYpDkiRJq6jfc+yGJ4DrAi8DbpvyiCRJkjQp/Z5jdw8w/K4TvwBeObXhSJIkabL6Tey2GzZ+Z1X9aqqDkSRJ0uT123nimukORJIkSatmzMQuyVmsfAi2V1XV7uOtJMnWwHF0l0m5Dziyqj6SZGPgBGBbYBnwkqq6NUmAjwB7AXcBL6+qi9qyDgb+pS36XUMXT07yZLoOHesApwNvqKqxYpckSRoo47XYfXaU8i2B19N1oujHPcCbquqiJA8BLkyyGHg5cGZVvTfJodh4fAUAABUZSURBVMChwFuBPYHt22MX4BPALi0RPAxYQJdwXpjktKq6tdVZBJxLl9gtBL7WZ3ySJElz3piJXVUd1TueZBPgbXSdJk4ADu9nJVV1PXB9G74jyY/pksO9gd1atWOBs+kSu72B41qL27lJNkzysFZ3cVXd0uJZDCxMcjawflV9v5UfB7wIEztJkjSP9HUduyTrJ3knsBTYAtipqhZV1fKJrjDJtsCfAOcBW7Skbyj527xV2xK4tme25a1srPLlI5RLkiTNG2MmdknWSfI24Cq6u0w8o6oOrKqfTWZlSdYDvgS8sap+PVbVEcpqEuUjxbAoyZIkS2666abxQpYkSZozxjvH7mpgDeD9wBJgiyRb9Faoqm/2s6Ika9EldZ+rqpNb8Q1JHlZV17dDrTe28uXA1j2zbwVc18p3G1Z+divfaoT6K6mqI4EjARYsWGDnCkmSNDDGS+z+j67l69WjTC/gkeOtpPVyPQr4cVV9sGfSacDBwHvb86k95a9Ncjxd54nbW/J3BvCeJBu1ensAb6uqW5LckWRXukO8BwH/NV5ckiRJg2S8zhPbTtF6ng4cCFya5OJW9k90Cd2JSQ4Bfg7s26adTnepk6V0lzt5RYvnlnau3wWt3uFDHSnoks9j6C538jXsOCFJkuaZfu88sUqq6hxGPg8OYKXr4LXesK8ZZVlHA0ePUL4EeMIqhClJkjSn9dUrVpIkSas/EztJkqQBYWInSZI0IEzsJEmSBoSJnSRJ0oAwsZMkSRoQJnaSJEkDwsROkiRpQJjYSZIkDYgZufOEJEnS6urmL1wy2yGsZJP9nzip+WyxkyRJGhAmdpIkSQPCxE6SJGlAmNhJkiQNCBM7SZKkAWFiJ0mSNCBM7CRJkgaEiZ0kSdKAMLGTJEkaECZ2kiRJA8LETpIkaUCY2EmSJA0IEztJkqQBYWInSZI0IEzsJEmSBsSMJHZJjk5yY5If9ZRtnGRxkivb80atPEmOSLI0ySVJduqZ5+BW/8okB/eUPznJpW2eI5JkJrZLkiRpdTJTLXbHAAuHlR0KnFlV2wNntnGAPYHt22MR8AnoEkHgMGAXYGfgsKFksNVZ1DPf8HVJkiQNvBlJ7Krq28Atw4r3Bo5tw8cCL+opP6465wIbJnkY8HxgcVXdUlW3AouBhW3a+lX1/aoq4LieZUmSJM0bs3mO3RZVdT1Ae968lW8JXNtTb3krG6t8+QjlkiRJ88rq2HlipPPjahLlIy88WZRkSZIlN9100yRDlCRJWv3MZmJ3QzuMSnu+sZUvB7buqbcVcN045VuNUD6iqjqyqhZU1YLNNttslTdCkiRpdTGbid1pwFDP1oOBU3vKD2q9Y3cFbm+Has8A9kiyUes0sQdwRpt2R5JdW2/Yg3qWJUmSNG+sORMrSfIFYDdg0yTL6Xq3vhc4MckhwM+BfVv104G9gKXAXcArAKrqliTvBC5o9Q6vqqEOGa+m63m7DvC19pAkSZpXZiSxq6r9R5m0+wh1C3jNKMs5Gjh6hPIlwBNWJUZJkqS5bnXsPCFJkqRJMLGTJEkaECZ2kiRJA8LETpIkaUCY2EmSJA0IEztJkqQBYWInSZI0IEzsJEmSBoSJnSRJ0oAwsZMkSRoQJnaSJEkDwsROkiRpQJjYSZIkDQgTO0mSpAFhYidJkjQgTOwkSZIGhImdJEnSgDCxkyRJGhAmdpIkSQPCxE6SJGlAmNhJkiQNCBM7SZKkAWFiJ0mSNCBM7CRJkgaEiZ0kSdKAGKjELsnCJD9JsjTJobMdjyRJ0kwamMQuyRrAx4A9gR2A/ZPsMLtRSZIkzZyBSeyAnYGlVXVVVd0NHA/sPcsxSZIkzZhBSuy2BK7tGV/eyiRJkuaFVNVsxzAlkuwLPL+q/qaNHwjsXFWvG1ZvEbCojT4G+Mk0hbQp8KtpWvZ0mqtxw9yNfa7GDXM39rkaN8zd2Odq3DB3Y5+rccPcjX26435EVW02VoU1p3HlM205sHXP+FbAdcMrVdWRwJHTHUySJVW1YLrXM9Xmatwwd2Ofq3HD3I19rsYNczf2uRo3zN3Y52rcMHdjXx3iHqRDsRcA2yfZLsnawH7AabMckyRJ0owZmBa7qronyWuBM4A1gKOr6rJZDkuSJGnGDExiB1BVpwOnz3YczbQf7p0mczVumLuxz9W4Ye7GPlfjhrkb+1yNG+Zu7HM1bpi7sc963APTeUKSJGm+G6Rz7CRJkuY1E7tJSvKbcaafnWS16tGT5C+SVJLHTmLeTw3dySPJsiSbTn2E0OL7TM/4mkluSvLVKVr+tLwvq/LarsI635hk3Wlc/rS+F9NlvH1zpiS5N8nFPY9tx6i722y+rkn+OcllSS5pse4yiWXsluRpUxhTX98z7XP6nz3jb07yb1MVx0RM1WcvyVZJTk1yZZKfJflI6xQ4Wv2+vgtmYt9YXfa/0fTsl5cl+WGSf0gyK7nQdL1WJnbzy/7AOXQ9hvuWZI2q+puqunx6wrqfO4EnJFmnjT8P+MVEFpBkNs4dndRru4reCExbYscUvBfz3G+raseex7JVXWC7deKqzL/SvpHkqcALgZ2q6onAc7n/xd77tRswZYndBPwO+MthSeCc+20bem+SBDgZ+HJVbQ88GlgPePcYs0/3d8Fsfa/2ZYL7xdB++Xi677S9gMOmJ7LpM+b7UVU+JvEAfkP3RfbVnrKPAi9vw2cDC4BDgA/11Hkl8MFZiHc9uh/lRwNXtLLdgG8DpwCXA/8PeEDP9h0OnAc8Y2h72rRlwKbT+Lq+B9injR8HvHXodaa7ddz3gB+058e08pcDXwS+Anyzlb0FuBT4IfDenvflfcD5wE+BP53G13a0z8ZewBV0ieARPdv2b8Cbe+b5EbAt8GDgf9p2/Ah4KfB64O62fWetZu/Fd4Ade5bzXeCJM/hZH2/fXAa8A7iovX6PbeUPBo6mu3TSD4C9VzWOEcrWAP6jreMS4G8nsS8uo+1/dN8xZ09k3wA+07ttbb3njxDrk4FvARfSXW3gYT370IfbOn7U1rst8Eu6/eBi4E+BzYAvtW29AHh6z+f8WOAbbVv+Enh/ey++DqzV8z4N7avnA49q5cOXexfwtrYdR9JddP7SVvcRwJnttT4T2AbYoC176PVdly6RXQv4oxbDhXSf46HPxjHAJ4CzgKuAZ7XPyo+BY4Z99v6T7rN1JrBZKx9ruR9sy/3PVrY78O1h78X6wM10n9EPtNfqEuB1jPBdQPdH89L2/rxvKuPrc/9bry1/aB/bu03btr1mnwQua5+BdXo+V0O/MZsCy3rm+U5b1kXA03r2mbOAz9PtM+8E3tATx7uB14+3XwKPbK9tGGX/bPVG+j2Z9c/LiO/BTH3ZDtqD/hO7BwM/Y8WX1feAP56FeF8GHNUTw04t/v9rH+w1gMWs+BEv4CU98/fudMuY3sTuicBJwIPofiT+8DrTfcGt2YafC3ypDb+c7iLVG7fxPdt2rtvGN+7ZjqEv0L2A/53G13alz0bbpmuB7Vr5Fxg/sXsx8Mme8g2m+31YxffiYODDbfjRwJIZ/qz3k9i9rg3/HfCpNvwe4GVteEO6xP/BqxDHve01uxg4pZUtAv6lDT8QWAJsx8T2xT+879w/set333gWXWsQrEhyLm7b+/E2fa32WR76oXkp3SWkoNuHPtmGnwn8aJTP7+eBZ7ThbYAf99Q7p63jSXSJ2Z5t2inAi3q285/b8EE9n7vhy72vbfttdEntocC/telfAQ5uw3/ds92nAs/u2bahz8CZwPZteBdW/Ek8hu7+46G7B/mvgT+maxm8kPZHpr1XB7ThfwU+2sdyvwqs0fO6vZ6exoCe8h8Ab6BLaofe5417Xquhz8TDgZ/TJcBr0iXzL5qq+Prc/9YE1m/jmwJL22u3LXBPz+t1Iiv2ubMZObFbF3hQG96e9n1Ct8/cyYrv0m2Bi9rwA+h+dzcZKb4Rym4FtmD0/XO035NZ/7yM9Fhtm1YHRVXdmeSbwAuT/Jguwbt0FkLZn+5fNnQfuP3pWoHOr6qrAJJ8ga5F4CS6H6UvzUKcVNUl7Xyk/Vn58jUbAMcm2Z5up1irZ9riqrqlDT8X+HRV3dWWeUtPvZPb84V0XwararTXdiSPBa6qqqvb+BdYcYu70VwKfCDJ++h+3L6zivH2bZLvxReBtyf5R7of02NmJNiJ6f0M/GUb3gP48yRvbuMPoiUkk1zHb6tqx2FlewBPTLJPG9+A7sfqblZ9X+xr36iqbyX5WJLN6bb9JLqW2D8Fng2cALwLeAKwuDsyyBrA9T3L+0Jb1reTrJ9kwxHieS6wQ5sfYP0kD2nDX6uq3ye5tC376638Uu6/T36h5/lDoyyXtr0/pEsa7ukpfyor3t/P0LUM0rbxpXQtH/sBH0+yHt2h5C/2LPuBPcv6SlVVi/mGoe/xJJe1mC+mSzJPaPU/C5zcx3K/WFX39oynbc9woUuk/19V3QMrfa8NeQpdsn9Ti+9zbb4vT1F8/QjwniTPbOvcki5xAri6qi5uw/18B68FfDTJjnT7wqN7pp0/9F1aVcuS3JzkT9q6flBVN08gXhh9/1zp92Q1+rysxMRu1dzD/c/leNAo9T4F/BPd4bdPT3dQwyXZBHgO3flSRfdFWnQ/1MO/QIbG/28SO/NUOo3ukMNuwCY95e+kO9zwFy3hOLtn2p09w6N9OUJ3Tg50XxKrtA+M8dqexsifjTC6ET9PVfXTJE+ma2H89yTfqKrDVyXuCZrQe1FVdyVZTPdP9SV0rUozbbx9c6TPQIAXV9V03T96aB2vq6oz7leY7Eb/+2LvtvVuV7/7BnRJzgF0Sc1ft+WfDZzdfoheA1xWVU8dZTtGi7XXA4CnVtVvewvbj9XvAKrqviS/r9YcQfdD17tP1gjD91tukt9U1R1JzqU71eXbo8Tcu4zT6PaljekOOX+T7ujKbSMk40OGPjP39QyPFPPw9T1gnOUOf28uo2ul/4Mk69PdMvMqRv9e+0P1caavanz9OICuxfDJLYFfxorPau9rdy8wdA7vaJ/rvwduoGvdfQBdy/ZosX2KroX6oXSHPseV5JEtjhsZff9cyMqv+3iv20x9XlYy504wXc1cQ/fP8YFJNqA7N2IlVXUe3U75V6z4BzqT9gGOq6pHVNW2VbU1cDVdi8DO6W7D9gC6f7DnzEJ8IzkaOHyE1s0NWHEC/8vHmP8bwF8P9RRrX+DTYbTXFkb+bFwBPLKnh+RLe5a1jO4wLkl2ojsEQJKHA3dV1WfpEqydWv07gIcw/SbzXnyK7vzBC0ZpVZhufe2bw5wBvK6dvE775z/VzgBenWStto5HJ3lwm9bvvriMLhmB+ycA/e4b0LWivrEN39Na+YbsSNdKuVnrWEGStZI8vqfOS1v5M4Dbq+p2Vv48fgN47dBIa3GZqJf2PH9/pOWy4nfst3Stdof0TPseKzo0HUB7TavqN3Tn7X2ErhX83qr6NXB1kn1bvEnypAnG+wC67wTovu/PmcRyzwTWTXJQq78G3XlYx7Rtf1VPR4uh77Xe1/484FlJNm3z7k93ruRUxdePDYAbW1L3bLpzHcezjBWf6316yjcArq+q+4AD6f48j+YUYCFdq+UZY9QDIMlmdOezfrT9uRht/1zp92Q1+ryMuFBNUNupfldV19KdI3AJ8Dm6cyBGcyLw3aq6dQZCHG5/ug98ry/RfZC+D7yX7nyuq0eoNyuqanlVfWSESe+n+6f9XcbYwavq63T/ypckuRh482h1V9FYr+1Kn43WyvB3wNeTnEP3T/T2nvk2bvG+mu6cJ+jOzTi/lf8z3WEy6E4U/1qSs6Zhu/5gMu9FVV1Id17JjLZQT3LfHPJOusM+lyT5URufap+iO9H7oraO/2bFv/d+98V3AB9J8h26loYhfe0bAFV1A13y9mm6E92PTXJ5kkuAHejO99kHeF+SH9IdNurt8Xprku/R/SgOJVJfAf4i3aUk/pTuXLEF6S6hcjnwqrFiGsUDk5xHd27Z37ey4cvtPeT8Lbrzs+ip+4q2XQe25Qw5ge782BN6yg4ADmnbfBldq/NE3Ak8PsmFdC35Qy3rfS+3JRh/Aeyb5Eq674H/ozvq8ym68+cuacv6qzbbH74Lqup6us4kZ9EluhdV1alTFd9YhvY/un1uQZIlbdlX9DH7B+iSqu9x//fw48DBrUX20YzRYlVVd9Nt94ljHHFap31GLwP+ly5pe0ebNuL+Ocbvyax/XkbinScmoWXPn6yqnScwz1fpTog9c/oim5h0h3/eXFUvnO1Y5pMk61XVb1rL0MeAK6vqQ+PNN5e0Vsaz6Xpz3TeD653wvjkftZaHS+kucXL7ePWHzXs23ffGkumITXPXbO9/rbX7ImDfqrpyNmJYHdhiN0FJXkV3OPVf+qy/YZKf0p1IvdokdZpVr2z/+i6jO8zw37Mcz5Rqh5DOo+vROJNJ3YT2zfkqyXPpWlD+a6JJnTSa2d7/0l1Afylw5nxO6sAWO0mSpIFhi50kSdKAMLGTJEkaECZ2kiRJA8LETpJmUZJK8qjZjkPSYDCxk6QmybIkdyfZdFj5xS0B23YVl392kr9ZlWVI0lhM7CTp/q6mu/A0AEn+mBW3PZKk1ZqJnSTd32eAg3rGDwaOGxpJskGS45LclOSaJP/SLoxKkpcnOSfJB5LcmuTqJHu2ae8G/pTuhua/SfLRnnU8N8mVbZ6PtYtXS9KEmdhJ0v2dC6yf5HHtXpsvBT7bM/2/6C4s/UjgWXRJ4Ct6pu8C/ITutkjvB45Kkqr6Z+A7wGurar2q6r3f6Qvp7m/5JOAlwPOnZcskDTwTO0la2VCr3fPo7tLwi1Y+lOi9raruqKpldDdoP7Bn3muq6pPtXpXHAg8Dthhnfe+tqtuq6ud097rcccq2RNK8sub4VSRp3vkM8G1gO3oOw9K1wq0NXNNTdg2wZc/4L4cGququdlR1vXHW98ue4bv6qC9JI7LFTpKGqapr6DpR7AWc3DPpV8DvgUf0lG3Diha9cRc9JQFK0ihM7CRpZIcAz6mqO3vK7gVOBN6d5CFJHgH8A/c/B28sN9CdmydJ08LETpJGUFU/q6olI0x6HXAncBVwDvB54Og+F/sRYJ/W+/WIqYlUklZIlUcGJEmSBoEtdpIkSQPCxE6SJGlAmNhJkiQNCBM7SZKkAWFiJ0mSNCBM7CRJkgaEiZ0kSdKAMLGTJEkaECZ2kiRJA+L/A7k+YxA+XMLAAAAAAElFTkSuQmCC\n",
      "text/plain": [
       "<Figure size 720x360 with 1 Axes>"
      ]
     },
     "metadata": {
      "needs_background": "light"
     },
     "output_type": "display_data"
    }
   ],
   "source": [
    "fire_count  = fires['DISCOVERY_MONTH'].value_counts()\n",
    "plt.figure(figsize=(10,5))\n",
    "sns.barplot(fire_count.index, fire_count.values, alpha=0.8)\n",
    "plt.title('Wildfires by Month 1992-2015')\n",
    "plt.ylabel('Number of Occurrences', fontsize=12)\n",
    "plt.xlabel('Month', fontsize=12)\n",
    "plt.show()"
   ]
  },
  {
   "cell_type": "code",
   "execution_count": 364,
   "metadata": {},
   "outputs": [
    {
     "data": {
      "image/png": "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\n",
      "text/plain": [
       "<Figure size 432x288 with 1 Axes>"
      ]
     },
     "metadata": {
      "needs_background": "light"
     },
     "output_type": "display_data"
    }
   ],
   "source": [
    "#index = ['Jan', 'Feb', 'Mar','Apr', 'May', 'Jun', 'Jul', 'Aug','Sep','Oct','Nov','Dec']\n",
    "test = fires.groupby('DISCOVERY_MONTH')['FIRE_SIZE'].mean().plot()"
   ]
  },
  {
   "cell_type": "code",
   "execution_count": 391,
   "metadata": {},
   "outputs": [
    {
     "data": {
      "text/html": [
       "<div>\n",
       "<style scoped>\n",
       "    .dataframe tbody tr th:only-of-type {\n",
       "        vertical-align: middle;\n",
       "    }\n",
       "\n",
       "    .dataframe tbody tr th {\n",
       "        vertical-align: top;\n",
       "    }\n",
       "\n",
       "    .dataframe thead th {\n",
       "        text-align: right;\n",
       "    }\n",
       "</style>\n",
       "<table border=\"1\" class=\"dataframe\">\n",
       "  <thead>\n",
       "    <tr style=\"text-align: right;\">\n",
       "      <th></th>\n",
       "      <th>DISCOVERY_MONTH</th>\n",
       "      <th>FIRE_SIZE</th>\n",
       "    </tr>\n",
       "  </thead>\n",
       "  <tbody>\n",
       "    <tr>\n",
       "      <td>4</td>\n",
       "      <td>January</td>\n",
       "      <td>14.080208</td>\n",
       "    </tr>\n",
       "    <tr>\n",
       "      <td>3</td>\n",
       "      <td>February</td>\n",
       "      <td>22.973096</td>\n",
       "    </tr>\n",
       "    <tr>\n",
       "      <td>7</td>\n",
       "      <td>March</td>\n",
       "      <td>32.289686</td>\n",
       "    </tr>\n",
       "    <tr>\n",
       "      <td>0</td>\n",
       "      <td>April</td>\n",
       "      <td>43.775211</td>\n",
       "    </tr>\n",
       "    <tr>\n",
       "      <td>8</td>\n",
       "      <td>May</td>\n",
       "      <td>45.938382</td>\n",
       "    </tr>\n",
       "    <tr>\n",
       "      <td>6</td>\n",
       "      <td>June</td>\n",
       "      <td>159.222141</td>\n",
       "    </tr>\n",
       "    <tr>\n",
       "      <td>5</td>\n",
       "      <td>July</td>\n",
       "      <td>210.996341</td>\n",
       "    </tr>\n",
       "    <tr>\n",
       "      <td>1</td>\n",
       "      <td>August</td>\n",
       "      <td>225.897357</td>\n",
       "    </tr>\n",
       "    <tr>\n",
       "      <td>11</td>\n",
       "      <td>September</td>\n",
       "      <td>72.563437</td>\n",
       "    </tr>\n",
       "    <tr>\n",
       "      <td>10</td>\n",
       "      <td>October</td>\n",
       "      <td>43.444060</td>\n",
       "    </tr>\n",
       "    <tr>\n",
       "      <td>9</td>\n",
       "      <td>November</td>\n",
       "      <td>21.684604</td>\n",
       "    </tr>\n",
       "    <tr>\n",
       "      <td>2</td>\n",
       "      <td>December</td>\n",
       "      <td>12.683628</td>\n",
       "    </tr>\n",
       "  </tbody>\n",
       "</table>\n",
       "</div>"
      ],
      "text/plain": [
       "   DISCOVERY_MONTH   FIRE_SIZE\n",
       "4          January   14.080208\n",
       "3         February   22.973096\n",
       "7            March   32.289686\n",
       "0            April   43.775211\n",
       "8              May   45.938382\n",
       "6             June  159.222141\n",
       "5             July  210.996341\n",
       "1           August  225.897357\n",
       "11       September   72.563437\n",
       "10         October   43.444060\n",
       "9         November   21.684604\n",
       "2         December   12.683628"
      ]
     },
     "execution_count": 391,
     "metadata": {},
     "output_type": "execute_result"
    }
   ],
   "source": [
    "grouped = fires.groupby('DISCOVERY_MONTH',as_index=True)['FIRE_SIZE'].mean().reset_index()\n",
    "#new_index= ['January', 'February', 'March','April', 'May', 'June', 'July', 'August','September','October','November','December']\n",
    "grouped=grouped.reindex([4,3,7,0,8,6,5,1,11,10,9,2])\n",
    "grouped"
   ]
  },
  {
   "cell_type": "code",
   "execution_count": 389,
   "metadata": {},
   "outputs": [
    {
     "data": {
      "text/plain": [
       "Text(0, 0.5, 'Average Acres Burned')"
      ]
     },
     "execution_count": 389,
     "metadata": {},
     "output_type": "execute_result"
    },
    {
     "data": {
      "image/png": "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\n",
      "text/plain": [
       "<Figure size 432x288 with 1 Axes>"
      ]
     },
     "metadata": {
      "needs_background": "light"
     },
     "output_type": "display_data"
    }
   ],
   "source": [
    "ax = grouped.plot(x='DISCOVERY_MONTH', y='FIRE_SIZE', color='r')\n",
    "ax.set_ylabel(\"Average Acres Burned\")"
   ]
  },
  {
   "cell_type": "code",
   "execution_count": 451,
   "metadata": {},
   "outputs": [
    {
     "data": {
      "text/html": [
       "<div>\n",
       "<style scoped>\n",
       "    .dataframe tbody tr th:only-of-type {\n",
       "        vertical-align: middle;\n",
       "    }\n",
       "\n",
       "    .dataframe tbody tr th {\n",
       "        vertical-align: top;\n",
       "    }\n",
       "\n",
       "    .dataframe thead th {\n",
       "        text-align: right;\n",
       "    }\n",
       "</style>\n",
       "<table border=\"1\" class=\"dataframe\">\n",
       "  <thead>\n",
       "    <tr style=\"text-align: right;\">\n",
       "      <th></th>\n",
       "      <th>DISCOVERY_MONTH</th>\n",
       "      <th>FIRE_SIZE</th>\n",
       "    </tr>\n",
       "  </thead>\n",
       "  <tbody>\n",
       "    <tr>\n",
       "      <td>1</td>\n",
       "      <td>August</td>\n",
       "      <td>225.897357</td>\n",
       "    </tr>\n",
       "    <tr>\n",
       "      <td>5</td>\n",
       "      <td>July</td>\n",
       "      <td>210.996341</td>\n",
       "    </tr>\n",
       "    <tr>\n",
       "      <td>6</td>\n",
       "      <td>June</td>\n",
       "      <td>159.222141</td>\n",
       "    </tr>\n",
       "    <tr>\n",
       "      <td>11</td>\n",
       "      <td>September</td>\n",
       "      <td>72.563437</td>\n",
       "    </tr>\n",
       "    <tr>\n",
       "      <td>8</td>\n",
       "      <td>May</td>\n",
       "      <td>45.938382</td>\n",
       "    </tr>\n",
       "    <tr>\n",
       "      <td>0</td>\n",
       "      <td>April</td>\n",
       "      <td>43.775211</td>\n",
       "    </tr>\n",
       "    <tr>\n",
       "      <td>10</td>\n",
       "      <td>October</td>\n",
       "      <td>43.444060</td>\n",
       "    </tr>\n",
       "    <tr>\n",
       "      <td>7</td>\n",
       "      <td>March</td>\n",
       "      <td>32.289686</td>\n",
       "    </tr>\n",
       "    <tr>\n",
       "      <td>3</td>\n",
       "      <td>February</td>\n",
       "      <td>22.973096</td>\n",
       "    </tr>\n",
       "    <tr>\n",
       "      <td>9</td>\n",
       "      <td>November</td>\n",
       "      <td>21.684604</td>\n",
       "    </tr>\n",
       "    <tr>\n",
       "      <td>4</td>\n",
       "      <td>January</td>\n",
       "      <td>14.080208</td>\n",
       "    </tr>\n",
       "    <tr>\n",
       "      <td>2</td>\n",
       "      <td>December</td>\n",
       "      <td>12.683628</td>\n",
       "    </tr>\n",
       "  </tbody>\n",
       "</table>\n",
       "</div>"
      ],
      "text/plain": [
       "   DISCOVERY_MONTH   FIRE_SIZE\n",
       "1           August  225.897357\n",
       "5             July  210.996341\n",
       "6             June  159.222141\n",
       "11       September   72.563437\n",
       "8              May   45.938382\n",
       "0            April   43.775211\n",
       "10         October   43.444060\n",
       "7            March   32.289686\n",
       "3         February   22.973096\n",
       "9         November   21.684604\n",
       "4          January   14.080208\n",
       "2         December   12.683628"
      ]
     },
     "execution_count": 451,
     "metadata": {},
     "output_type": "execute_result"
    }
   ],
   "source": [
    "grouped.sort_values(by=['FIRE_SIZE'],ascending=False)"
   ]
  },
  {
   "cell_type": "code",
   "execution_count": null,
   "metadata": {},
   "outputs": [],
   "source": []
  },
  {
   "cell_type": "code",
   "execution_count": 309,
   "metadata": {},
   "outputs": [],
   "source": [
    "#GB=fires.groupby([(fires.FIRE_YEAR),(fires.DISCOVERY_MONTH)])['FIRE_SIZE'].sum()\n",
    "#print(GB)\n",
    "#fig, ax = plt.subplots(figsize=(15,7))\n",
    "#fires.groupby(['FIRE_YEAR','DISCOVERY_MONTH']).count()['FIRE_SIZE'].unstack().plot(ax=ax)\n"
   ]
  },
  {
   "cell_type": "code",
   "execution_count": 452,
   "metadata": {},
   "outputs": [
    {
     "data": {
      "text/plain": [
       "<matplotlib.axes._subplots.AxesSubplot at 0x118c1ffdc88>"
      ]
     },
     "execution_count": 452,
     "metadata": {},
     "output_type": "execute_result"
    },
    {
     "data": {
      "image/png": "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\n",
      "text/plain": [
       "<Figure size 1080x504 with 1 Axes>"
      ]
     },
     "metadata": {
      "needs_background": "light"
     },
     "output_type": "display_data"
    }
   ],
   "source": [
    "fig, ax = plt.subplots(figsize=(15,7))\n",
    "fires.groupby(['FIRE_YEAR','DISCOVERY_MONTH']).mean()['FIRE_SIZE'].unstack().plot(ax=ax)\n",
    "#fires.groupby(['FIRE_YEAR','DISCOVERY_MONTH']).count()['FIRE_SIZE'].unstack().plot(ax=ax)\n",
    "\n",
    "#Average Acres Burned across time\n",
    "#Count of Wildfires across time"
   ]
  },
  {
   "cell_type": "code",
   "execution_count": 397,
   "metadata": {},
   "outputs": [
    {
     "data": {
      "text/plain": [
       "<matplotlib.axes._subplots.AxesSubplot at 0x1196fcff160>"
      ]
     },
     "execution_count": 397,
     "metadata": {},
     "output_type": "execute_result"
    },
    {
     "data": {
      "image/png": "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\n",
      "text/plain": [
       "<Figure size 1080x504 with 1 Axes>"
      ]
     },
     "metadata": {
      "needs_background": "light"
     },
     "output_type": "display_data"
    }
   ],
   "source": [
    "#Just for 2 seasons\n",
    "#fig, ax = plt.subplots(figsize=(15,7))\n",
    "#df2.groupby(['FIRE_YEAR','DISCOVERY_MONTH']).mean()['FIRE_SIZE'].unstack().plot(ax=ax)\n",
    "fires_springsummer = fires.loc[fires['DISCOVERY_MONTH'].isin(['March','April','May',\n",
    "                                                             'June','July','August'])]\n",
    "fig, ax = plt.subplots(figsize=(15,7))\n",
    "fires_springsummer.groupby(['FIRE_YEAR','DISCOVERY_MONTH']).mean()['FIRE_SIZE'].unstack().plot(ax=ax)"
   ]
  },
  {
   "cell_type": "code",
   "execution_count": 419,
   "metadata": {},
   "outputs": [
    {
     "data": {
      "text/plain": [
       "(390743, 10)"
      ]
     },
     "execution_count": 419,
     "metadata": {},
     "output_type": "execute_result"
    }
   ],
   "source": [
    "df2 = df1.loc[df1['SEASON'].isin(['1','2'])]\n",
    "df2.shape #390,743 rows -> confirmed"
   ]
  },
  {
   "cell_type": "code",
   "execution_count": 420,
   "metadata": {},
   "outputs": [
    {
     "data": {
      "text/html": [
       "<div>\n",
       "<style scoped>\n",
       "    .dataframe tbody tr th:only-of-type {\n",
       "        vertical-align: middle;\n",
       "    }\n",
       "\n",
       "    .dataframe tbody tr th {\n",
       "        vertical-align: top;\n",
       "    }\n",
       "\n",
       "    .dataframe thead th {\n",
       "        text-align: right;\n",
       "    }\n",
       "</style>\n",
       "<table border=\"1\" class=\"dataframe\">\n",
       "  <thead>\n",
       "    <tr style=\"text-align: right;\">\n",
       "      <th></th>\n",
       "      <th>FIRE_YEAR</th>\n",
       "      <th>DISCOVERY_TIME</th>\n",
       "      <th>CONT_TIME</th>\n",
       "      <th>STAT_CAUSE_DESCR</th>\n",
       "      <th>FIRE_SIZE</th>\n",
       "      <th>FIRE_SIZE_CLASS</th>\n",
       "      <th>LATITUDE</th>\n",
       "      <th>LONGITUDE</th>\n",
       "      <th>SEASON</th>\n",
       "      <th>BURN_TIME</th>\n",
       "    </tr>\n",
       "  </thead>\n",
       "  <tbody>\n",
       "    <tr>\n",
       "      <td>1</td>\n",
       "      <td>2004</td>\n",
       "      <td>845.0</td>\n",
       "      <td>1530.0</td>\n",
       "      <td>6</td>\n",
       "      <td>0.25</td>\n",
       "      <td>0</td>\n",
       "      <td>38.933056</td>\n",
       "      <td>-120.404444</td>\n",
       "      <td>1</td>\n",
       "      <td>685.0</td>\n",
       "    </tr>\n",
       "    <tr>\n",
       "      <td>2</td>\n",
       "      <td>2004</td>\n",
       "      <td>1921.0</td>\n",
       "      <td>2024.0</td>\n",
       "      <td>3</td>\n",
       "      <td>0.10</td>\n",
       "      <td>0</td>\n",
       "      <td>38.984167</td>\n",
       "      <td>-120.735556</td>\n",
       "      <td>1</td>\n",
       "      <td>103.0</td>\n",
       "    </tr>\n",
       "    <tr>\n",
       "      <td>3</td>\n",
       "      <td>2004</td>\n",
       "      <td>1600.0</td>\n",
       "      <td>1400.0</td>\n",
       "      <td>6</td>\n",
       "      <td>0.10</td>\n",
       "      <td>0</td>\n",
       "      <td>38.559167</td>\n",
       "      <td>-119.913333</td>\n",
       "      <td>2</td>\n",
       "      <td>-200.0</td>\n",
       "    </tr>\n",
       "    <tr>\n",
       "      <td>4</td>\n",
       "      <td>2004</td>\n",
       "      <td>1600.0</td>\n",
       "      <td>1200.0</td>\n",
       "      <td>6</td>\n",
       "      <td>0.10</td>\n",
       "      <td>0</td>\n",
       "      <td>38.559167</td>\n",
       "      <td>-119.933056</td>\n",
       "      <td>2</td>\n",
       "      <td>-400.0</td>\n",
       "    </tr>\n",
       "    <tr>\n",
       "      <td>5</td>\n",
       "      <td>2004</td>\n",
       "      <td>1800.0</td>\n",
       "      <td>1600.0</td>\n",
       "      <td>6</td>\n",
       "      <td>0.10</td>\n",
       "      <td>0</td>\n",
       "      <td>38.635278</td>\n",
       "      <td>-120.103611</td>\n",
       "      <td>2</td>\n",
       "      <td>-200.0</td>\n",
       "    </tr>\n",
       "  </tbody>\n",
       "</table>\n",
       "</div>"
      ],
      "text/plain": [
       "   FIRE_YEAR  DISCOVERY_TIME  CONT_TIME  STAT_CAUSE_DESCR  FIRE_SIZE  \\\n",
       "1       2004           845.0     1530.0                 6       0.25   \n",
       "2       2004          1921.0     2024.0                 3       0.10   \n",
       "3       2004          1600.0     1400.0                 6       0.10   \n",
       "4       2004          1600.0     1200.0                 6       0.10   \n",
       "5       2004          1800.0     1600.0                 6       0.10   \n",
       "\n",
       "   FIRE_SIZE_CLASS   LATITUDE   LONGITUDE  SEASON  BURN_TIME  \n",
       "1                0  38.933056 -120.404444       1      685.0  \n",
       "2                0  38.984167 -120.735556       1      103.0  \n",
       "3                0  38.559167 -119.913333       2     -200.0  \n",
       "4                0  38.559167 -119.933056       2     -400.0  \n",
       "5                0  38.635278 -120.103611       2     -200.0  "
      ]
     },
     "execution_count": 420,
     "metadata": {},
     "output_type": "execute_result"
    }
   ],
   "source": [
    "#see data\n",
    "df2.head(5)"
   ]
  },
  {
   "cell_type": "markdown",
   "metadata": {},
   "source": [
    "## Predicting the SEASON of a Wildfire (Spring or Summer?)"
   ]
  },
  {
   "cell_type": "code",
   "execution_count": 421,
   "metadata": {},
   "outputs": [],
   "source": [
    "#Try binary classification\n",
    "X = df2.drop(['SEASON'], axis=1).values\n",
    "y = df2['SEASON'].values\n",
    "X_train, X_test, y_train, y_test = train_test_split(X, y, test_size = 0.25, random_state = 21)"
   ]
  },
  {
   "cell_type": "code",
   "execution_count": 422,
   "metadata": {},
   "outputs": [],
   "source": [
    "#scale data\n",
    "scaler = StandardScaler()\n",
    "X_train = scaler.fit_transform(X_train)\n",
    "X_test = scaler.transform(X_test)"
   ]
  },
  {
   "cell_type": "code",
   "execution_count": 428,
   "metadata": {},
   "outputs": [
    {
     "data": {
      "text/plain": [
       "RandomForestClassifier(bootstrap=True, class_weight=None, criterion='entropy',\n",
       "                       max_depth=None, max_features='auto', max_leaf_nodes=None,\n",
       "                       min_impurity_decrease=0.0, min_impurity_split=None,\n",
       "                       min_samples_leaf=1, min_samples_split=2,\n",
       "                       min_weight_fraction_leaf=0.0, n_estimators=10,\n",
       "                       n_jobs=None, oob_score=False, random_state=42, verbose=0,\n",
       "                       warm_start=False)"
      ]
     },
     "execution_count": 428,
     "metadata": {},
     "output_type": "execute_result"
    }
   ],
   "source": [
    "#takes a minute to run\n",
    "classifier = RandomForestClassifier(n_estimators = 10, criterion = 'entropy', random_state = 42)\n",
    "classifier.fit(X_train, y_train)"
   ]
  },
  {
   "cell_type": "code",
   "execution_count": 427,
   "metadata": {},
   "outputs": [
    {
     "name": "stdout",
     "output_type": "stream",
     "text": [
      "Accuracy: 0.8109862211575866\n"
     ]
    }
   ],
   "source": [
    "#check results of actual vs. pred\n",
    "y_pred = classifier.predict(X_test)\n",
    "from sklearn import metrics\n",
    "print(\"Accuracy:\",metrics.accuracy_score(y_test, y_pred))\n",
    "#n_estimators = 10; 81% accuracy\n",
    "#n_estimators = 20; 81% accuracy\n",
    "#n_estimators = 50 ; 82% accuracy"
   ]
  },
  {
   "cell_type": "code",
   "execution_count": 449,
   "metadata": {},
   "outputs": [],
   "source": [
    "df_test = df2.drop(['SEASON'],axis=1)"
   ]
  },
  {
   "cell_type": "code",
   "execution_count": 450,
   "metadata": {},
   "outputs": [
    {
     "data": {
      "image/png": "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\n",
      "text/plain": [
       "<Figure size 432x288 with 1 Axes>"
      ]
     },
     "metadata": {
      "needs_background": "light"
     },
     "output_type": "display_data"
    }
   ],
   "source": [
    "## Feature Importance ##\n",
    "\n",
    "# Calculate feature importances\n",
    "importances = classifier.feature_importances_\n",
    "# Sort feature importances in descending order\n",
    "indices = np.argsort(importances)[::-1]\n",
    "\n",
    "# Rearrange feature names so they match the sorted feature importances\n",
    "names = [df_test.columns[i] for i in indices]\n",
    "\n",
    "# Barplot: Add bars\n",
    "plt.bar(range(X.shape[1]), importances[indices])\n",
    "# Add feature names as x-axis labels\n",
    "plt.xticks(range(X.shape[1]), names, rotation=20, fontsize = 8)\n",
    "# Create plot title\n",
    "plt.title(\"Feature Importance\")\n",
    "# Show plot\n",
    "plt.show()\n"
   ]
  },
  {
   "cell_type": "code",
   "execution_count": 443,
   "metadata": {},
   "outputs": [
    {
     "data": {
      "text/plain": [
       "array([0.07190831, 0.09285868, 0.09014287, 0.10083312, 0.06732627,\n",
       "       0.01621655, 0.14975723, 0.32968463, 0.08127235])"
      ]
     },
     "execution_count": 443,
     "metadata": {},
     "output_type": "execute_result"
    }
   ],
   "source": [
    "x = classifier.feature_importances_\n",
    "x"
   ]
  },
  {
   "cell_type": "code",
   "execution_count": 446,
   "metadata": {},
   "outputs": [
    {
     "data": {
      "text/plain": [
       "array([0.07190831, 0.09285868, 0.09014287, 0.10083312, 0.06732627,\n",
       "       0.01621655, 0.14975723, 0.32968463, 0.08127235])"
      ]
     },
     "execution_count": 446,
     "metadata": {},
     "output_type": "execute_result"
    }
   ],
   "source": [
    "importances"
   ]
  },
  {
   "cell_type": "code",
   "execution_count": null,
   "metadata": {},
   "outputs": [],
   "source": [
    "#Come back to this analysis\n",
    "#Try to increase accuracy on predicting what season the wildfire was in (right now ~ only 55% accuracy)\n",
    "#Try to work with all four seasons"
   ]
  },
  {
   "cell_type": "code",
   "execution_count": null,
   "metadata": {},
   "outputs": [],
   "source": [
    "#First, try to group Fall & Winter as \"Cold_Months\"\n",
    "#Ternary Classification\n",
    "#Spring, Summer, Cold_Months"
   ]
  },
  {
   "cell_type": "code",
   "execution_count": 239,
   "metadata": {},
   "outputs": [
    {
     "data": {
      "text/plain": [
       "1    196767\n",
       "2    193976\n",
       "3    189717\n",
       "Name: SEASON, dtype: int64"
      ]
     },
     "execution_count": 239,
     "metadata": {},
     "output_type": "execute_result"
    }
   ],
   "source": [
    "df3 = df1.replace({'SEASON': {0:3}})\n",
    "df3.SEASON.value_counts(sort=True)\n",
    "#data is pretty balanced"
   ]
  },
  {
   "cell_type": "code",
   "execution_count": 240,
   "metadata": {},
   "outputs": [],
   "source": [
    "#Try TERNARY classification\n",
    "X = df3.drop(['SEASON'], axis=1).values\n",
    "y = df3['SEASON'].values\n",
    "X_train, X_test, y_train, y_test = train_test_split(X, y, test_size = 0.25, random_state = 21)"
   ]
  },
  {
   "cell_type": "code",
   "execution_count": 241,
   "metadata": {},
   "outputs": [],
   "source": [
    "#scale data\n",
    "scaler = StandardScaler()\n",
    "X_train = scaler.fit_transform(X_train)\n",
    "X_test = scaler.transform(X_test)"
   ]
  },
  {
   "cell_type": "code",
   "execution_count": 242,
   "metadata": {},
   "outputs": [
    {
     "data": {
      "text/plain": [
       "RandomForestClassifier(bootstrap=True, class_weight=None, criterion='entropy',\n",
       "                       max_depth=None, max_features='auto', max_leaf_nodes=None,\n",
       "                       min_impurity_decrease=0.0, min_impurity_split=None,\n",
       "                       min_samples_leaf=1, min_samples_split=2,\n",
       "                       min_weight_fraction_leaf=0.0, n_estimators=20,\n",
       "                       n_jobs=None, oob_score=False, random_state=42, verbose=0,\n",
       "                       warm_start=False)"
      ]
     },
     "execution_count": 242,
     "metadata": {},
     "output_type": "execute_result"
    }
   ],
   "source": [
    "#takes a minute to run\n",
    "classifier = RandomForestClassifier(n_estimators = 20, criterion = 'entropy', random_state = 42)\n",
    "classifier.fit(X_train, y_train)"
   ]
  },
  {
   "cell_type": "code",
   "execution_count": 243,
   "metadata": {},
   "outputs": [
    {
     "name": "stdout",
     "output_type": "stream",
     "text": [
      "Accuracy: 0.5886434896461427\n"
     ]
    }
   ],
   "source": [
    "#check results of actual vs. pred\n",
    "y_pred = classifier.predict(X_test)\n",
    "from sklearn import metrics\n",
    "print(\"Accuracy:\",metrics.accuracy_score(y_test, y_pred))\n",
    "#n_estimators = 10; % accuracy\n",
    "#n_estimators = 20; 58.86% accuracy\n",
    "#n_estimators = 50 ; % accuracy"
   ]
  },
  {
   "cell_type": "code",
   "execution_count": 238,
   "metadata": {},
   "outputs": [
    {
     "data": {
      "text/html": [
       "<div>\n",
       "<style scoped>\n",
       "    .dataframe tbody tr th:only-of-type {\n",
       "        vertical-align: middle;\n",
       "    }\n",
       "\n",
       "    .dataframe tbody tr th {\n",
       "        vertical-align: top;\n",
       "    }\n",
       "\n",
       "    .dataframe thead th {\n",
       "        text-align: right;\n",
       "    }\n",
       "</style>\n",
       "<table border=\"1\" class=\"dataframe\">\n",
       "  <thead>\n",
       "    <tr style=\"text-align: right;\">\n",
       "      <th></th>\n",
       "      <th>FIRE_YEAR</th>\n",
       "      <th>DISCOVERY_DOY</th>\n",
       "      <th>DISCOVERY_TIME</th>\n",
       "      <th>CONT_TIME</th>\n",
       "      <th>STAT_CAUSE_DESCR</th>\n",
       "      <th>FIRE_SIZE_CLASS</th>\n",
       "      <th>LATITUDE</th>\n",
       "      <th>LONGITUDE</th>\n",
       "      <th>CLIMATE</th>\n",
       "      <th>CLIMATE_ZONE</th>\n",
       "      <th>MOISTURE</th>\n",
       "      <th>SEASON</th>\n",
       "      <th>BURN_TIME</th>\n",
       "    </tr>\n",
       "  </thead>\n",
       "  <tbody>\n",
       "    <tr>\n",
       "      <td>0</td>\n",
       "      <td>2005</td>\n",
       "      <td>33</td>\n",
       "      <td>1300.0</td>\n",
       "      <td>1730.0</td>\n",
       "      <td>7</td>\n",
       "      <td>0</td>\n",
       "      <td>40.036944</td>\n",
       "      <td>-121.005833</td>\n",
       "      <td>0</td>\n",
       "      <td>5.0</td>\n",
       "      <td>1</td>\n",
       "      <td>3</td>\n",
       "      <td>430.0</td>\n",
       "    </tr>\n",
       "    <tr>\n",
       "      <td>1</td>\n",
       "      <td>2004</td>\n",
       "      <td>133</td>\n",
       "      <td>845.0</td>\n",
       "      <td>1530.0</td>\n",
       "      <td>6</td>\n",
       "      <td>0</td>\n",
       "      <td>38.933056</td>\n",
       "      <td>-120.404444</td>\n",
       "      <td>1</td>\n",
       "      <td>3.0</td>\n",
       "      <td>1</td>\n",
       "      <td>1</td>\n",
       "      <td>685.0</td>\n",
       "    </tr>\n",
       "    <tr>\n",
       "      <td>2</td>\n",
       "      <td>2004</td>\n",
       "      <td>152</td>\n",
       "      <td>1921.0</td>\n",
       "      <td>2024.0</td>\n",
       "      <td>3</td>\n",
       "      <td>0</td>\n",
       "      <td>38.984167</td>\n",
       "      <td>-120.735556</td>\n",
       "      <td>4</td>\n",
       "      <td>4.0</td>\n",
       "      <td>1</td>\n",
       "      <td>1</td>\n",
       "      <td>103.0</td>\n",
       "    </tr>\n",
       "    <tr>\n",
       "      <td>3</td>\n",
       "      <td>2004</td>\n",
       "      <td>180</td>\n",
       "      <td>1600.0</td>\n",
       "      <td>1400.0</td>\n",
       "      <td>6</td>\n",
       "      <td>0</td>\n",
       "      <td>38.559167</td>\n",
       "      <td>-119.913333</td>\n",
       "      <td>0</td>\n",
       "      <td>6.0</td>\n",
       "      <td>1</td>\n",
       "      <td>2</td>\n",
       "      <td>-200.0</td>\n",
       "    </tr>\n",
       "    <tr>\n",
       "      <td>4</td>\n",
       "      <td>2004</td>\n",
       "      <td>180</td>\n",
       "      <td>1600.0</td>\n",
       "      <td>1200.0</td>\n",
       "      <td>6</td>\n",
       "      <td>0</td>\n",
       "      <td>38.559167</td>\n",
       "      <td>-119.933056</td>\n",
       "      <td>0</td>\n",
       "      <td>6.0</td>\n",
       "      <td>1</td>\n",
       "      <td>2</td>\n",
       "      <td>-400.0</td>\n",
       "    </tr>\n",
       "  </tbody>\n",
       "</table>\n",
       "</div>"
      ],
      "text/plain": [
       "   FIRE_YEAR  DISCOVERY_DOY  DISCOVERY_TIME  CONT_TIME  STAT_CAUSE_DESCR  \\\n",
       "0       2005             33          1300.0     1730.0                 7   \n",
       "1       2004            133           845.0     1530.0                 6   \n",
       "2       2004            152          1921.0     2024.0                 3   \n",
       "3       2004            180          1600.0     1400.0                 6   \n",
       "4       2004            180          1600.0     1200.0                 6   \n",
       "\n",
       "   FIRE_SIZE_CLASS   LATITUDE   LONGITUDE  CLIMATE  CLIMATE_ZONE  MOISTURE  \\\n",
       "0                0  40.036944 -121.005833        0           5.0         1   \n",
       "1                0  38.933056 -120.404444        1           3.0         1   \n",
       "2                0  38.984167 -120.735556        4           4.0         1   \n",
       "3                0  38.559167 -119.913333        0           6.0         1   \n",
       "4                0  38.559167 -119.933056        0           6.0         1   \n",
       "\n",
       "   SEASON  BURN_TIME  \n",
       "0       3      430.0  \n",
       "1       1      685.0  \n",
       "2       1      103.0  \n",
       "3       2     -200.0  \n",
       "4       2     -400.0  "
      ]
     },
     "execution_count": 238,
     "metadata": {},
     "output_type": "execute_result"
    }
   ],
   "source": [
    "#Highly correlated features?\n",
    "#Try reducing the model\n",
    "df4.head()\n",
    "#df_reduced = df4.drop(['FIRE_YEAR','DISCOVERY_DOY','CLIMATE','CLIMATE_ZONE'],axis=1)"
   ]
  },
  {
   "cell_type": "code",
   "execution_count": 267,
   "metadata": {},
   "outputs": [],
   "source": [
    "df_alt = df.drop(['DISCOVERY_DOY'],axis=1)"
   ]
  },
  {
   "cell_type": "code",
   "execution_count": 268,
   "metadata": {},
   "outputs": [
    {
     "data": {
      "text/html": [
       "<div>\n",
       "<style scoped>\n",
       "    .dataframe tbody tr th:only-of-type {\n",
       "        vertical-align: middle;\n",
       "    }\n",
       "\n",
       "    .dataframe tbody tr th {\n",
       "        vertical-align: top;\n",
       "    }\n",
       "\n",
       "    .dataframe thead th {\n",
       "        text-align: right;\n",
       "    }\n",
       "</style>\n",
       "<table border=\"1\" class=\"dataframe\">\n",
       "  <thead>\n",
       "    <tr style=\"text-align: right;\">\n",
       "      <th></th>\n",
       "      <th>FIRE_YEAR</th>\n",
       "      <th>DISCOVERY_TIME</th>\n",
       "      <th>CONT_TIME</th>\n",
       "      <th>STAT_CAUSE_DESCR</th>\n",
       "      <th>FIRE_SIZE</th>\n",
       "      <th>FIRE_SIZE_CLASS</th>\n",
       "      <th>LATITUDE</th>\n",
       "      <th>LONGITUDE</th>\n",
       "      <th>CLIMATE</th>\n",
       "      <th>CLIMATE_ZONE</th>\n",
       "      <th>MOISTURE</th>\n",
       "      <th>SEASON</th>\n",
       "      <th>BURN_TIME</th>\n",
       "    </tr>\n",
       "  </thead>\n",
       "  <tbody>\n",
       "    <tr>\n",
       "      <td>0</td>\n",
       "      <td>2005</td>\n",
       "      <td>1300.0</td>\n",
       "      <td>1730.0</td>\n",
       "      <td>7</td>\n",
       "      <td>0.10</td>\n",
       "      <td>0</td>\n",
       "      <td>40.036944</td>\n",
       "      <td>-121.005833</td>\n",
       "      <td>0</td>\n",
       "      <td>5.0</td>\n",
       "      <td>1</td>\n",
       "      <td>3</td>\n",
       "      <td>430.0</td>\n",
       "    </tr>\n",
       "    <tr>\n",
       "      <td>1</td>\n",
       "      <td>2004</td>\n",
       "      <td>845.0</td>\n",
       "      <td>1530.0</td>\n",
       "      <td>6</td>\n",
       "      <td>0.25</td>\n",
       "      <td>0</td>\n",
       "      <td>38.933056</td>\n",
       "      <td>-120.404444</td>\n",
       "      <td>1</td>\n",
       "      <td>3.0</td>\n",
       "      <td>1</td>\n",
       "      <td>1</td>\n",
       "      <td>685.0</td>\n",
       "    </tr>\n",
       "    <tr>\n",
       "      <td>2</td>\n",
       "      <td>2004</td>\n",
       "      <td>1921.0</td>\n",
       "      <td>2024.0</td>\n",
       "      <td>3</td>\n",
       "      <td>0.10</td>\n",
       "      <td>0</td>\n",
       "      <td>38.984167</td>\n",
       "      <td>-120.735556</td>\n",
       "      <td>4</td>\n",
       "      <td>4.0</td>\n",
       "      <td>1</td>\n",
       "      <td>1</td>\n",
       "      <td>103.0</td>\n",
       "    </tr>\n",
       "    <tr>\n",
       "      <td>3</td>\n",
       "      <td>2004</td>\n",
       "      <td>1600.0</td>\n",
       "      <td>1400.0</td>\n",
       "      <td>6</td>\n",
       "      <td>0.10</td>\n",
       "      <td>0</td>\n",
       "      <td>38.559167</td>\n",
       "      <td>-119.913333</td>\n",
       "      <td>0</td>\n",
       "      <td>6.0</td>\n",
       "      <td>1</td>\n",
       "      <td>2</td>\n",
       "      <td>-200.0</td>\n",
       "    </tr>\n",
       "    <tr>\n",
       "      <td>4</td>\n",
       "      <td>2004</td>\n",
       "      <td>1600.0</td>\n",
       "      <td>1200.0</td>\n",
       "      <td>6</td>\n",
       "      <td>0.10</td>\n",
       "      <td>0</td>\n",
       "      <td>38.559167</td>\n",
       "      <td>-119.933056</td>\n",
       "      <td>0</td>\n",
       "      <td>6.0</td>\n",
       "      <td>1</td>\n",
       "      <td>2</td>\n",
       "      <td>-400.0</td>\n",
       "    </tr>\n",
       "  </tbody>\n",
       "</table>\n",
       "</div>"
      ],
      "text/plain": [
       "   FIRE_YEAR  DISCOVERY_TIME  CONT_TIME  STAT_CAUSE_DESCR  FIRE_SIZE  \\\n",
       "0       2005          1300.0     1730.0                 7       0.10   \n",
       "1       2004           845.0     1530.0                 6       0.25   \n",
       "2       2004          1921.0     2024.0                 3       0.10   \n",
       "3       2004          1600.0     1400.0                 6       0.10   \n",
       "4       2004          1600.0     1200.0                 6       0.10   \n",
       "\n",
       "   FIRE_SIZE_CLASS   LATITUDE   LONGITUDE  CLIMATE  CLIMATE_ZONE  MOISTURE  \\\n",
       "0                0  40.036944 -121.005833        0           5.0         1   \n",
       "1                0  38.933056 -120.404444        1           3.0         1   \n",
       "2                0  38.984167 -120.735556        4           4.0         1   \n",
       "3                0  38.559167 -119.913333        0           6.0         1   \n",
       "4                0  38.559167 -119.933056        0           6.0         1   \n",
       "\n",
       "   SEASON  BURN_TIME  \n",
       "0       3      430.0  \n",
       "1       1      685.0  \n",
       "2       1      103.0  \n",
       "3       2     -200.0  \n",
       "4       2     -400.0  "
      ]
     },
     "execution_count": 268,
     "metadata": {},
     "output_type": "execute_result"
    }
   ],
   "source": [
    "df_alt.head()"
   ]
  },
  {
   "cell_type": "code",
   "execution_count": 269,
   "metadata": {},
   "outputs": [],
   "source": [
    "X = df_alt.drop(['SEASON'], axis=1).values\n",
    "y = df_alt['SEASON'].values\n",
    "X_train, X_test, y_train, y_test = train_test_split(X, y, test_size = 0.25, random_state = 21)"
   ]
  },
  {
   "cell_type": "code",
   "execution_count": 270,
   "metadata": {},
   "outputs": [
    {
     "data": {
      "text/plain": [
       "1    196767\n",
       "2    193976\n",
       "0    101554\n",
       "3     88163\n",
       "Name: SEASON, dtype: int64"
      ]
     },
     "execution_count": 270,
     "metadata": {},
     "output_type": "execute_result"
    }
   ],
   "source": [
    "df_alt.SEASON.value_counts(sort=True)\n",
    "#back to working with 4 seasons"
   ]
  },
  {
   "cell_type": "code",
   "execution_count": 271,
   "metadata": {},
   "outputs": [],
   "source": [
    "#scale data\n",
    "scaler = StandardScaler()\n",
    "X_train = scaler.fit_transform(X_train)\n",
    "X_test = scaler.transform(X_test)"
   ]
  },
  {
   "cell_type": "code",
   "execution_count": 272,
   "metadata": {},
   "outputs": [
    {
     "data": {
      "text/plain": [
       "RandomForestClassifier(bootstrap=True, class_weight=None, criterion='entropy',\n",
       "                       max_depth=None, max_features='auto', max_leaf_nodes=None,\n",
       "                       min_impurity_decrease=0.0, min_impurity_split=None,\n",
       "                       min_samples_leaf=1, min_samples_split=2,\n",
       "                       min_weight_fraction_leaf=0.0, n_estimators=20,\n",
       "                       n_jobs=None, oob_score=False, random_state=42, verbose=0,\n",
       "                       warm_start=False)"
      ]
     },
     "execution_count": 272,
     "metadata": {},
     "output_type": "execute_result"
    }
   ],
   "source": [
    "#takes a minute to run\n",
    "classifier = RandomForestClassifier(n_estimators = 20, criterion = 'entropy', random_state = 42)\n",
    "classifier.fit(X_train, y_train)"
   ]
  },
  {
   "cell_type": "code",
   "execution_count": 273,
   "metadata": {},
   "outputs": [
    {
     "name": "stdout",
     "output_type": "stream",
     "text": [
      "Accuracy: 0.5652620335595907\n"
     ]
    }
   ],
   "source": [
    "#check results of actual vs. pred\n",
    "y_pred = classifier.predict(X_test)\n",
    "from sklearn import metrics\n",
    "print(\"Accuracy:\",metrics.accuracy_score(y_test, y_pred))\n",
    "#n_estimators = 10; % accuracy\n",
    "#n_estimators = 20; 54.14% accuracy (with JUST climate_zone), 54.26(with climate_zone & climate added)\n",
    "#n_estimators = 50 ; % accuracy"
   ]
  },
  {
   "cell_type": "markdown",
   "metadata": {},
   "source": [
    "## Predicting the MAGNITUDE of a Wildfire"
   ]
  },
  {
   "cell_type": "code",
   "execution_count": 213,
   "metadata": {},
   "outputs": [
    {
     "data": {
      "text/plain": [
       "B    269944\n",
       "A    227479\n",
       "C     65245\n",
       "D     17792\n",
       "Name: FIRE_SIZE_CLASS, dtype: int64"
      ]
     },
     "execution_count": 213,
     "metadata": {},
     "output_type": "execute_result"
    }
   ],
   "source": [
    "#Can we predict on FIRE_SIZE_CLASS?\n",
    "#In other words, can the model predict the MAGNITUDE of a wildfire, given certain features?\n",
    "fires.FIRE_SIZE_CLASS.value_counts(sort=True)"
   ]
  },
  {
   "cell_type": "code",
   "execution_count": 214,
   "metadata": {},
   "outputs": [
    {
     "data": {
      "text/plain": [
       "1    269944\n",
       "0    227479\n",
       "2     65245\n",
       "3     17792\n",
       "Name: FIRE_SIZE_CLASS, dtype: int64"
      ]
     },
     "execution_count": 214,
     "metadata": {},
     "output_type": "execute_result"
    }
   ],
   "source": [
    "df.FIRE_SIZE_CLASS.value_counts(sort=True)\n",
    "#0: A = 0 < acres burned <= 0.25\n",
    "#1: B = 0.26 < acres burned <= 9.9\n",
    "#2: C = 10 < acres burned <= 99.9"
   ]
  },
  {
   "cell_type": "code",
   "execution_count": 215,
   "metadata": {},
   "outputs": [],
   "source": [
    "#drop essentially an equivalent variable : fire_size\n",
    "df3 = df.drop(['FIRE_SIZE'], axis=1)"
   ]
  },
  {
   "cell_type": "code",
   "execution_count": 216,
   "metadata": {},
   "outputs": [],
   "source": [
    "X = df3.drop(['FIRE_SIZE_CLASS'], axis=1).values\n",
    "y = df3['FIRE_SIZE_CLASS'].values\n",
    "X_train, X_test, y_train, y_test = train_test_split(X, y, test_size = 0.25, random_state = 21)"
   ]
  },
  {
   "cell_type": "code",
   "execution_count": 217,
   "metadata": {},
   "outputs": [],
   "source": [
    "#scale data\n",
    "scaler = StandardScaler()\n",
    "X_train = scaler.fit_transform(X_train)\n",
    "X_test = scaler.transform(X_test)"
   ]
  },
  {
   "cell_type": "code",
   "execution_count": 172,
   "metadata": {},
   "outputs": [
    {
     "data": {
      "text/plain": [
       "RandomForestClassifier(bootstrap=True, class_weight=None, criterion='entropy',\n",
       "                       max_depth=None, max_features='auto', max_leaf_nodes=None,\n",
       "                       min_impurity_decrease=0.0, min_impurity_split=None,\n",
       "                       min_samples_leaf=1, min_samples_split=2,\n",
       "                       min_weight_fraction_leaf=0.0, n_estimators=50,\n",
       "                       n_jobs=None, oob_score=False, random_state=42, verbose=0,\n",
       "                       warm_start=False)"
      ]
     },
     "execution_count": 172,
     "metadata": {},
     "output_type": "execute_result"
    }
   ],
   "source": [
    "#takes a minute to run\n",
    "classifier = RandomForestClassifier(n_estimators = 50, criterion = 'entropy', random_state = 42)\n",
    "classifier.fit(X_train, y_train)"
   ]
  },
  {
   "cell_type": "code",
   "execution_count": 173,
   "metadata": {},
   "outputs": [
    {
     "name": "stdout",
     "output_type": "stream",
     "text": [
      "Accuracy: 0.685580401750336\n"
     ]
    }
   ],
   "source": [
    "#check results of actual vs. pred\n",
    "y_pred = classifier.predict(X_test)\n",
    "from sklearn import metrics\n",
    "print(\"Accuracy:\",metrics.accuracy_score(y_test, y_pred))\n",
    "#n_estimators = 10;  accuracy\n",
    "#n_estimators = 20;  accuracy\n",
    "#n_estimators = 50 ; 68.5% accuracy"
   ]
  },
  {
   "cell_type": "code",
   "execution_count": 175,
   "metadata": {},
   "outputs": [],
   "source": [
    "#Maybe try grouping the FIRE_SIZE categories\n",
    "#D,E,F,G into 1\n",
    "#since they're all >= 100 acres burned (more \"extreme\" cases)"
   ]
  },
  {
   "cell_type": "code",
   "execution_count": 201,
   "metadata": {},
   "outputs": [
    {
     "data": {
      "text/html": [
       "<div>\n",
       "<style scoped>\n",
       "    .dataframe tbody tr th:only-of-type {\n",
       "        vertical-align: middle;\n",
       "    }\n",
       "\n",
       "    .dataframe tbody tr th {\n",
       "        vertical-align: top;\n",
       "    }\n",
       "\n",
       "    .dataframe thead th {\n",
       "        text-align: right;\n",
       "    }\n",
       "</style>\n",
       "<table border=\"1\" class=\"dataframe\">\n",
       "  <thead>\n",
       "    <tr style=\"text-align: right;\">\n",
       "      <th></th>\n",
       "      <th>FIRE_YEAR</th>\n",
       "      <th>DISCOVERY_DOY</th>\n",
       "      <th>DISCOVERY_TIME</th>\n",
       "      <th>CONT_TIME</th>\n",
       "      <th>STAT_CAUSE_DESCR</th>\n",
       "      <th>FIRE_SIZE</th>\n",
       "      <th>FIRE_SIZE_CLASS</th>\n",
       "      <th>LATITUDE</th>\n",
       "      <th>LONGITUDE</th>\n",
       "      <th>CLIMATE</th>\n",
       "      <th>CLIMATE_ZONE</th>\n",
       "      <th>MOISTURE</th>\n",
       "      <th>SEASON</th>\n",
       "      <th>BURN_TIME</th>\n",
       "    </tr>\n",
       "  </thead>\n",
       "  <tbody>\n",
       "    <tr>\n",
       "      <td>0</td>\n",
       "      <td>2005</td>\n",
       "      <td>33</td>\n",
       "      <td>1300.0</td>\n",
       "      <td>1730.0</td>\n",
       "      <td>7</td>\n",
       "      <td>0.1</td>\n",
       "      <td>0</td>\n",
       "      <td>40.036944</td>\n",
       "      <td>-121.005833</td>\n",
       "      <td>0</td>\n",
       "      <td>5.0</td>\n",
       "      <td>1</td>\n",
       "      <td>3</td>\n",
       "      <td>430.0</td>\n",
       "    </tr>\n",
       "  </tbody>\n",
       "</table>\n",
       "</div>"
      ],
      "text/plain": [
       "   FIRE_YEAR  DISCOVERY_DOY  DISCOVERY_TIME  CONT_TIME  STAT_CAUSE_DESCR  \\\n",
       "0       2005             33          1300.0     1730.0                 7   \n",
       "\n",
       "   FIRE_SIZE  FIRE_SIZE_CLASS   LATITUDE   LONGITUDE  CLIMATE  CLIMATE_ZONE  \\\n",
       "0        0.1                0  40.036944 -121.005833        0           5.0   \n",
       "\n",
       "   MOISTURE  SEASON  BURN_TIME  \n",
       "0         1       3      430.0  "
      ]
     },
     "execution_count": 201,
     "metadata": {},
     "output_type": "execute_result"
    }
   ],
   "source": [
    "df4 = df #work with a different df\n",
    "df4.head(1)"
   ]
  },
  {
   "cell_type": "code",
   "execution_count": 202,
   "metadata": {},
   "outputs": [
    {
     "name": "stderr",
     "output_type": "stream",
    },
    {
     "data": {
      "text/plain": [
       "1    269944\n",
       "0    227479\n",
       "2     65245\n",
       "3     17792\n",
       "Name: FIRE_SIZE_CLASS, dtype: int64"
      ]
     },
     "execution_count": 202,
     "metadata": {},
     "output_type": "execute_result"
    }
   ],
   "source": [
    "#FIRE_SIZE_CLASS D, E, F, G will now be all 'D'\n",
    "#so replace E, F, G with D. In other words, classes 4,5,6 are now also 3\n",
    "df4.FIRE_SIZE_CLASS[df4.FIRE_SIZE_CLASS == 4] = 3\n",
    "df4.FIRE_SIZE_CLASS[df4.FIRE_SIZE_CLASS == 5] = 3 \n",
    "df4.FIRE_SIZE_CLASS[df4.FIRE_SIZE_CLASS == 6] = 3 \n",
    "df4.FIRE_SIZE_CLASS.value_counts() #new category D: 8671+4595+2988+1538 = 17792 , confirmed"
   ]
  },
  {
   "cell_type": "code",
   "execution_count": 203,
   "metadata": {},
   "outputs": [],
   "source": [
    "#work with df4\n",
    "df4 = df4.drop(['FIRE_SIZE'], axis=1)"
   ]
  },
  {
   "cell_type": "code",
   "execution_count": 204,
   "metadata": {},
   "outputs": [],
   "source": [
    "X = df4.drop(['FIRE_SIZE_CLASS'], axis=1).values\n",
    "y = df4['FIRE_SIZE_CLASS'].values\n",
    "X_train, X_test, y_train, y_test = train_test_split(X, y, test_size = 0.25, random_state = 21)"
   ]
  },
  {
   "cell_type": "code",
   "execution_count": 205,
   "metadata": {},
   "outputs": [],
   "source": [
    "#scale data\n",
    "scaler = StandardScaler()\n",
    "X_train = scaler.fit_transform(X_train)\n",
    "X_test = scaler.transform(X_test)"
   ]
  },
  {
   "cell_type": "code",
   "execution_count": 206,
   "metadata": {},
   "outputs": [
    {
     "data": {
      "text/plain": [
       "RandomForestClassifier(bootstrap=True, class_weight=None, criterion='entropy',\n",
       "                       max_depth=None, max_features='auto', max_leaf_nodes=None,\n",
       "                       min_impurity_decrease=0.0, min_impurity_split=None,\n",
       "                       min_samples_leaf=1, min_samples_split=2,\n",
       "                       min_weight_fraction_leaf=0.0, n_estimators=50,\n",
       "                       n_jobs=None, oob_score=False, random_state=42, verbose=0,\n",
       "                       warm_start=False)"
      ]
     },
     "execution_count": 206,
     "metadata": {},
     "output_type": "execute_result"
    }
   ],
   "source": [
    "#takes a few minutes to run\n",
    "classifier = RandomForestClassifier(n_estimators = 50, criterion = 'entropy', random_state = 42)\n",
    "classifier.fit(X_train, y_train)"
   ]
  },
  {
   "cell_type": "code",
   "execution_count": 207,
   "metadata": {},
   "outputs": [
    {
     "name": "stdout",
     "output_type": "stream",
     "text": [
      "Accuracy: 0.6895772318506013\n"
     ]
    }
   ],
   "source": [
    "#check results of actual vs. pred\n",
    "y_pred = classifier.predict(X_test)\n",
    "from sklearn import metrics\n",
    "print(\"Accuracy:\",metrics.accuracy_score(y_test, y_pred))\n",
    "#n_estimators = 10;  accuracy\n",
    "#n_estimators = 20;  accuracy\n",
    "#n_estimators = 50 ; 68.5% accuracy (ALL FIRE_SIZE_CLASSES) vs. 70% accuracy (A,B,C, and \"extreme\" as D)"
   ]
  },
  {
   "cell_type": "code",
   "execution_count": 210,
   "metadata": {},
   "outputs": [
    {
     "data": {
      "text/plain": [
       "92.61146532921819"
      ]
     },
     "execution_count": 210,
     "metadata": {},
     "output_type": "execute_result"
    }
   ],
   "source": [
    "#what is the mean FIRE_SIZE\n",
    "df['FIRE_SIZE'].mean()"
   ]
  },
  {
   "cell_type": "code",
   "execution_count": null,
   "metadata": {},
   "outputs": [],
   "source": []
  }
 ],
 "metadata": {
  "kernelspec": {
   "display_name": "Python 3",
   "language": "python",
   "name": "python3"
  },
  "language_info": {
   "codemirror_mode": {
    "name": "ipython",
    "version": 3
   },
   "file_extension": ".py",
   "mimetype": "text/x-python",
   "name": "python",
   "nbconvert_exporter": "python",
   "pygments_lexer": "ipython3",
   "version": "3.7.3"
  }
 },
 "nbformat": 4,
 "nbformat_minor": 2
}

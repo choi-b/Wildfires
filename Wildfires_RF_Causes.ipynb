{
 "cells": [
  {
   "cell_type": "code",
   "execution_count": 3,
   "metadata": {},
   "outputs": [],
   "source": [
    "## Import Libraries ##\n",
    "import sqlite3\n",
    "from sqlite3 import Error\n",
    "import pandas as pd\n",
    "import seaborn as sns\n",
    "import matplotlib.pyplot as plt\n",
    "import numpy as np\n",
    "from pandas import DataFrame\n",
    "from sqlalchemy import create_engine, MetaData, Table, select, func, desc"
   ]
  },
  {
   "cell_type": "markdown",
   "metadata": {},
   "source": [
    "## Connect to Database"
   ]
  },
  {
   "cell_type": "code",
   "execution_count": 4,
   "metadata": {},
   "outputs": [],
   "source": [
    "engine = create_engine('sqlite:///C:/Users/604906/Desktop/BAH/Data Science/WiDS/Wildfires/188-million-us-wildfires/FPA_FOD_20170508.sqlite')"
   ]
  },
  {
   "cell_type": "code",
   "execution_count": 5,
   "metadata": {},
   "outputs": [],
   "source": [
    "connection = engine.connect()"
   ]
  },
  {
   "cell_type": "code",
   "execution_count": 6,
   "metadata": {},
   "outputs": [
    {
     "name": "stdout",
     "output_type": "stream",
     "text": [
      "['ElementaryGeometries', 'Fires', 'KNN', 'NWCG_UnitIDActive_20170109', 'SpatialIndex', 'geometry_columns', 'geometry_columns_auth', 'geometry_columns_field_infos', 'geometry_columns_statistics', 'geometry_columns_time', 'idx_Fires_Shape', 'idx_Fires_Shape_node', 'idx_Fires_Shape_parent', 'idx_Fires_Shape_rowid', 'spatial_ref_sys', 'spatial_ref_sys_aux', 'spatialite_history', 'sql_statements_log', 'sqlite_sequence', 'views_geometry_columns', 'views_geometry_columns_auth', 'views_geometry_columns_field_infos', 'views_geometry_columns_statistics', 'virts_geometry_columns', 'virts_geometry_columns_auth', 'virts_geometry_columns_field_infos', 'virts_geometry_columns_statistics']\n"
     ]
    }
   ],
   "source": [
    "# Print tables names of database to make sure connection worked\n",
    "print(engine.table_names())"
   ]
  },
  {
   "cell_type": "markdown",
   "metadata": {},
   "source": [
    "## Connect to Fires Table"
   ]
  },
  {
   "cell_type": "code",
   "execution_count": 7,
   "metadata": {},
   "outputs": [],
   "source": [
    "# Function in SqlAlchemy Library that reflects the table information (such as datatypes, primary keys, etc.)\n",
    "metadata = MetaData()"
   ]
  },
  {
   "cell_type": "code",
   "execution_count": 8,
   "metadata": {},
   "outputs": [],
   "source": [
    "# Create a Table object that can be used to query the data\n",
    "Fires = Table('Fires', metadata, autoload = True, autoload_with=engine)"
   ]
  },
  {
   "cell_type": "code",
   "execution_count": 9,
   "metadata": {},
   "outputs": [],
   "source": [
    "try:\n",
    "    stmt = 'SELECT * FROM Fires'\n",
    "    \n",
    "    # Execute the statement and store all the records: results\n",
    "    results = connection.execute(stmt).fetchall()\n",
    "\n",
    "    # Create a DataFrame from the results: df\n",
    "    fires = pd.DataFrame(results)\n",
    "\n",
    "    # Set column names\n",
    "    fires.columns = results[0].keys()\n",
    "\n",
    "except Exception as err:\n",
    "    print(err)"
   ]
  },
  {
   "cell_type": "code",
   "execution_count": 1,
   "metadata": {},
   "outputs": [],
   "source": [
    "#Look at columns in Fires\n",
    "#fires.info()"
   ]
  },
  {
   "cell_type": "markdown",
   "metadata": {},
   "source": [
    "## Pull in Climate Data ##"
   ]
  },
  {
   "cell_type": "code",
   "execution_count": 10,
   "metadata": {},
   "outputs": [],
   "source": [
    "climate_df = pd.read_csv('climate_df.csv')"
   ]
  },
  {
   "cell_type": "code",
   "execution_count": 13,
   "metadata": {},
   "outputs": [
    {
     "data": {
      "text/html": [
       "<div>\n",
       "<style scoped>\n",
       "    .dataframe tbody tr th:only-of-type {\n",
       "        vertical-align: middle;\n",
       "    }\n",
       "\n",
       "    .dataframe tbody tr th {\n",
       "        vertical-align: top;\n",
       "    }\n",
       "\n",
       "    .dataframe thead th {\n",
       "        text-align: right;\n",
       "    }\n",
       "</style>\n",
       "<table border=\"1\" class=\"dataframe\">\n",
       "  <thead>\n",
       "    <tr style=\"text-align: right;\">\n",
       "      <th></th>\n",
       "      <th>state</th>\n",
       "      <th>county</th>\n",
       "      <th>climate</th>\n",
       "      <th>climate_zone</th>\n",
       "      <th>moisture</th>\n",
       "    </tr>\n",
       "  </thead>\n",
       "  <tbody>\n",
       "    <tr>\n",
       "      <td>0</td>\n",
       "      <td>AL</td>\n",
       "      <td>Autauga</td>\n",
       "      <td>Hot-Humid</td>\n",
       "      <td>3</td>\n",
       "      <td>A</td>\n",
       "    </tr>\n",
       "    <tr>\n",
       "      <td>1</td>\n",
       "      <td>AL</td>\n",
       "      <td>Baldwin</td>\n",
       "      <td>Hot-Humid</td>\n",
       "      <td>2</td>\n",
       "      <td>A</td>\n",
       "    </tr>\n",
       "    <tr>\n",
       "      <td>2</td>\n",
       "      <td>AL</td>\n",
       "      <td>Barbour</td>\n",
       "      <td>Hot-Humid</td>\n",
       "      <td>3</td>\n",
       "      <td>A</td>\n",
       "    </tr>\n",
       "    <tr>\n",
       "      <td>3</td>\n",
       "      <td>AL</td>\n",
       "      <td>Bibb</td>\n",
       "      <td>Mixed-Humid</td>\n",
       "      <td>3</td>\n",
       "      <td>A</td>\n",
       "    </tr>\n",
       "    <tr>\n",
       "      <td>4</td>\n",
       "      <td>AL</td>\n",
       "      <td>Blount</td>\n",
       "      <td>Mixed-Humid</td>\n",
       "      <td>3</td>\n",
       "      <td>A</td>\n",
       "    </tr>\n",
       "  </tbody>\n",
       "</table>\n",
       "</div>"
      ],
      "text/plain": [
       "  state   county      climate  climate_zone moisture\n",
       "0    AL  Autauga    Hot-Humid             3        A\n",
       "1    AL  Baldwin    Hot-Humid             2        A\n",
       "2    AL  Barbour    Hot-Humid             3        A\n",
       "3    AL     Bibb  Mixed-Humid             3        A\n",
       "4    AL   Blount  Mixed-Humid             3        A"
      ]
     },
     "execution_count": 13,
     "metadata": {},
     "output_type": "execute_result"
    }
   ],
   "source": [
    "climate_df.head(5) #view some data"
   ]
  },
  {
   "cell_type": "code",
   "execution_count": 28,
   "metadata": {},
   "outputs": [],
   "source": [
    "#Fix Alaska county names that don't match / Correct county name in climate DF\n",
    "climate_df['county'] = climate_df['county'].replace('Prince of Wales- Outer Ketchikan', 'Prince of Wales-Outer Ketchikan')\n",
    "climate_df['county'] = climate_df['county'].replace('Skagway-Hoonah- Angoon', 'Skagway-Hoonah-Angoon')\n",
    "# Correct county name in fires DF since it isn't accurate\n",
    "fires['FIPS_NAME'] = fires['FIPS_NAME'].replace('Skagway-Yakutat-Angoon', 'Skagway-Hoonah-Angoon')"
   ]
  },
  {
   "cell_type": "code",
   "execution_count": 16,
   "metadata": {},
   "outputs": [],
   "source": [
    "#Fix Georgie counties\n",
    "# Multiple states with same county name\n",
    "climate_df[climate_df['county'] == 'Bryan']['state'].value_counts()\n",
    "climate_df[(climate_df['state'] == 'GA') & (climate_df['county'] == 'Bryan')]\n",
    "# Add row to climate_df to match with Bryan South (GA)\n",
    "climate_df = climate_df.append({'state':'GA', 'county':'Bryan South', 'climate':'Hot-Humid', 'climate_zone':'2', \\\n",
    "                                'moisture':'A'}, ignore_index=True)"
   ]
  },
  {
   "cell_type": "code",
   "execution_count": 17,
   "metadata": {},
   "outputs": [],
   "source": [
    "# Multiple states with same county name\n",
    "climate_df[climate_df['county'] == 'DeKalb']['state'].value_counts()\n",
    "climate_df[(climate_df['state'] == 'GA') & (climate_df['county'] == 'DeKalb')]\n",
    "climate_df[(climate_df['state'] == 'TN') & (climate_df['county'] == 'DeKalb')]\n",
    "# Correct Georgia and Tennessee county names in climate DF\n",
    "climate_df.loc[428]['county'] = 'Dekalb'\n",
    "climate_df.loc[2446]['county'] = 'Dekalb'"
   ]
  },
  {
   "cell_type": "code",
   "execution_count": 18,
   "metadata": {},
   "outputs": [],
   "source": [
    "#Fix Illinois county names\n",
    "# Correct county name in fires DF since county name isn't correct (for both Illinois and Texas)\n",
    "fires['FIPS_NAME'] = fires['FIPS_NAME'].replace('De Witt', 'DeWitt')\n",
    "# Correct county name in fires DF since county name isn't correct\n",
    "fires['FIPS_NAME'] = fires['FIPS_NAME'].replace('Cumberlin', 'Cumberland')"
   ]
  },
  {
   "cell_type": "code",
   "execution_count": 19,
   "metadata": {},
   "outputs": [],
   "source": [
    "#Fix Louisiana Counties\n",
    "# Correct county name in climate DF\n",
    "climate_df['county'] = climate_df['county'].replace('East Carroll', 'E. Carroll')\n",
    "# Correct county name in climate DF\n",
    "climate_df['county'] = climate_df['county'].replace('St. LanB', 'St. Landry')"
   ]
  },
  {
   "cell_type": "code",
   "execution_count": 24,
   "metadata": {},
   "outputs": [],
   "source": [
    "#Fix Montana and New Mexico Counties\n",
    "# Correct county name in climate DF\n",
    "climate_df['county'] = climate_df['county'].replace('Glacier', 'Glacier County')\n",
    "# Correct county name in climate DF\n",
    "climate_df['county'] = climate_df['county'].replace('Doña Ana', 'Dona Ana')"
   ]
  },
  {
   "cell_type": "code",
   "execution_count": 20,
   "metadata": {},
   "outputs": [],
   "source": [
    "#Fix Virginia Counties\n",
    "climate_df[(climate_df['state'] == 'VA') & (climate_df['county'] == 'Buena Vista')]\n",
    "# Correct county name in climate DF\n",
    "climate_df.loc[2836]['county'] = 'Buena Vista City'\n",
    "climate_df[(climate_df['state'] == 'VA') & (climate_df['county'] == 'Chesapeake')]\n",
    "# Correct county name in climate DF\n",
    "climate_df.loc[2843]['county'] = 'Chesapeake City'\n",
    "climate_df[(climate_df['state'] == 'VA') & (climate_df['county'] == 'Colonial Heights')]\n",
    "# Correct county name in climate DF\n",
    "climate_df.loc[2847]['county'] = 'Colonial Heights City'\n",
    "climate_df[(climate_df['state'] == 'VA') & (climate_df['county'] == 'Hampton')]\n",
    "# Correct county name in climate DF\n",
    "climate_df.loc[2875]['county'] = 'Hampton City'\n",
    "climate_df[(climate_df['state'] == 'VA') & (climate_df['county'] == 'Newport News')]\n",
    "# Correct county name in climate DF\n",
    "climate_df.loc[2904]['county'] = 'Newport News City'\n",
    "climate_df[(climate_df['state'] == 'VA') & (climate_df['county'] == 'Petersburg')]\n",
    "# Correct county name in climate DF\n",
    "climate_df.loc[2913]['county'] = 'Petersburg City'\n",
    "climate_df[(climate_df['state'] == 'VA') & (climate_df['county'] == 'Richmond City')]\n",
    "# Correct county name in climate DF\n",
    "climate_df['county'] = climate_df['county'].replace('Richmond City', 'Richmond (city)')\n",
    "climate_df[(climate_df['state'] == 'VA') & (climate_df['county'] == 'Suffolk')]\n",
    "# Correct county name in climate DF\n",
    "climate_df.loc[2939]['county'] = 'Suffolk City'\n",
    "climate_df[(climate_df['state'] == 'VA') & (climate_df['county'] == 'Virginia Beach')]\n",
    "# Correct county name in climate DF\n",
    "climate_df.loc[2943]['county'] = 'Virginia Beach City'\n",
    "# Correct typo in fires DF\n",
    "fires['FIPS_NAME'] = fires['FIPS_NAME'].replace('Virginia Beach city', 'Virginia Beach City')"
   ]
  },
  {
   "cell_type": "markdown",
   "metadata": {},
   "source": [
    "## Check if all counties are aligned ##"
   ]
  },
  {
   "cell_type": "code",
   "execution_count": 29,
   "metadata": {},
   "outputs": [
    {
     "data": {
      "text/plain": [
       "STATE  FIPS_NAME       \n",
       "PR     Cabo Rojo           46\n",
       "       Gurabo Municipio     1\n",
       "       Lajas                8\n",
       "       Vieques             21\n",
       "Name: FIPS_NAME, dtype: int64"
      ]
     },
     "execution_count": 29,
     "metadata": {},
     "output_type": "execute_result"
    }
   ],
   "source": [
    "#Checked by Tim Balton\n",
    "# All non-matching counties -- all in Puerto Rico\n",
    "fires[~fires['FIPS_NAME'].isin(climate_df['county'])].groupby('STATE')['FIPS_NAME'].value_counts().sort_index()"
   ]
  },
  {
   "cell_type": "markdown",
   "metadata": {},
   "source": [
    "## Merge Fires and Climate DFs ##"
   ]
  },
  {
   "cell_type": "code",
   "execution_count": 30,
   "metadata": {},
   "outputs": [],
   "source": [
    "# Merge on state and county\n",
    "fires = \\\n",
    "fires.merge(climate_df, left_on=['STATE', 'FIPS_NAME'], right_on=['state', 'county'], how='left')"
   ]
  },
  {
   "cell_type": "code",
   "execution_count": 31,
   "metadata": {},
   "outputs": [],
   "source": [
    "# Drop redundant columns\n",
    "fires.drop(['state', 'county'], axis=1, inplace=True)\n",
    "# Make all column names uppercase for consistency\n",
    "fires = fires.rename(columns={'climate':'CLIMATE', 'climate_zone':'CLIMATE_ZONE', 'moisture':'MOISTURE'})"
   ]
  },
  {
   "cell_type": "code",
   "execution_count": 32,
   "metadata": {},
   "outputs": [
    {
     "data": {
      "text/plain": [
       "OBJECTID                            0\n",
       "FOD_ID                              0\n",
       "FPA_ID                              0\n",
       "SOURCE_SYSTEM_TYPE                  0\n",
       "SOURCE_SYSTEM                       0\n",
       "NWCG_REPORTING_AGENCY               0\n",
       "NWCG_REPORTING_UNIT_ID              0\n",
       "NWCG_REPORTING_UNIT_NAME            0\n",
       "SOURCE_REPORTING_UNIT               0\n",
       "SOURCE_REPORTING_UNIT_NAME          0\n",
       "LOCAL_FIRE_REPORT_ID          1459286\n",
       "LOCAL_INCIDENT_ID              820821\n",
       "FIRE_CODE                     1555636\n",
       "FIRE_NAME                      957189\n",
       "ICS_209_INCIDENT_NUMBER       1854748\n",
       "ICS_209_NAME                  1854748\n",
       "MTBS_ID                       1869462\n",
       "MTBS_FIRE_NAME                1869462\n",
       "COMPLEX_NAME                  1875282\n",
       "FIRE_YEAR                           0\n",
       "DISCOVERY_DATE                      0\n",
       "DISCOVERY_DOY                       0\n",
       "DISCOVERY_TIME                 882638\n",
       "STAT_CAUSE_CODE                     0\n",
       "STAT_CAUSE_DESCR                    0\n",
       "CONT_DATE                      891531\n",
       "CONT_DOY                       891531\n",
       "CONT_TIME                      972173\n",
       "FIRE_SIZE                           0\n",
       "FIRE_SIZE_CLASS                     0\n",
       "LATITUDE                            0\n",
       "LONGITUDE                           0\n",
       "OWNER_CODE                          0\n",
       "OWNER_DESCR                         0\n",
       "STATE                               0\n",
       "COUNTY                         678148\n",
       "FIPS_CODE                      678148\n",
       "FIPS_NAME                      678148\n",
       "Shape                               0\n",
       "CLIMATE                        679576\n",
       "CLIMATE_ZONE                   679576\n",
       "MOISTURE                       679886\n",
       "dtype: int64"
      ]
     },
     "execution_count": 32,
     "metadata": {},
     "output_type": "execute_result"
    }
   ],
   "source": [
    "#Check null data\n",
    "fires.isnull().sum()"
   ]
  },
  {
   "cell_type": "markdown",
   "metadata": {},
   "source": [
    "## Feature Selection"
   ]
  },
  {
   "cell_type": "code",
   "execution_count": 72,
   "metadata": {},
   "outputs": [],
   "source": [
    "df = fires[['FIRE_YEAR','DISCOVERY_DATE','DISCOVERY_DOY','STAT_CAUSE_DESCR','FIRE_SIZE','FIRE_SIZE_CLASS','STATE','FIPS_NAME',\n",
    "            'LATITUDE','LONGITUDE','CLIMATE','CLIMATE_ZONE','MOISTURE']]"
   ]
  },
  {
   "cell_type": "code",
   "execution_count": 73,
   "metadata": {},
   "outputs": [
    {
     "name": "stdout",
     "output_type": "stream",
     "text": [
      "<class 'pandas.core.frame.DataFrame'>\n",
      "Int64Index: 1880465 entries, 0 to 1880464\n",
      "Data columns (total 13 columns):\n",
      "FIRE_YEAR           int64\n",
      "DISCOVERY_DATE      float64\n",
      "DISCOVERY_DOY       int64\n",
      "STAT_CAUSE_DESCR    object\n",
      "FIRE_SIZE           float64\n",
      "FIRE_SIZE_CLASS     object\n",
      "STATE               object\n",
      "FIPS_NAME           object\n",
      "LATITUDE            float64\n",
      "LONGITUDE           float64\n",
      "CLIMATE             object\n",
      "CLIMATE_ZONE        object\n",
      "MOISTURE            object\n",
      "dtypes: float64(4), int64(2), object(7)\n",
      "memory usage: 200.9+ MB\n"
     ]
    }
   ],
   "source": [
    "df.info()"
   ]
  },
  {
   "cell_type": "code",
   "execution_count": 76,
   "metadata": {},
   "outputs": [],
   "source": [
    "#check data\n",
    "#print(df.head())"
   ]
  },
  {
   "cell_type": "code",
   "execution_count": 87,
   "metadata": {},
   "outputs": [
    {
     "name": "stderr",
     "output_type": "stream",
     "text": [
      "C:\\Users\\604906\\AppData\\Local\\Continuum\\anaconda3\\lib\\site-packages\\ipykernel_launcher.py:15: SettingWithCopyWarning: \n",
      "A value is trying to be set on a copy of a slice from a DataFrame.\n",
      "Try using .loc[row_indexer,col_indexer] = value instead\n",
      "\n",
      "See the caveats in the documentation: http://pandas.pydata.org/pandas-docs/stable/user_guide/indexing.html#returning-a-view-versus-a-copy\n",
      "  from ipykernel import kernelapp as app\n"
     ]
    }
   ],
   "source": [
    "# Check distribution of Fire Sizes\n",
    "#df['FIRE_SIZE'].describe()\n",
    "\n",
    "#Normalize column\n",
    "# Create x, where x the 'scores' column's values as floats\n",
    "x = df[['FIRE_SIZE']].values.astype(float)\n",
    "\n",
    "# Create a minimum and maximum processor object\n",
    "min_max_scaler = preprocessing.MinMaxScaler()\n",
    "\n",
    "# Create an object to transform the data to fit minmax processor\n",
    "x_scaled = min_max_scaler.fit_transform(x)\n",
    "\n",
    "# Run the normalizer on the dataframe\n",
    "df['FIRE_SIZE_norm'] = df_normalized = pd.DataFrame(x_scaled)\n"
   ]
  },
  {
   "cell_type": "code",
   "execution_count": 95,
   "metadata": {},
   "outputs": [
    {
     "data": {
      "text/plain": [
       "array([[<matplotlib.axes._subplots.AxesSubplot object at 0x000001F976341048>]],\n",
       "      dtype=object)"
      ]
     },
     "execution_count": 95,
     "metadata": {},
     "output_type": "execute_result"
    },
    {
     "data": {
      "image/png": "[encoded data removed]",
      "text/plain": [
       "<Figure size 432x288 with 1 Axes>"
      ]
     },
     "metadata": {
      "needs_background": "light"
     },
     "output_type": "display_data"
    }
   ],
   "source": [
    "#Trying to normalize, but the data is still highly skewed?\n",
    "df.hist(column='FIRE_SIZE_norm')"
   ]
  },
  {
   "cell_type": "code",
   "execution_count": 68,
   "metadata": {},
   "outputs": [],
   "source": [
    "# Check Distribution of Fire size\n",
    "# Fire Size distribution by Two States with Most Wildfires (historically): CA/GA\n",
    "#sns.kdeplot(df.ix[df['STATE'] == 'CA', 'normalized_fire_size'], label = 'California', shade = True)\n",
    "#sns.kdeplot(df.ix[df['STATE'] == 'GA', 'normalized_fire_size'], label = 'Georgia', shade = True)\n",
    "#plt.xlabel('Fire Size'); plt.ylabel('Density'); plt.title('Density Plot of Fire Size by CA and GA');"
   ]
  },
  {
   "cell_type": "code",
   "execution_count": 96,
   "metadata": {},
   "outputs": [],
   "source": [
    "#Only look at California\n",
    "cali_df = df[df.STATE == 'CA'] #filter for state"
   ]
  },
  {
   "cell_type": "code",
   "execution_count": 97,
   "metadata": {},
   "outputs": [
    {
     "data": {
      "text/plain": [
       "array(['CA'], dtype=object)"
      ]
     },
     "execution_count": 97,
     "metadata": {},
     "output_type": "execute_result"
    }
   ],
   "source": [
    "#Check that the only state is CA\n",
    "cali_df.STATE.unique()"
   ]
  },
  {
   "cell_type": "code",
   "execution_count": 98,
   "metadata": {},
   "outputs": [
    {
     "data": {
      "text/plain": [
       "(189550, 14)"
      ]
     },
     "execution_count": 98,
     "metadata": {},
     "output_type": "execute_result"
    }
   ],
   "source": [
    "#Data shape\n",
    "cali_df.shape\n",
    "#total: 1.88 million records -> now looking at 189,550."
   ]
  },
  {
   "cell_type": "code",
   "execution_count": 186,
   "metadata": {
    "scrolled": true
   },
   "outputs": [
    {
     "data": {
      "text/html": [
       "<div>\n",
       "<style scoped>\n",
       "    .dataframe tbody tr th:only-of-type {\n",
       "        vertical-align: middle;\n",
       "    }\n",
       "\n",
       "    .dataframe tbody tr th {\n",
       "        vertical-align: top;\n",
       "    }\n",
       "\n",
       "    .dataframe thead th {\n",
       "        text-align: right;\n",
       "    }\n",
       "</style>\n",
       "<table border=\"1\" class=\"dataframe\">\n",
       "  <thead>\n",
       "    <tr style=\"text-align: right;\">\n",
       "      <th></th>\n",
       "      <th>FIRE_YEAR</th>\n",
       "      <th>DISCOVERY_DATE</th>\n",
       "      <th>DISCOVERY_DOY</th>\n",
       "      <th>STAT_CAUSE_DESCR</th>\n",
       "      <th>FIRE_SIZE</th>\n",
       "      <th>FIRE_SIZE_CLASS</th>\n",
       "      <th>LATITUDE</th>\n",
       "      <th>LONGITUDE</th>\n",
       "      <th>CLIMATE</th>\n",
       "      <th>CLIMATE_ZONE</th>\n",
       "      <th>MOISTURE</th>\n",
       "      <th>FIRE_SIZE_norm</th>\n",
       "    </tr>\n",
       "  </thead>\n",
       "  <tbody>\n",
       "    <tr>\n",
       "      <td>0</td>\n",
       "      <td>2005</td>\n",
       "      <td>2453403.5</td>\n",
       "      <td>33</td>\n",
       "      <td>Miscellaneous</td>\n",
       "      <td>0.10</td>\n",
       "      <td>A</td>\n",
       "      <td>40.036944</td>\n",
       "      <td>-121.005833</td>\n",
       "      <td>Cold</td>\n",
       "      <td>5</td>\n",
       "      <td>B</td>\n",
       "      <td>1.647431e-07</td>\n",
       "    </tr>\n",
       "    <tr>\n",
       "      <td>1</td>\n",
       "      <td>2004</td>\n",
       "      <td>2453137.5</td>\n",
       "      <td>133</td>\n",
       "      <td>Lightning</td>\n",
       "      <td>0.25</td>\n",
       "      <td>A</td>\n",
       "      <td>38.933056</td>\n",
       "      <td>-120.404444</td>\n",
       "      <td>Hot-Dry</td>\n",
       "      <td>3</td>\n",
       "      <td>B</td>\n",
       "      <td>4.118825e-07</td>\n",
       "    </tr>\n",
       "    <tr>\n",
       "      <td>2</td>\n",
       "      <td>2004</td>\n",
       "      <td>2453156.5</td>\n",
       "      <td>152</td>\n",
       "      <td>Debris Burning</td>\n",
       "      <td>0.10</td>\n",
       "      <td>A</td>\n",
       "      <td>38.984167</td>\n",
       "      <td>-120.735556</td>\n",
       "      <td>Mixed-Dry</td>\n",
       "      <td>4</td>\n",
       "      <td>B</td>\n",
       "      <td>1.647431e-07</td>\n",
       "    </tr>\n",
       "    <tr>\n",
       "      <td>3</td>\n",
       "      <td>2004</td>\n",
       "      <td>2453184.5</td>\n",
       "      <td>180</td>\n",
       "      <td>Lightning</td>\n",
       "      <td>0.10</td>\n",
       "      <td>A</td>\n",
       "      <td>38.559167</td>\n",
       "      <td>-119.913333</td>\n",
       "      <td>Cold</td>\n",
       "      <td>6</td>\n",
       "      <td>B</td>\n",
       "      <td>1.647431e-07</td>\n",
       "    </tr>\n",
       "    <tr>\n",
       "      <td>4</td>\n",
       "      <td>2004</td>\n",
       "      <td>2453184.5</td>\n",
       "      <td>180</td>\n",
       "      <td>Lightning</td>\n",
       "      <td>0.10</td>\n",
       "      <td>A</td>\n",
       "      <td>38.559167</td>\n",
       "      <td>-119.933056</td>\n",
       "      <td>Cold</td>\n",
       "      <td>6</td>\n",
       "      <td>B</td>\n",
       "      <td>1.647431e-07</td>\n",
       "    </tr>\n",
       "    <tr>\n",
       "      <td>...</td>\n",
       "      <td>...</td>\n",
       "      <td>...</td>\n",
       "      <td>...</td>\n",
       "      <td>...</td>\n",
       "      <td>...</td>\n",
       "      <td>...</td>\n",
       "      <td>...</td>\n",
       "      <td>...</td>\n",
       "      <td>...</td>\n",
       "      <td>...</td>\n",
       "      <td>...</td>\n",
       "      <td>...</td>\n",
       "    </tr>\n",
       "    <tr>\n",
       "      <td>1872300</td>\n",
       "      <td>2015</td>\n",
       "      <td>2457300.5</td>\n",
       "      <td>278</td>\n",
       "      <td>Missing/Undefined</td>\n",
       "      <td>0.01</td>\n",
       "      <td>A</td>\n",
       "      <td>38.691628</td>\n",
       "      <td>-121.372908</td>\n",
       "      <td>Hot-Dry</td>\n",
       "      <td>3</td>\n",
       "      <td>B</td>\n",
       "      <td>1.645948e-08</td>\n",
       "    </tr>\n",
       "    <tr>\n",
       "      <td>1872301</td>\n",
       "      <td>2015</td>\n",
       "      <td>2457316.5</td>\n",
       "      <td>294</td>\n",
       "      <td>Miscellaneous</td>\n",
       "      <td>0.10</td>\n",
       "      <td>A</td>\n",
       "      <td>38.172881</td>\n",
       "      <td>-120.801955</td>\n",
       "      <td>Mixed-Dry</td>\n",
       "      <td>4</td>\n",
       "      <td>B</td>\n",
       "      <td>1.647431e-07</td>\n",
       "    </tr>\n",
       "    <tr>\n",
       "      <td>1872302</td>\n",
       "      <td>2015</td>\n",
       "      <td>2457353.5</td>\n",
       "      <td>331</td>\n",
       "      <td>Miscellaneous</td>\n",
       "      <td>0.10</td>\n",
       "      <td>A</td>\n",
       "      <td>33.919157</td>\n",
       "      <td>-116.882973</td>\n",
       "      <td>Hot-Dry</td>\n",
       "      <td>3</td>\n",
       "      <td>B</td>\n",
       "      <td>1.647431e-07</td>\n",
       "    </tr>\n",
       "    <tr>\n",
       "      <td>1872303</td>\n",
       "      <td>2015</td>\n",
       "      <td>2457347.5</td>\n",
       "      <td>325</td>\n",
       "      <td>Debris Burning</td>\n",
       "      <td>0.25</td>\n",
       "      <td>A</td>\n",
       "      <td>37.110917</td>\n",
       "      <td>-119.322918</td>\n",
       "      <td>Hot-Dry</td>\n",
       "      <td>3</td>\n",
       "      <td>B</td>\n",
       "      <td>4.118825e-07</td>\n",
       "    </tr>\n",
       "    <tr>\n",
       "      <td>1872304</td>\n",
       "      <td>2015</td>\n",
       "      <td>2457302.5</td>\n",
       "      <td>280</td>\n",
       "      <td>Miscellaneous</td>\n",
       "      <td>0.01</td>\n",
       "      <td>A</td>\n",
       "      <td>39.365926</td>\n",
       "      <td>-123.233855</td>\n",
       "      <td>Marine</td>\n",
       "      <td>3</td>\n",
       "      <td>C</td>\n",
       "      <td>1.645948e-08</td>\n",
       "    </tr>\n",
       "  </tbody>\n",
       "</table>\n",
       "<p>56220 rows × 12 columns</p>\n",
       "</div>"
      ],
      "text/plain": [
       "         FIRE_YEAR  DISCOVERY_DATE  DISCOVERY_DOY   STAT_CAUSE_DESCR  \\\n",
       "0             2005       2453403.5             33      Miscellaneous   \n",
       "1             2004       2453137.5            133          Lightning   \n",
       "2             2004       2453156.5            152     Debris Burning   \n",
       "3             2004       2453184.5            180          Lightning   \n",
       "4             2004       2453184.5            180          Lightning   \n",
       "...            ...             ...            ...                ...   \n",
       "1872300       2015       2457300.5            278  Missing/Undefined   \n",
       "1872301       2015       2457316.5            294      Miscellaneous   \n",
       "1872302       2015       2457353.5            331      Miscellaneous   \n",
       "1872303       2015       2457347.5            325     Debris Burning   \n",
       "1872304       2015       2457302.5            280      Miscellaneous   \n",
       "\n",
       "         FIRE_SIZE FIRE_SIZE_CLASS   LATITUDE   LONGITUDE    CLIMATE  \\\n",
       "0             0.10               A  40.036944 -121.005833       Cold   \n",
       "1             0.25               A  38.933056 -120.404444    Hot-Dry   \n",
       "2             0.10               A  38.984167 -120.735556  Mixed-Dry   \n",
       "3             0.10               A  38.559167 -119.913333       Cold   \n",
       "4             0.10               A  38.559167 -119.933056       Cold   \n",
       "...            ...             ...        ...         ...        ...   \n",
       "1872300       0.01               A  38.691628 -121.372908    Hot-Dry   \n",
       "1872301       0.10               A  38.172881 -120.801955  Mixed-Dry   \n",
       "1872302       0.10               A  33.919157 -116.882973    Hot-Dry   \n",
       "1872303       0.25               A  37.110917 -119.322918    Hot-Dry   \n",
       "1872304       0.01               A  39.365926 -123.233855     Marine   \n",
       "\n",
       "        CLIMATE_ZONE MOISTURE  FIRE_SIZE_norm  \n",
       "0                  5        B    1.647431e-07  \n",
       "1                  3        B    4.118825e-07  \n",
       "2                  4        B    1.647431e-07  \n",
       "3                  6        B    1.647431e-07  \n",
       "4                  6        B    1.647431e-07  \n",
       "...              ...      ...             ...  \n",
       "1872300            3        B    1.645948e-08  \n",
       "1872301            4        B    1.647431e-07  \n",
       "1872302            3        B    1.647431e-07  \n",
       "1872303            3        B    4.118825e-07  \n",
       "1872304            3        C    1.645948e-08  \n",
       "\n",
       "[56220 rows x 12 columns]"
      ]
     },
     "execution_count": 186,
     "metadata": {},
     "output_type": "execute_result"
    }
   ],
   "source": [
    "#Drop the 678,148 missing records\n",
    "cali_df = cali_df.dropna()\n",
    "#56,220 records\n",
    "cali_df"
   ]
  },
  {
   "cell_type": "code",
   "execution_count": 187,
   "metadata": {},
   "outputs": [
    {
     "data": {
      "text/plain": [
       "array([[<matplotlib.axes._subplots.AxesSubplot object at 0x000001F973C23400>]],\n",
       "      dtype=object)"
      ]
     },
     "execution_count": 187,
     "metadata": {},
     "output_type": "execute_result"
    },
    {
     "data": {
      "image/png": "[encoded data removed]",
      "text/plain": [
       "<Figure size 432x288 with 1 Axes>"
      ]
     },
     "metadata": {
      "needs_background": "light"
     },
     "output_type": "display_data"
    }
   ],
   "source": [
    "cali_df.hist(column='FIRE_SIZE',range=(0,10))"
   ]
  },
  {
   "cell_type": "code",
   "execution_count": 188,
   "metadata": {},
   "outputs": [
    {
     "data": {
      "text/plain": [
       "count     56220.000000\n",
       "mean        116.050930\n",
       "std        3048.255692\n",
       "min           0.010000\n",
       "25%           0.100000\n",
       "50%           0.110000\n",
       "75%           1.000000\n",
       "max      315578.800000\n",
       "Name: FIRE_SIZE, dtype: float64"
      ]
     },
     "execution_count": 188,
     "metadata": {},
     "output_type": "execute_result"
    }
   ],
   "source": [
    "cali_df['FIRE_SIZE'].describe()\n",
    "#cali_df['FIRE_SIZE_norm'].describe()\n",
    "\n",
    "#imbalanced data\n",
    "#Maybe remove outliers and look at the data again\n",
    "#OR only look at the BIGGEST wildfires"
   ]
  },
  {
   "cell_type": "code",
   "execution_count": 245,
   "metadata": {},
   "outputs": [
    {
     "data": {
      "text/plain": [
       "[(-0.5, 5)]"
      ]
     },
     "execution_count": 245,
     "metadata": {},
     "output_type": "execute_result"
    },
    {
     "data": {
      "image/png": "[encoded data removed]",
      "text/plain": [
       "<Figure size 432x288 with 1 Axes>"
      ]
     },
     "metadata": {
      "needs_background": "light"
     },
     "output_type": "display_data"
    }
   ],
   "source": [
    "## Detect and Remove Outliers\n",
    "ax = sns.boxplot(x=cali_df['FIRE_SIZE'])\n",
    "ax.set(xlim=(-0.5, 5))"
   ]
  },
  {
   "cell_type": "code",
   "execution_count": 190,
   "metadata": {},
   "outputs": [
    {
     "data": {
      "text/html": [
       "<div>\n",
       "<style scoped>\n",
       "    .dataframe tbody tr th:only-of-type {\n",
       "        vertical-align: middle;\n",
       "    }\n",
       "\n",
       "    .dataframe tbody tr th {\n",
       "        vertical-align: top;\n",
       "    }\n",
       "\n",
       "    .dataframe thead th {\n",
       "        text-align: right;\n",
       "    }\n",
       "</style>\n",
       "<table border=\"1\" class=\"dataframe\">\n",
       "  <thead>\n",
       "    <tr style=\"text-align: right;\">\n",
       "      <th></th>\n",
       "      <th>FIRE_YEAR</th>\n",
       "      <th>DISCOVERY_DATE</th>\n",
       "      <th>DISCOVERY_DOY</th>\n",
       "      <th>STAT_CAUSE_DESCR</th>\n",
       "      <th>FIRE_SIZE</th>\n",
       "      <th>FIRE_SIZE_CLASS</th>\n",
       "      <th>LATITUDE</th>\n",
       "      <th>LONGITUDE</th>\n",
       "      <th>CLIMATE</th>\n",
       "      <th>CLIMATE_ZONE</th>\n",
       "      <th>MOISTURE</th>\n",
       "      <th>FIRE_SIZE_norm</th>\n",
       "    </tr>\n",
       "  </thead>\n",
       "  <tbody>\n",
       "    <tr>\n",
       "      <td>1572842</td>\n",
       "      <td>2012</td>\n",
       "      <td>2456151.5</td>\n",
       "      <td>225</td>\n",
       "      <td>Lightning</td>\n",
       "      <td>315578.8</td>\n",
       "      <td>G</td>\n",
       "      <td>40.615300</td>\n",
       "      <td>-120.115300</td>\n",
       "      <td>Cold</td>\n",
       "      <td>5</td>\n",
       "      <td>B</td>\n",
       "      <td>0.519946</td>\n",
       "    </tr>\n",
       "    <tr>\n",
       "      <td>1641750</td>\n",
       "      <td>2013</td>\n",
       "      <td>2456521.5</td>\n",
       "      <td>229</td>\n",
       "      <td>Miscellaneous</td>\n",
       "      <td>255858.0</td>\n",
       "      <td>G</td>\n",
       "      <td>37.860556</td>\n",
       "      <td>-120.083056</td>\n",
       "      <td>Mixed-Dry</td>\n",
       "      <td>4</td>\n",
       "      <td>B</td>\n",
       "      <td>0.421551</td>\n",
       "    </tr>\n",
       "    <tr>\n",
       "      <td>24834</td>\n",
       "      <td>2007</td>\n",
       "      <td>2454285.5</td>\n",
       "      <td>185</td>\n",
       "      <td>Equipment Use</td>\n",
       "      <td>240207.0</td>\n",
       "      <td>G</td>\n",
       "      <td>34.779167</td>\n",
       "      <td>-120.090000</td>\n",
       "      <td>Marine</td>\n",
       "      <td>3</td>\n",
       "      <td>C</td>\n",
       "      <td>0.395764</td>\n",
       "    </tr>\n",
       "    <tr>\n",
       "      <td>26363</td>\n",
       "      <td>2007</td>\n",
       "      <td>2454394.5</td>\n",
       "      <td>294</td>\n",
       "      <td>Miscellaneous</td>\n",
       "      <td>197990.0</td>\n",
       "      <td>G</td>\n",
       "      <td>33.074444</td>\n",
       "      <td>-116.711111</td>\n",
       "      <td>Hot-Dry</td>\n",
       "      <td>3</td>\n",
       "      <td>B</td>\n",
       "      <td>0.326207</td>\n",
       "    </tr>\n",
       "    <tr>\n",
       "      <td>27901</td>\n",
       "      <td>2008</td>\n",
       "      <td>2454638.5</td>\n",
       "      <td>173</td>\n",
       "      <td>Lightning</td>\n",
       "      <td>162818.0</td>\n",
       "      <td>G</td>\n",
       "      <td>36.281111</td>\n",
       "      <td>-121.658333</td>\n",
       "      <td>Marine</td>\n",
       "      <td>3</td>\n",
       "      <td>C</td>\n",
       "      <td>0.268258</td>\n",
       "    </tr>\n",
       "  </tbody>\n",
       "</table>\n",
       "</div>"
      ],
      "text/plain": [
       "         FIRE_YEAR  DISCOVERY_DATE  DISCOVERY_DOY STAT_CAUSE_DESCR  FIRE_SIZE  \\\n",
       "1572842       2012       2456151.5            225        Lightning   315578.8   \n",
       "1641750       2013       2456521.5            229    Miscellaneous   255858.0   \n",
       "24834         2007       2454285.5            185    Equipment Use   240207.0   \n",
       "26363         2007       2454394.5            294    Miscellaneous   197990.0   \n",
       "27901         2008       2454638.5            173        Lightning   162818.0   \n",
       "\n",
       "        FIRE_SIZE_CLASS   LATITUDE   LONGITUDE    CLIMATE CLIMATE_ZONE  \\\n",
       "1572842               G  40.615300 -120.115300       Cold            5   \n",
       "1641750               G  37.860556 -120.083056  Mixed-Dry            4   \n",
       "24834                 G  34.779167 -120.090000     Marine            3   \n",
       "26363                 G  33.074444 -116.711111    Hot-Dry            3   \n",
       "27901                 G  36.281111 -121.658333     Marine            3   \n",
       "\n",
       "        MOISTURE  FIRE_SIZE_norm  \n",
       "1572842        B        0.519946  \n",
       "1641750        B        0.421551  \n",
       "24834          C        0.395764  \n",
       "26363          B        0.326207  \n",
       "27901          C        0.268258  "
      ]
     },
     "execution_count": 190,
     "metadata": {},
     "output_type": "execute_result"
    }
   ],
   "source": [
    "#largest fire_sizes\n",
    "cali_df.sort_values(by='FIRE_SIZE', ascending=False).head(5)"
   ]
  },
  {
   "cell_type": "code",
   "execution_count": 191,
   "metadata": {},
   "outputs": [
    {
     "data": {
      "text/html": [
       "<div>\n",
       "<style scoped>\n",
       "    .dataframe tbody tr th:only-of-type {\n",
       "        vertical-align: middle;\n",
       "    }\n",
       "\n",
       "    .dataframe tbody tr th {\n",
       "        vertical-align: top;\n",
       "    }\n",
       "\n",
       "    .dataframe thead th {\n",
       "        text-align: right;\n",
       "    }\n",
       "</style>\n",
       "<table border=\"1\" class=\"dataframe\">\n",
       "  <thead>\n",
       "    <tr style=\"text-align: right;\">\n",
       "      <th></th>\n",
       "      <th>FIRE_YEAR</th>\n",
       "      <th>DISCOVERY_DATE</th>\n",
       "      <th>DISCOVERY_DOY</th>\n",
       "      <th>STAT_CAUSE_DESCR</th>\n",
       "      <th>FIRE_SIZE</th>\n",
       "      <th>FIRE_SIZE_CLASS</th>\n",
       "      <th>LATITUDE</th>\n",
       "      <th>LONGITUDE</th>\n",
       "      <th>CLIMATE</th>\n",
       "      <th>CLIMATE_ZONE</th>\n",
       "      <th>MOISTURE</th>\n",
       "      <th>FIRE_SIZE_norm</th>\n",
       "    </tr>\n",
       "  </thead>\n",
       "  <tbody>\n",
       "    <tr>\n",
       "      <td>0</td>\n",
       "      <td>2005</td>\n",
       "      <td>2453403.5</td>\n",
       "      <td>33</td>\n",
       "      <td>Miscellaneous</td>\n",
       "      <td>0.10</td>\n",
       "      <td>A</td>\n",
       "      <td>40.036944</td>\n",
       "      <td>-121.005833</td>\n",
       "      <td>Cold</td>\n",
       "      <td>5</td>\n",
       "      <td>B</td>\n",
       "      <td>1.647431e-07</td>\n",
       "    </tr>\n",
       "    <tr>\n",
       "      <td>1</td>\n",
       "      <td>2004</td>\n",
       "      <td>2453137.5</td>\n",
       "      <td>133</td>\n",
       "      <td>Lightning</td>\n",
       "      <td>0.25</td>\n",
       "      <td>A</td>\n",
       "      <td>38.933056</td>\n",
       "      <td>-120.404444</td>\n",
       "      <td>Hot-Dry</td>\n",
       "      <td>3</td>\n",
       "      <td>B</td>\n",
       "      <td>4.118825e-07</td>\n",
       "    </tr>\n",
       "    <tr>\n",
       "      <td>2</td>\n",
       "      <td>2004</td>\n",
       "      <td>2453156.5</td>\n",
       "      <td>152</td>\n",
       "      <td>Debris Burning</td>\n",
       "      <td>0.10</td>\n",
       "      <td>A</td>\n",
       "      <td>38.984167</td>\n",
       "      <td>-120.735556</td>\n",
       "      <td>Mixed-Dry</td>\n",
       "      <td>4</td>\n",
       "      <td>B</td>\n",
       "      <td>1.647431e-07</td>\n",
       "    </tr>\n",
       "    <tr>\n",
       "      <td>3</td>\n",
       "      <td>2004</td>\n",
       "      <td>2453184.5</td>\n",
       "      <td>180</td>\n",
       "      <td>Lightning</td>\n",
       "      <td>0.10</td>\n",
       "      <td>A</td>\n",
       "      <td>38.559167</td>\n",
       "      <td>-119.913333</td>\n",
       "      <td>Cold</td>\n",
       "      <td>6</td>\n",
       "      <td>B</td>\n",
       "      <td>1.647431e-07</td>\n",
       "    </tr>\n",
       "    <tr>\n",
       "      <td>4</td>\n",
       "      <td>2004</td>\n",
       "      <td>2453184.5</td>\n",
       "      <td>180</td>\n",
       "      <td>Lightning</td>\n",
       "      <td>0.10</td>\n",
       "      <td>A</td>\n",
       "      <td>38.559167</td>\n",
       "      <td>-119.933056</td>\n",
       "      <td>Cold</td>\n",
       "      <td>6</td>\n",
       "      <td>B</td>\n",
       "      <td>1.647431e-07</td>\n",
       "    </tr>\n",
       "    <tr>\n",
       "      <td>...</td>\n",
       "      <td>...</td>\n",
       "      <td>...</td>\n",
       "      <td>...</td>\n",
       "      <td>...</td>\n",
       "      <td>...</td>\n",
       "      <td>...</td>\n",
       "      <td>...</td>\n",
       "      <td>...</td>\n",
       "      <td>...</td>\n",
       "      <td>...</td>\n",
       "      <td>...</td>\n",
       "      <td>...</td>\n",
       "    </tr>\n",
       "    <tr>\n",
       "      <td>1872300</td>\n",
       "      <td>2015</td>\n",
       "      <td>2457300.5</td>\n",
       "      <td>278</td>\n",
       "      <td>Missing/Undefined</td>\n",
       "      <td>0.01</td>\n",
       "      <td>A</td>\n",
       "      <td>38.691628</td>\n",
       "      <td>-121.372908</td>\n",
       "      <td>Hot-Dry</td>\n",
       "      <td>3</td>\n",
       "      <td>B</td>\n",
       "      <td>1.645948e-08</td>\n",
       "    </tr>\n",
       "    <tr>\n",
       "      <td>1872301</td>\n",
       "      <td>2015</td>\n",
       "      <td>2457316.5</td>\n",
       "      <td>294</td>\n",
       "      <td>Miscellaneous</td>\n",
       "      <td>0.10</td>\n",
       "      <td>A</td>\n",
       "      <td>38.172881</td>\n",
       "      <td>-120.801955</td>\n",
       "      <td>Mixed-Dry</td>\n",
       "      <td>4</td>\n",
       "      <td>B</td>\n",
       "      <td>1.647431e-07</td>\n",
       "    </tr>\n",
       "    <tr>\n",
       "      <td>1872302</td>\n",
       "      <td>2015</td>\n",
       "      <td>2457353.5</td>\n",
       "      <td>331</td>\n",
       "      <td>Miscellaneous</td>\n",
       "      <td>0.10</td>\n",
       "      <td>A</td>\n",
       "      <td>33.919157</td>\n",
       "      <td>-116.882973</td>\n",
       "      <td>Hot-Dry</td>\n",
       "      <td>3</td>\n",
       "      <td>B</td>\n",
       "      <td>1.647431e-07</td>\n",
       "    </tr>\n",
       "    <tr>\n",
       "      <td>1872303</td>\n",
       "      <td>2015</td>\n",
       "      <td>2457347.5</td>\n",
       "      <td>325</td>\n",
       "      <td>Debris Burning</td>\n",
       "      <td>0.25</td>\n",
       "      <td>A</td>\n",
       "      <td>37.110917</td>\n",
       "      <td>-119.322918</td>\n",
       "      <td>Hot-Dry</td>\n",
       "      <td>3</td>\n",
       "      <td>B</td>\n",
       "      <td>4.118825e-07</td>\n",
       "    </tr>\n",
       "    <tr>\n",
       "      <td>1872304</td>\n",
       "      <td>2015</td>\n",
       "      <td>2457302.5</td>\n",
       "      <td>280</td>\n",
       "      <td>Miscellaneous</td>\n",
       "      <td>0.01</td>\n",
       "      <td>A</td>\n",
       "      <td>39.365926</td>\n",
       "      <td>-123.233855</td>\n",
       "      <td>Marine</td>\n",
       "      <td>3</td>\n",
       "      <td>C</td>\n",
       "      <td>1.645948e-08</td>\n",
       "    </tr>\n",
       "  </tbody>\n",
       "</table>\n",
       "<p>49194 rows × 12 columns</p>\n",
       "</div>"
      ],
      "text/plain": [
       "         FIRE_YEAR  DISCOVERY_DATE  DISCOVERY_DOY   STAT_CAUSE_DESCR  \\\n",
       "0             2005       2453403.5             33      Miscellaneous   \n",
       "1             2004       2453137.5            133          Lightning   \n",
       "2             2004       2453156.5            152     Debris Burning   \n",
       "3             2004       2453184.5            180          Lightning   \n",
       "4             2004       2453184.5            180          Lightning   \n",
       "...            ...             ...            ...                ...   \n",
       "1872300       2015       2457300.5            278  Missing/Undefined   \n",
       "1872301       2015       2457316.5            294      Miscellaneous   \n",
       "1872302       2015       2457353.5            331      Miscellaneous   \n",
       "1872303       2015       2457347.5            325     Debris Burning   \n",
       "1872304       2015       2457302.5            280      Miscellaneous   \n",
       "\n",
       "         FIRE_SIZE FIRE_SIZE_CLASS   LATITUDE   LONGITUDE    CLIMATE  \\\n",
       "0             0.10               A  40.036944 -121.005833       Cold   \n",
       "1             0.25               A  38.933056 -120.404444    Hot-Dry   \n",
       "2             0.10               A  38.984167 -120.735556  Mixed-Dry   \n",
       "3             0.10               A  38.559167 -119.913333       Cold   \n",
       "4             0.10               A  38.559167 -119.933056       Cold   \n",
       "...            ...             ...        ...         ...        ...   \n",
       "1872300       0.01               A  38.691628 -121.372908    Hot-Dry   \n",
       "1872301       0.10               A  38.172881 -120.801955  Mixed-Dry   \n",
       "1872302       0.10               A  33.919157 -116.882973    Hot-Dry   \n",
       "1872303       0.25               A  37.110917 -119.322918    Hot-Dry   \n",
       "1872304       0.01               A  39.365926 -123.233855     Marine   \n",
       "\n",
       "        CLIMATE_ZONE MOISTURE  FIRE_SIZE_norm  \n",
       "0                  5        B    1.647431e-07  \n",
       "1                  3        B    4.118825e-07  \n",
       "2                  4        B    1.647431e-07  \n",
       "3                  6        B    1.647431e-07  \n",
       "4                  6        B    1.647431e-07  \n",
       "...              ...      ...             ...  \n",
       "1872300            3        B    1.645948e-08  \n",
       "1872301            4        B    1.647431e-07  \n",
       "1872302            3        B    1.647431e-07  \n",
       "1872303            3        B    4.118825e-07  \n",
       "1872304            3        C    1.645948e-08  \n",
       "\n",
       "[49194 rows x 12 columns]"
      ]
     },
     "execution_count": 191,
     "metadata": {},
     "output_type": "execute_result"
    }
   ],
   "source": [
    "# 1.5*IQR = (1-0.1)*1.5 = 1.35\n",
    "# Q3 + 1.35 = 2.35\n",
    "cali_df2 = cali_df[(cali_df.FIRE_SIZE <= 2.35)]\n",
    "cali_df2\n",
    "#56,220 records --> 49,194"
   ]
  },
  {
   "cell_type": "markdown",
   "metadata": {},
   "source": [
    "## Value Counts for Categorical Columns"
   ]
  },
  {
   "cell_type": "code",
   "execution_count": 246,
   "metadata": {},
   "outputs": [
    {
     "name": "stdout",
     "output_type": "stream",
     "text": [
      "\n",
      "Column Name: STAT_CAUSE_DESCR\n",
      "Miscellaneous        13734\n",
      "Lightning             9489\n",
      "Missing/Undefined     9450\n",
      "Equipment Use         7790\n",
      "Arson                 4799\n",
      "Debris Burning        3782\n",
      "Campfire              2857\n",
      "Children              1848\n",
      "Smoking               1575\n",
      "Powerline              711\n",
      "Railroad               123\n",
      "Fireworks               31\n",
      "Structure               31\n",
      "Name: STAT_CAUSE_DESCR, dtype: int64\n",
      "\n",
      "Column Name: FIRE_SIZE_CLASS\n",
      "A    33824\n",
      "B    18782\n",
      "C     2267\n",
      "D      564\n",
      "E      325\n",
      "F      262\n",
      "G      196\n",
      "Name: FIRE_SIZE_CLASS, dtype: int64\n",
      "\n",
      "Column Name: CLIMATE\n",
      "Hot-Dry      32124\n",
      "Cold          8778\n",
      "Mixed-Dry     8642\n",
      "Marine        6676\n",
      "Name: CLIMATE, dtype: int64\n",
      "\n",
      "Column Name: CLIMATE_ZONE\n",
      "3    37340\n",
      "4     9927\n",
      "5     7768\n",
      "6     1010\n",
      "2      175\n",
      "Name: CLIMATE_ZONE, dtype: int64\n",
      "\n",
      "Column Name: MOISTURE\n",
      "B    49544\n",
      "C     6676\n",
      "Name: MOISTURE, dtype: int64\n"
     ]
    }
   ],
   "source": [
    "for col in cali_df.columns:\n",
    "    if cali_df[col].dtype == 'object':\n",
    "        print('\\nColumn Name:', col,)\n",
    "        print(cali_df[col].value_counts())"
   ]
  },
  {
   "cell_type": "code",
   "execution_count": null,
   "metadata": {},
   "outputs": [],
   "source": []
  },
  {
   "cell_type": "markdown",
   "metadata": {},
   "source": [
    "## Variable Correlations ##"
   ]
  },
  {
   "cell_type": "code",
   "execution_count": 220,
   "metadata": {},
   "outputs": [
    {
     "data": {
      "text/plain": [
       "LONGITUDE        -0.064495\n",
       "DISCOVERY_DOY    -0.020051\n",
       "LATITUDE          0.014857\n",
       "DISCOVERY_DATE    0.038241\n",
       "FIRE_YEAR         0.039013\n",
       "FIRE_SIZE         1.000000\n",
       "FIRE_SIZE_norm    1.000000\n",
       "Name: FIRE_SIZE, dtype: float64"
      ]
     },
     "execution_count": 220,
     "metadata": {},
     "output_type": "execute_result"
    }
   ],
   "source": [
    "#correlations of NUMERIC variables\n",
    "#cali_df.corr()['FIRE_SIZE'].sort_values()\n",
    "cali_df2.corr()['FIRE_SIZE'].sort_values()"
   ]
  },
  {
   "cell_type": "code",
   "execution_count": 124,
   "metadata": {},
   "outputs": [],
   "source": [
    "#Drop Unnecessary columns first\n",
    "#cali_df = cali_df.drop(columns=['FIPS_NAME','STATE'])"
   ]
  },
  {
   "cell_type": "code",
   "execution_count": 221,
   "metadata": {},
   "outputs": [
    {
     "name": "stdout",
     "output_type": "stream",
     "text": [
      "<class 'pandas.core.frame.DataFrame'>\n",
      "Int64Index: 49194 entries, 0 to 1872304\n",
      "Data columns (total 12 columns):\n",
      "FIRE_YEAR           49194 non-null int64\n",
      "DISCOVERY_DATE      49194 non-null float64\n",
      "DISCOVERY_DOY       49194 non-null int64\n",
      "STAT_CAUSE_DESCR    49194 non-null object\n",
      "FIRE_SIZE           49194 non-null float64\n",
      "FIRE_SIZE_CLASS     49194 non-null object\n",
      "LATITUDE            49194 non-null float64\n",
      "LONGITUDE           49194 non-null float64\n",
      "CLIMATE             49194 non-null object\n",
      "CLIMATE_ZONE        49194 non-null object\n",
      "MOISTURE            49194 non-null object\n",
      "FIRE_SIZE_norm      49194 non-null float64\n",
      "dtypes: float64(5), int64(2), object(5)\n",
      "memory usage: 4.9+ MB\n"
     ]
    }
   ],
   "source": [
    "cali_df2.info()"
   ]
  },
  {
   "cell_type": "code",
   "execution_count": 222,
   "metadata": {},
   "outputs": [
    {
     "data": {
      "text/plain": [
       "FIRE_SIZE_CLASS_A                    -0.818017\n",
       "STAT_CAUSE_DESCR_Lightning           -0.092606\n",
       "STAT_CAUSE_DESCR_Campfire            -0.091641\n",
       "CLIMATE_Cold                         -0.079392\n",
       "CLIMATE_ZONE_5                       -0.066126\n",
       "CLIMATE_ZONE_6                       -0.044814\n",
       "MOISTURE_B                           -0.026249\n",
       "STAT_CAUSE_DESCR_Smoking             -0.019669\n",
       "STAT_CAUSE_DESCR_Children            -0.013704\n",
       "CLIMATE_ZONE_2                       -0.008466\n",
       "CLIMATE_Mixed-Dry                    -0.003802\n",
       "CLIMATE_ZONE_4                       -0.000695\n",
       "STAT_CAUSE_DESCR_Structure           -0.000292\n",
       "STAT_CAUSE_DESCR_Fireworks            0.003206\n",
       "STAT_CAUSE_DESCR_Railroad             0.003260\n",
       "STAT_CAUSE_DESCR_Miscellaneous        0.012656\n",
       "STAT_CAUSE_DESCR_Equipment Use        0.025360\n",
       "MOISTURE_C                            0.026249\n",
       "CLIMATE_Marine                        0.026249\n",
       "STAT_CAUSE_DESCR_Powerline            0.029203\n",
       "STAT_CAUSE_DESCR_Arson                0.035264\n",
       "CLIMATE_Hot-Dry                       0.044306\n",
       "STAT_CAUSE_DESCR_Debris Burning       0.045475\n",
       "STAT_CAUSE_DESCR_Missing/Undefined    0.060264\n",
       "CLIMATE_ZONE_3                        0.062868\n",
       "FIRE_SIZE_CLASS_B                     0.818017\n",
       "FIRE_SIZE                             1.000000\n",
       "Name: FIRE_SIZE, dtype: float64"
      ]
     },
     "execution_count": 222,
     "metadata": {},
     "output_type": "execute_result"
    }
   ],
   "source": [
    "#Categorical Correlations\n",
    "\n",
    "# Select only categorical variables\n",
    "#category_df = cali_df.select_dtypes('object')\n",
    "# One hot encode the variables\n",
    "#dummy_df = pd.get_dummies(category_df)\n",
    "# Put the grade back in the dataframe\n",
    "#dummy_df['FIRE_SIZE'] = cali_df['FIRE_SIZE']\n",
    "#dummy_df.corr()['FIRE_SIZE'].sort_values()\n",
    "\n",
    "##Try again for cali_df2 (no outliers)\n",
    "# Select only categorical variables\n",
    "category_df2 = cali_df2.select_dtypes('object')\n",
    "# One hot encode the variables\n",
    "dummy_df2 = pd.get_dummies(category_df2)\n",
    "# Put the grade back in the dataframe\n",
    "dummy_df2['FIRE_SIZE'] = cali_df2['FIRE_SIZE']\n",
    "dummy_df2.corr()['FIRE_SIZE'].sort_values()"
   ]
  },
  {
   "cell_type": "code",
   "execution_count": 224,
   "metadata": {},
   "outputs": [
    {
     "data": {
      "text/html": [
       "<div>\n",
       "<style scoped>\n",
       "    .dataframe tbody tr th:only-of-type {\n",
       "        vertical-align: middle;\n",
       "    }\n",
       "\n",
       "    .dataframe tbody tr th {\n",
       "        vertical-align: top;\n",
       "    }\n",
       "\n",
       "    .dataframe thead th {\n",
       "        text-align: right;\n",
       "    }\n",
       "</style>\n",
       "<table border=\"1\" class=\"dataframe\">\n",
       "  <thead>\n",
       "    <tr style=\"text-align: right;\">\n",
       "      <th></th>\n",
       "      <th>FIRE_SIZE_CLASS_A</th>\n",
       "      <th>STAT_CAUSE_DESCR_Lightning</th>\n",
       "      <th>STAT_CAUSE_DESCR_Campfire</th>\n",
       "      <th>CLIMATE_Cold</th>\n",
       "      <th>CLIMATE_ZONE_5</th>\n",
       "      <th>FIRE_SIZE</th>\n",
       "    </tr>\n",
       "  </thead>\n",
       "  <tbody>\n",
       "    <tr>\n",
       "      <td>0</td>\n",
       "      <td>1</td>\n",
       "      <td>0</td>\n",
       "      <td>0</td>\n",
       "      <td>1</td>\n",
       "      <td>1</td>\n",
       "      <td>0.10</td>\n",
       "    </tr>\n",
       "    <tr>\n",
       "      <td>1</td>\n",
       "      <td>1</td>\n",
       "      <td>1</td>\n",
       "      <td>0</td>\n",
       "      <td>0</td>\n",
       "      <td>0</td>\n",
       "      <td>0.25</td>\n",
       "    </tr>\n",
       "    <tr>\n",
       "      <td>2</td>\n",
       "      <td>1</td>\n",
       "      <td>0</td>\n",
       "      <td>0</td>\n",
       "      <td>0</td>\n",
       "      <td>0</td>\n",
       "      <td>0.10</td>\n",
       "    </tr>\n",
       "    <tr>\n",
       "      <td>3</td>\n",
       "      <td>1</td>\n",
       "      <td>1</td>\n",
       "      <td>0</td>\n",
       "      <td>1</td>\n",
       "      <td>0</td>\n",
       "      <td>0.10</td>\n",
       "    </tr>\n",
       "    <tr>\n",
       "      <td>4</td>\n",
       "      <td>1</td>\n",
       "      <td>1</td>\n",
       "      <td>0</td>\n",
       "      <td>1</td>\n",
       "      <td>0</td>\n",
       "      <td>0.10</td>\n",
       "    </tr>\n",
       "  </tbody>\n",
       "</table>\n",
       "</div>"
      ],
      "text/plain": [
       "   FIRE_SIZE_CLASS_A  STAT_CAUSE_DESCR_Lightning  STAT_CAUSE_DESCR_Campfire  \\\n",
       "0                  1                           0                          0   \n",
       "1                  1                           1                          0   \n",
       "2                  1                           0                          0   \n",
       "3                  1                           1                          0   \n",
       "4                  1                           1                          0   \n",
       "\n",
       "   CLIMATE_Cold  CLIMATE_ZONE_5  FIRE_SIZE  \n",
       "0             1               1       0.10  \n",
       "1             0               0       0.25  \n",
       "2             0               0       0.10  \n",
       "3             1               0       0.10  \n",
       "4             1               0       0.10  "
      ]
     },
     "execution_count": 224,
     "metadata": {},
     "output_type": "execute_result"
    }
   ],
   "source": [
    "#test_df = dummy_df[['FIRE_SIZE_CLASS_A','FIRE_SIZE_CLASS_B','STAT_CAUSE_DESCR_Equipment Use',\n",
    "#                   'STAT_CAUSE_DESCR_Debris Burning','STAT_CAUSE_DESCR_Children','FIRE_SIZE']]\n",
    "#test_df.head(5)\n",
    "\n",
    "#Use the top 5 variables most correlated with fire size\n",
    "test_df2 = dummy_df2[['FIRE_SIZE_CLASS_A','STAT_CAUSE_DESCR_Lightning','STAT_CAUSE_DESCR_Campfire',\n",
    "                     'CLIMATE_Cold','CLIMATE_ZONE_5','FIRE_SIZE']]\n",
    "test_df2.head(5)"
   ]
  },
  {
   "cell_type": "code",
   "execution_count": 225,
   "metadata": {},
   "outputs": [
    {
     "name": "stdout",
     "output_type": "stream",
     "text": [
      "2.3092638912203256e-14\n",
      "[-2.07076761e-14  4.44089210e-16  3.40005801e-15 -6.93889390e-16\n",
      " -2.77555756e-16  1.00000000e+00]\n"
     ]
    }
   ],
   "source": [
    "from sklearn.linear_model import LinearRegression\n",
    "\n",
    "# Create linear regression object.\n",
    "mlr= LinearRegression()\n",
    "\n",
    "# Fit linear regression.\n",
    "#mlr.fit(test_df[['FIRE_SIZE_CLASS_A','FIRE_SIZE_CLASS_B','STAT_CAUSE_DESCR_Equipment Use',\n",
    "#                   'STAT_CAUSE_DESCR_Debris Burning','STAT_CAUSE_DESCR_Children']], test_df['FIRE_SIZE'])\n",
    "mlr.fit(test_df2[['FIRE_SIZE_CLASS_A','STAT_CAUSE_DESCR_Lightning','STAT_CAUSE_DESCR_Campfire',\n",
    "                     'CLIMATE_Cold','CLIMATE_ZONE_5','FIRE_SIZE']], test_df2['FIRE_SIZE'])\n",
    "\n",
    "# Get the slope and intercept of the line best fit.\n",
    "print(mlr.intercept_)\n",
    "print(mlr.coef_)"
   ]
  },
  {
   "cell_type": "code",
   "execution_count": 197,
   "metadata": {},
   "outputs": [],
   "source": [
    "#Visualize\n",
    "#sns.pairplot(test_df, x_vars=['FIRE_SIZE_CLASS_A','FIRE_SIZE_CLASS_B','STAT_CAUSE_DESCR_Equipment Use',\n",
    "#                   'STAT_CAUSE_DESCR_Debris Burning','STAT_CAUSE_DESCR_Children'],\n",
    "#            y_vars='FIRE_SIZE',kind='reg')"
   ]
  },
  {
   "cell_type": "code",
   "execution_count": 226,
   "metadata": {},
   "outputs": [],
   "source": [
    "#Assign X as subset of data for features only\n",
    "X = test_df2[['FIRE_SIZE_CLASS_A','STAT_CAUSE_DESCR_Lightning','STAT_CAUSE_DESCR_Campfire',\n",
    "                     'CLIMATE_Cold','CLIMATE_ZONE_5','FIRE_SIZE']]\n",
    "#Set y as response\n",
    "y = test_df2['FIRE_SIZE']"
   ]
  },
  {
   "cell_type": "code",
   "execution_count": 227,
   "metadata": {},
   "outputs": [],
   "source": [
    "#Split dataset\n",
    "from sklearn.model_selection import train_test_split\n",
    "X_train, X_test, y_train, y_test = train_test_split(X,y,test_size=0.3)"
   ]
  },
  {
   "cell_type": "code",
   "execution_count": 228,
   "metadata": {},
   "outputs": [
    {
     "data": {
      "text/plain": [
       "LinearRegression(copy_X=True, fit_intercept=True, n_jobs=None, normalize=False)"
      ]
     },
     "execution_count": 228,
     "metadata": {},
     "output_type": "execute_result"
    }
   ],
   "source": [
    "#Fit model to training data\n",
    "mlr.fit(X_train, y_train)"
   ]
  },
  {
   "cell_type": "code",
   "execution_count": 229,
   "metadata": {},
   "outputs": [],
   "source": [
    "#feature_cols = ['FIRE_SIZE_CLASS_A','FIRE_SIZE_CLASS_B','STAT_CAUSE_DESCR_Equipment Use',\n",
    "#                   'STAT_CAUSE_DESCR_Debris Burning','STAT_CAUSE_DESCR_Children']\n",
    "#pair feature names and coef\n",
    "#zip(feature_cols, mlr.coef_)"
   ]
  },
  {
   "cell_type": "markdown",
   "metadata": {},
   "source": [
    "## Make Predictions Based on Model ##"
   ]
  },
  {
   "cell_type": "code",
   "execution_count": 230,
   "metadata": {},
   "outputs": [],
   "source": [
    "y_pred = mlr.predict(X_test)"
   ]
  },
  {
   "cell_type": "markdown",
   "metadata": {},
   "source": [
    "## Model Evaluation "
   ]
  },
  {
   "cell_type": "code",
   "execution_count": 202,
   "metadata": {},
   "outputs": [
    {
     "name": "stdout",
     "output_type": "stream",
     "text": [
      "Mean Absolute Error: 200.9362464254662\n",
      "Mean Squared Error: 5840913.62207289\n",
      "Root Mean Squared Error: 2416.7982170783084\n"
     ]
    }
   ],
   "source": [
    "from sklearn import metrics\n",
    "print('Mean Absolute Error:', metrics.mean_absolute_error(y_test, y_pred)) #mean of absolute values of each prediction error\n",
    "print('Mean Squared Error:', metrics.mean_squared_error(y_test, y_pred))#avg squared differences\n",
    "print('Root Mean Squared Error:', \n",
    "      np.sqrt(metrics.mean_squared_error(y_test, y_pred))) #squared root of MSE, directly interpretabel in terms of units\n",
    "#First time through (without outliers)"
   ]
  },
  {
   "cell_type": "code",
   "execution_count": 231,
   "metadata": {},
   "outputs": [
    {
     "name": "stdout",
     "output_type": "stream",
     "text": [
      "Mean Absolute Error: 3.4538189258314984e-15\n",
      "Mean Squared Error: 4.232298407836404e-29\n",
      "Root Mean Squared Error: 6.505611737443608e-15\n"
     ]
    }
   ],
   "source": [
    "from sklearn import metrics\n",
    "print('Mean Absolute Error:', metrics.mean_absolute_error(y_test, y_pred)) #mean of absolute values of each prediction error\n",
    "print('Mean Squared Error:', metrics.mean_squared_error(y_test, y_pred))#avg squared differences\n",
    "print('Root Mean Squared Error:', \n",
    "      np.sqrt(metrics.mean_squared_error(y_test, y_pred))) #squared root of MSE, directly interpretabel in terms of units\n",
    "\n",
    "#Small errors indicate good fit, but most likely due to data imbalance. \n",
    "#Since most of the fire sizes in this dataframe are from 0 < 2.35\n",
    "#Are we really interesteed in this?\n",
    "#Shouldn't we try to predict what features are related to unusually large wildfires (i.e. outliers)?"
   ]
  },
  {
   "cell_type": "markdown",
   "metadata": {},
   "source": [
    "## Random Forest on Classifying Cause of Wildfire (Try 2 with Climate Data)"
   ]
  },
  {
   "cell_type": "code",
   "execution_count": 247,
   "metadata": {},
   "outputs": [
    {
     "data": {
      "text/html": [
       "<div>\n",
       "<style scoped>\n",
       "    .dataframe tbody tr th:only-of-type {\n",
       "        vertical-align: middle;\n",
       "    }\n",
       "\n",
       "    .dataframe tbody tr th {\n",
       "        vertical-align: top;\n",
       "    }\n",
       "\n",
       "    .dataframe thead th {\n",
       "        text-align: right;\n",
       "    }\n",
       "</style>\n",
       "<table border=\"1\" class=\"dataframe\">\n",
       "  <thead>\n",
       "    <tr style=\"text-align: right;\">\n",
       "      <th></th>\n",
       "      <th>FIRE_YEAR</th>\n",
       "      <th>DISCOVERY_DATE</th>\n",
       "      <th>DISCOVERY_DOY</th>\n",
       "      <th>STAT_CAUSE_DESCR</th>\n",
       "      <th>FIRE_SIZE</th>\n",
       "      <th>FIRE_SIZE_CLASS</th>\n",
       "      <th>LATITUDE</th>\n",
       "      <th>LONGITUDE</th>\n",
       "      <th>CLIMATE</th>\n",
       "      <th>CLIMATE_ZONE</th>\n",
       "      <th>MOISTURE</th>\n",
       "      <th>FIRE_SIZE_norm</th>\n",
       "    </tr>\n",
       "  </thead>\n",
       "  <tbody>\n",
       "    <tr>\n",
       "      <td>0</td>\n",
       "      <td>2005</td>\n",
       "      <td>2453403.5</td>\n",
       "      <td>33</td>\n",
       "      <td>Miscellaneous</td>\n",
       "      <td>0.10</td>\n",
       "      <td>A</td>\n",
       "      <td>40.036944</td>\n",
       "      <td>-121.005833</td>\n",
       "      <td>Cold</td>\n",
       "      <td>5</td>\n",
       "      <td>B</td>\n",
       "      <td>1.647431e-07</td>\n",
       "    </tr>\n",
       "    <tr>\n",
       "      <td>1</td>\n",
       "      <td>2004</td>\n",
       "      <td>2453137.5</td>\n",
       "      <td>133</td>\n",
       "      <td>Lightning</td>\n",
       "      <td>0.25</td>\n",
       "      <td>A</td>\n",
       "      <td>38.933056</td>\n",
       "      <td>-120.404444</td>\n",
       "      <td>Hot-Dry</td>\n",
       "      <td>3</td>\n",
       "      <td>B</td>\n",
       "      <td>4.118825e-07</td>\n",
       "    </tr>\n",
       "    <tr>\n",
       "      <td>2</td>\n",
       "      <td>2004</td>\n",
       "      <td>2453156.5</td>\n",
       "      <td>152</td>\n",
       "      <td>Debris Burning</td>\n",
       "      <td>0.10</td>\n",
       "      <td>A</td>\n",
       "      <td>38.984167</td>\n",
       "      <td>-120.735556</td>\n",
       "      <td>Mixed-Dry</td>\n",
       "      <td>4</td>\n",
       "      <td>B</td>\n",
       "      <td>1.647431e-07</td>\n",
       "    </tr>\n",
       "    <tr>\n",
       "      <td>3</td>\n",
       "      <td>2004</td>\n",
       "      <td>2453184.5</td>\n",
       "      <td>180</td>\n",
       "      <td>Lightning</td>\n",
       "      <td>0.10</td>\n",
       "      <td>A</td>\n",
       "      <td>38.559167</td>\n",
       "      <td>-119.913333</td>\n",
       "      <td>Cold</td>\n",
       "      <td>6</td>\n",
       "      <td>B</td>\n",
       "      <td>1.647431e-07</td>\n",
       "    </tr>\n",
       "    <tr>\n",
       "      <td>4</td>\n",
       "      <td>2004</td>\n",
       "      <td>2453184.5</td>\n",
       "      <td>180</td>\n",
       "      <td>Lightning</td>\n",
       "      <td>0.10</td>\n",
       "      <td>A</td>\n",
       "      <td>38.559167</td>\n",
       "      <td>-119.933056</td>\n",
       "      <td>Cold</td>\n",
       "      <td>6</td>\n",
       "      <td>B</td>\n",
       "      <td>1.647431e-07</td>\n",
       "    </tr>\n",
       "    <tr>\n",
       "      <td>...</td>\n",
       "      <td>...</td>\n",
       "      <td>...</td>\n",
       "      <td>...</td>\n",
       "      <td>...</td>\n",
       "      <td>...</td>\n",
       "      <td>...</td>\n",
       "      <td>...</td>\n",
       "      <td>...</td>\n",
       "      <td>...</td>\n",
       "      <td>...</td>\n",
       "      <td>...</td>\n",
       "      <td>...</td>\n",
       "    </tr>\n",
       "    <tr>\n",
       "      <td>1872300</td>\n",
       "      <td>2015</td>\n",
       "      <td>2457300.5</td>\n",
       "      <td>278</td>\n",
       "      <td>Missing/Undefined</td>\n",
       "      <td>0.01</td>\n",
       "      <td>A</td>\n",
       "      <td>38.691628</td>\n",
       "      <td>-121.372908</td>\n",
       "      <td>Hot-Dry</td>\n",
       "      <td>3</td>\n",
       "      <td>B</td>\n",
       "      <td>1.645948e-08</td>\n",
       "    </tr>\n",
       "    <tr>\n",
       "      <td>1872301</td>\n",
       "      <td>2015</td>\n",
       "      <td>2457316.5</td>\n",
       "      <td>294</td>\n",
       "      <td>Miscellaneous</td>\n",
       "      <td>0.10</td>\n",
       "      <td>A</td>\n",
       "      <td>38.172881</td>\n",
       "      <td>-120.801955</td>\n",
       "      <td>Mixed-Dry</td>\n",
       "      <td>4</td>\n",
       "      <td>B</td>\n",
       "      <td>1.647431e-07</td>\n",
       "    </tr>\n",
       "    <tr>\n",
       "      <td>1872302</td>\n",
       "      <td>2015</td>\n",
       "      <td>2457353.5</td>\n",
       "      <td>331</td>\n",
       "      <td>Miscellaneous</td>\n",
       "      <td>0.10</td>\n",
       "      <td>A</td>\n",
       "      <td>33.919157</td>\n",
       "      <td>-116.882973</td>\n",
       "      <td>Hot-Dry</td>\n",
       "      <td>3</td>\n",
       "      <td>B</td>\n",
       "      <td>1.647431e-07</td>\n",
       "    </tr>\n",
       "    <tr>\n",
       "      <td>1872303</td>\n",
       "      <td>2015</td>\n",
       "      <td>2457347.5</td>\n",
       "      <td>325</td>\n",
       "      <td>Debris Burning</td>\n",
       "      <td>0.25</td>\n",
       "      <td>A</td>\n",
       "      <td>37.110917</td>\n",
       "      <td>-119.322918</td>\n",
       "      <td>Hot-Dry</td>\n",
       "      <td>3</td>\n",
       "      <td>B</td>\n",
       "      <td>4.118825e-07</td>\n",
       "    </tr>\n",
       "    <tr>\n",
       "      <td>1872304</td>\n",
       "      <td>2015</td>\n",
       "      <td>2457302.5</td>\n",
       "      <td>280</td>\n",
       "      <td>Miscellaneous</td>\n",
       "      <td>0.01</td>\n",
       "      <td>A</td>\n",
       "      <td>39.365926</td>\n",
       "      <td>-123.233855</td>\n",
       "      <td>Marine</td>\n",
       "      <td>3</td>\n",
       "      <td>C</td>\n",
       "      <td>1.645948e-08</td>\n",
       "    </tr>\n",
       "  </tbody>\n",
       "</table>\n",
       "<p>49194 rows × 12 columns</p>\n",
       "</div>"
      ],
      "text/plain": [
       "         FIRE_YEAR  DISCOVERY_DATE  DISCOVERY_DOY   STAT_CAUSE_DESCR  \\\n",
       "0             2005       2453403.5             33      Miscellaneous   \n",
       "1             2004       2453137.5            133          Lightning   \n",
       "2             2004       2453156.5            152     Debris Burning   \n",
       "3             2004       2453184.5            180          Lightning   \n",
       "4             2004       2453184.5            180          Lightning   \n",
       "...            ...             ...            ...                ...   \n",
       "1872300       2015       2457300.5            278  Missing/Undefined   \n",
       "1872301       2015       2457316.5            294      Miscellaneous   \n",
       "1872302       2015       2457353.5            331      Miscellaneous   \n",
       "1872303       2015       2457347.5            325     Debris Burning   \n",
       "1872304       2015       2457302.5            280      Miscellaneous   \n",
       "\n",
       "         FIRE_SIZE FIRE_SIZE_CLASS   LATITUDE   LONGITUDE    CLIMATE  \\\n",
       "0             0.10               A  40.036944 -121.005833       Cold   \n",
       "1             0.25               A  38.933056 -120.404444    Hot-Dry   \n",
       "2             0.10               A  38.984167 -120.735556  Mixed-Dry   \n",
       "3             0.10               A  38.559167 -119.913333       Cold   \n",
       "4             0.10               A  38.559167 -119.933056       Cold   \n",
       "...            ...             ...        ...         ...        ...   \n",
       "1872300       0.01               A  38.691628 -121.372908    Hot-Dry   \n",
       "1872301       0.10               A  38.172881 -120.801955  Mixed-Dry   \n",
       "1872302       0.10               A  33.919157 -116.882973    Hot-Dry   \n",
       "1872303       0.25               A  37.110917 -119.322918    Hot-Dry   \n",
       "1872304       0.01               A  39.365926 -123.233855     Marine   \n",
       "\n",
       "        CLIMATE_ZONE MOISTURE  FIRE_SIZE_norm  \n",
       "0                  5        B    1.647431e-07  \n",
       "1                  3        B    4.118825e-07  \n",
       "2                  4        B    1.647431e-07  \n",
       "3                  6        B    1.647431e-07  \n",
       "4                  6        B    1.647431e-07  \n",
       "...              ...      ...             ...  \n",
       "1872300            3        B    1.645948e-08  \n",
       "1872301            4        B    1.647431e-07  \n",
       "1872302            3        B    1.647431e-07  \n",
       "1872303            3        B    4.118825e-07  \n",
       "1872304            3        C    1.645948e-08  \n",
       "\n",
       "[49194 rows x 12 columns]"
      ]
     },
     "execution_count": 247,
     "metadata": {},
     "output_type": "execute_result"
    }
   ],
   "source": [
    "cali_df2"
   ]
  },
  {
   "cell_type": "code",
   "execution_count": 248,
   "metadata": {},
   "outputs": [
    {
     "data": {
      "text/plain": [
       "min    1997.0\n",
       "max    2015.0\n",
       "Name: FIRE_YEAR, dtype: float64"
      ]
     },
     "execution_count": 248,
     "metadata": {},
     "output_type": "execute_result"
    }
   ],
   "source": [
    "#Find Min and Max Year\n",
    "cali_df2.FIRE_YEAR.describe()[['min','max']]"
   ]
  },
  {
   "cell_type": "code",
   "execution_count": 295,
   "metadata": {},
   "outputs": [
    {
     "data": {
      "text/html": [
       "<div>\n",
       "<style scoped>\n",
       "    .dataframe tbody tr th:only-of-type {\n",
       "        vertical-align: middle;\n",
       "    }\n",
       "\n",
       "    .dataframe tbody tr th {\n",
       "        vertical-align: top;\n",
       "    }\n",
       "\n",
       "    .dataframe thead th {\n",
       "        text-align: right;\n",
       "    }\n",
       "</style>\n",
       "<table border=\"1\" class=\"dataframe\">\n",
       "  <thead>\n",
       "    <tr style=\"text-align: right;\">\n",
       "      <th></th>\n",
       "      <th>FIRE_YEAR</th>\n",
       "      <th>DISCOVERY_DATE</th>\n",
       "      <th>DISCOVERY_DOY</th>\n",
       "      <th>STAT_CAUSE_DESCR</th>\n",
       "      <th>FIRE_SIZE</th>\n",
       "      <th>FIRE_SIZE_CLASS</th>\n",
       "      <th>CLIMATE</th>\n",
       "      <th>CLIMATE_ZONE</th>\n",
       "      <th>MOISTURE</th>\n",
       "    </tr>\n",
       "  </thead>\n",
       "  <tbody>\n",
       "    <tr>\n",
       "      <td>0</td>\n",
       "      <td>2005</td>\n",
       "      <td>2453403.5</td>\n",
       "      <td>33</td>\n",
       "      <td>Miscellaneous</td>\n",
       "      <td>0.10</td>\n",
       "      <td>A</td>\n",
       "      <td>Cold</td>\n",
       "      <td>5</td>\n",
       "      <td>B</td>\n",
       "    </tr>\n",
       "    <tr>\n",
       "      <td>1</td>\n",
       "      <td>2004</td>\n",
       "      <td>2453137.5</td>\n",
       "      <td>133</td>\n",
       "      <td>Lightning</td>\n",
       "      <td>0.25</td>\n",
       "      <td>A</td>\n",
       "      <td>Hot-Dry</td>\n",
       "      <td>3</td>\n",
       "      <td>B</td>\n",
       "    </tr>\n",
       "    <tr>\n",
       "      <td>2</td>\n",
       "      <td>2004</td>\n",
       "      <td>2453156.5</td>\n",
       "      <td>152</td>\n",
       "      <td>Debris Burning</td>\n",
       "      <td>0.10</td>\n",
       "      <td>A</td>\n",
       "      <td>Mixed-Dry</td>\n",
       "      <td>4</td>\n",
       "      <td>B</td>\n",
       "    </tr>\n",
       "    <tr>\n",
       "      <td>3</td>\n",
       "      <td>2004</td>\n",
       "      <td>2453184.5</td>\n",
       "      <td>180</td>\n",
       "      <td>Lightning</td>\n",
       "      <td>0.10</td>\n",
       "      <td>A</td>\n",
       "      <td>Cold</td>\n",
       "      <td>6</td>\n",
       "      <td>B</td>\n",
       "    </tr>\n",
       "    <tr>\n",
       "      <td>4</td>\n",
       "      <td>2004</td>\n",
       "      <td>2453184.5</td>\n",
       "      <td>180</td>\n",
       "      <td>Lightning</td>\n",
       "      <td>0.10</td>\n",
       "      <td>A</td>\n",
       "      <td>Cold</td>\n",
       "      <td>6</td>\n",
       "      <td>B</td>\n",
       "    </tr>\n",
       "  </tbody>\n",
       "</table>\n",
       "</div>"
      ],
      "text/plain": [
       "   FIRE_YEAR  DISCOVERY_DATE  DISCOVERY_DOY STAT_CAUSE_DESCR  FIRE_SIZE  \\\n",
       "0       2005       2453403.5             33    Miscellaneous       0.10   \n",
       "1       2004       2453137.5            133        Lightning       0.25   \n",
       "2       2004       2453156.5            152   Debris Burning       0.10   \n",
       "3       2004       2453184.5            180        Lightning       0.10   \n",
       "4       2004       2453184.5            180        Lightning       0.10   \n",
       "\n",
       "  FIRE_SIZE_CLASS    CLIMATE CLIMATE_ZONE MOISTURE  \n",
       "0               A       Cold            5        B  \n",
       "1               A    Hot-Dry            3        B  \n",
       "2               A  Mixed-Dry            4        B  \n",
       "3               A       Cold            6        B  \n",
       "4               A       Cold            6        B  "
      ]
     },
     "execution_count": 295,
     "metadata": {},
     "output_type": "execute_result"
    }
   ],
   "source": [
    "# Drop Latitude and Longitude, which defeats the purpose of predicting location of wildfire and State (not needed here)\n",
    "test1 = cali_df2.drop(columns=['LATITUDE','LONGITUDE','FIRE_SIZE_norm'])\n",
    "test1.head(5)"
   ]
  },
  {
   "cell_type": "code",
   "execution_count": 296,
   "metadata": {
    "scrolled": true
   },
   "outputs": [
    {
     "name": "stdout",
     "output_type": "stream",
     "text": [
      "\n",
      "Column Name: STAT_CAUSE_DESCR\n",
      "Miscellaneous        11861\n",
      "Missing/Undefined     8288\n",
      "Lightning             8235\n",
      "Equipment Use         6518\n",
      "Arson                 4231\n",
      "Debris Burning        3434\n",
      "Campfire              2691\n",
      "Children              1737\n",
      "Smoking               1504\n",
      "Powerline              553\n",
      "Railroad                98\n",
      "Structure               23\n",
      "Fireworks               21\n",
      "Name: STAT_CAUSE_DESCR, dtype: int64\n",
      "\n",
      "Column Name: FIRE_SIZE_CLASS\n",
      "A    33824\n",
      "B    15370\n",
      "Name: FIRE_SIZE_CLASS, dtype: int64\n",
      "\n",
      "Column Name: CLIMATE\n",
      "Hot-Dry      28060\n",
      "Cold          7811\n",
      "Mixed-Dry     7542\n",
      "Marine        5781\n",
      "Name: CLIMATE, dtype: int64\n",
      "\n",
      "Column Name: CLIMATE_ZONE\n",
      "3    32557\n",
      "4     8679\n",
      "5     6894\n",
      "6      917\n",
      "2      147\n",
      "Name: CLIMATE_ZONE, dtype: int64\n",
      "\n",
      "Column Name: MOISTURE\n",
      "B    43413\n",
      "C     5781\n",
      "Name: MOISTURE, dtype: int64\n"
     ]
    }
   ],
   "source": [
    "#Categorical counts \n",
    "for col in test1.columns:\n",
    "    if test1[col].dtype == 'object':\n",
    "        print('\\nColumn Name:', col,)\n",
    "        print(test1[col].value_counts())"
   ]
  },
  {
   "cell_type": "code",
   "execution_count": 297,
   "metadata": {},
   "outputs": [],
   "source": [
    "#Filter out Top 5 causes\n",
    "#Misc, Missing/Undefined, Lightning, Equipment Use, Arson\n",
    "test1 = test1[test1['STAT_CAUSE_DESCR'].isin(['Miscellaneous', 'Missing/Undefined','Lightning','Equipment Use','Arson'])]"
   ]
  },
  {
   "cell_type": "code",
   "execution_count": 298,
   "metadata": {},
   "outputs": [
    {
     "data": {
      "text/plain": [
       "Miscellaneous        11861\n",
       "Missing/Undefined     8288\n",
       "Lightning             8235\n",
       "Equipment Use         6518\n",
       "Arson                 4231\n",
       "Name: STAT_CAUSE_DESCR, dtype: int64"
      ]
     },
     "execution_count": 298,
     "metadata": {},
     "output_type": "execute_result"
    }
   ],
   "source": [
    "test1['STAT_CAUSE_DESCR'].value_counts()"
   ]
  },
  {
   "cell_type": "code",
   "execution_count": 299,
   "metadata": {},
   "outputs": [
    {
     "data": {
      "text/html": [
       "<div>\n",
       "<style scoped>\n",
       "    .dataframe tbody tr th:only-of-type {\n",
       "        vertical-align: middle;\n",
       "    }\n",
       "\n",
       "    .dataframe tbody tr th {\n",
       "        vertical-align: top;\n",
       "    }\n",
       "\n",
       "    .dataframe thead th {\n",
       "        text-align: right;\n",
       "    }\n",
       "</style>\n",
       "<table border=\"1\" class=\"dataframe\">\n",
       "  <thead>\n",
       "    <tr style=\"text-align: right;\">\n",
       "      <th></th>\n",
       "      <th>FIRE_YEAR</th>\n",
       "      <th>DISCOVERY_DATE</th>\n",
       "      <th>DISCOVERY_DOY</th>\n",
       "      <th>STAT_CAUSE_DESCR</th>\n",
       "      <th>FIRE_SIZE</th>\n",
       "      <th>FIRE_SIZE_CLASS</th>\n",
       "      <th>CLIMATE</th>\n",
       "      <th>CLIMATE_ZONE</th>\n",
       "      <th>MOISTURE</th>\n",
       "    </tr>\n",
       "  </thead>\n",
       "  <tbody>\n",
       "    <tr>\n",
       "      <td>0</td>\n",
       "      <td>2005</td>\n",
       "      <td>2453403.5</td>\n",
       "      <td>33</td>\n",
       "      <td>Miscellaneous</td>\n",
       "      <td>0.10</td>\n",
       "      <td>A</td>\n",
       "      <td>Cold</td>\n",
       "      <td>5</td>\n",
       "      <td>B</td>\n",
       "    </tr>\n",
       "    <tr>\n",
       "      <td>1</td>\n",
       "      <td>2004</td>\n",
       "      <td>2453137.5</td>\n",
       "      <td>133</td>\n",
       "      <td>Lightning</td>\n",
       "      <td>0.25</td>\n",
       "      <td>A</td>\n",
       "      <td>Hot-Dry</td>\n",
       "      <td>3</td>\n",
       "      <td>B</td>\n",
       "    </tr>\n",
       "    <tr>\n",
       "      <td>3</td>\n",
       "      <td>2004</td>\n",
       "      <td>2453184.5</td>\n",
       "      <td>180</td>\n",
       "      <td>Lightning</td>\n",
       "      <td>0.10</td>\n",
       "      <td>A</td>\n",
       "      <td>Cold</td>\n",
       "      <td>6</td>\n",
       "      <td>B</td>\n",
       "    </tr>\n",
       "    <tr>\n",
       "      <td>4</td>\n",
       "      <td>2004</td>\n",
       "      <td>2453184.5</td>\n",
       "      <td>180</td>\n",
       "      <td>Lightning</td>\n",
       "      <td>0.10</td>\n",
       "      <td>A</td>\n",
       "      <td>Cold</td>\n",
       "      <td>6</td>\n",
       "      <td>B</td>\n",
       "    </tr>\n",
       "    <tr>\n",
       "      <td>5</td>\n",
       "      <td>2004</td>\n",
       "      <td>2453186.5</td>\n",
       "      <td>182</td>\n",
       "      <td>Lightning</td>\n",
       "      <td>0.10</td>\n",
       "      <td>A</td>\n",
       "      <td>Mixed-Dry</td>\n",
       "      <td>4</td>\n",
       "      <td>B</td>\n",
       "    </tr>\n",
       "  </tbody>\n",
       "</table>\n",
       "</div>"
      ],
      "text/plain": [
       "   FIRE_YEAR  DISCOVERY_DATE  DISCOVERY_DOY STAT_CAUSE_DESCR  FIRE_SIZE  \\\n",
       "0       2005       2453403.5             33    Miscellaneous       0.10   \n",
       "1       2004       2453137.5            133        Lightning       0.25   \n",
       "3       2004       2453184.5            180        Lightning       0.10   \n",
       "4       2004       2453184.5            180        Lightning       0.10   \n",
       "5       2004       2453186.5            182        Lightning       0.10   \n",
       "\n",
       "  FIRE_SIZE_CLASS    CLIMATE CLIMATE_ZONE MOISTURE  \n",
       "0               A       Cold            5        B  \n",
       "1               A    Hot-Dry            3        B  \n",
       "3               A       Cold            6        B  \n",
       "4               A       Cold            6        B  \n",
       "5               A  Mixed-Dry            4        B  "
      ]
     },
     "execution_count": 299,
     "metadata": {},
     "output_type": "execute_result"
    }
   ],
   "source": [
    "test1.head(5)"
   ]
  },
  {
   "cell_type": "code",
   "execution_count": 319,
   "metadata": {},
   "outputs": [],
   "source": [
    "# One hot encode the variables\n",
    "pd.get_dummies(test1, columns=['FIRE_SIZE_CLASS', 'CLIMATE','MOISTURE'])\n",
    "\n",
    "#Label encode cause of wildfire\n",
    "from sklearn.preprocessing import LabelEncoder\n",
    "le = LabelEncoder()\n",
    "test1['STAT_CAUSE_DESCR'] = le.fit_transform(test1['STAT_CAUSE_DESCR'])\n"
   ]
  },
  {
   "cell_type": "code",
   "execution_count": 320,
   "metadata": {},
   "outputs": [
    {
     "name": "stdout",
     "output_type": "stream",
     "text": [
      "<class 'pandas.core.frame.DataFrame'>\n",
      "Int64Index: 39133 entries, 0 to 1872304\n",
      "Data columns (total 9 columns):\n",
      "FIRE_YEAR           39133 non-null int64\n",
      "DISCOVERY_DATE      39133 non-null float64\n",
      "DISCOVERY_DOY       39133 non-null int64\n",
      "STAT_CAUSE_DESCR    39133 non-null int64\n",
      "FIRE_SIZE           39133 non-null float64\n",
      "FIRE_SIZE_CLASS     39133 non-null object\n",
      "CLIMATE             39133 non-null object\n",
      "CLIMATE_ZONE        39133 non-null object\n",
      "MOISTURE            39133 non-null object\n",
      "dtypes: float64(2), int64(3), object(4)\n",
      "memory usage: 3.0+ MB\n"
     ]
    }
   ],
   "source": [
    "test1.info()"
   ]
  },
  {
   "cell_type": "code",
   "execution_count": 321,
   "metadata": {},
   "outputs": [],
   "source": [
    "category_df2 = test1.select_dtypes('object')\n",
    "# One hot encode the variables\n",
    "data = pd.get_dummies(category_df2)\n",
    "# Put the grade back in the dataframe\n",
    "data['FIRE_SIZE'] = test1['FIRE_SIZE']\n",
    "data['DISCOVERY_DOY'] = test1['DISCOVERY_DOY']\n",
    "data['DISCOVERY_DATE'] = test1['DISCOVERY_DATE']\n",
    "data['FIRE_YEAR'] = test1['FIRE_YEAR']\n",
    "data['STAT_CAUSE_DESCR'] = test1['STAT_CAUSE_DESCR']"
   ]
  },
  {
   "cell_type": "code",
   "execution_count": 322,
   "metadata": {},
   "outputs": [
    {
     "name": "stdout",
     "output_type": "stream",
     "text": [
      "<class 'pandas.core.frame.DataFrame'>\n",
      "Int64Index: 39133 entries, 0 to 1872304\n",
      "Data columns (total 18 columns):\n",
      "FIRE_SIZE_CLASS_A    39133 non-null uint8\n",
      "FIRE_SIZE_CLASS_B    39133 non-null uint8\n",
      "CLIMATE_Cold         39133 non-null uint8\n",
      "CLIMATE_Hot-Dry      39133 non-null uint8\n",
      "CLIMATE_Marine       39133 non-null uint8\n",
      "CLIMATE_Mixed-Dry    39133 non-null uint8\n",
      "CLIMATE_ZONE_2       39133 non-null uint8\n",
      "CLIMATE_ZONE_3       39133 non-null uint8\n",
      "CLIMATE_ZONE_4       39133 non-null uint8\n",
      "CLIMATE_ZONE_5       39133 non-null uint8\n",
      "CLIMATE_ZONE_6       39133 non-null uint8\n",
      "MOISTURE_B           39133 non-null uint8\n",
      "MOISTURE_C           39133 non-null uint8\n",
      "FIRE_SIZE            39133 non-null float64\n",
      "DISCOVERY_DOY        39133 non-null int64\n",
      "DISCOVERY_DATE       39133 non-null float64\n",
      "FIRE_YEAR            39133 non-null int64\n",
      "STAT_CAUSE_DESCR     39133 non-null int64\n",
      "dtypes: float64(2), int64(3), uint8(13)\n",
      "memory usage: 2.3 MB\n"
     ]
    }
   ],
   "source": [
    "data.info()"
   ]
  },
  {
   "cell_type": "code",
   "execution_count": 323,
   "metadata": {},
   "outputs": [],
   "source": [
    "#Standardize data (features have different scales/units)\n",
    "from sklearn.preprocessing import StandardScaler\n",
    "\n",
    "scaled_test1 = data.copy()\n",
    "col_names = ['FIRE_YEAR', 'DISCOVERY_DATE','DISCOVERY_DOY','FIRE_SIZE'] #Don't include STAT_CAUSE_DESCR & FIPS_NAME : the dummy encoded ones\n",
    "features = scaled_test1[col_names]\n",
    "scaler = StandardScaler().fit(features.values)\n",
    "features = scaler.transform(features.values)"
   ]
  },
  {
   "cell_type": "code",
   "execution_count": 324,
   "metadata": {},
   "outputs": [
    {
     "name": "stdout",
     "output_type": "stream",
     "text": [
      "         FIRE_SIZE_CLASS_A  FIRE_SIZE_CLASS_B  CLIMATE_Cold  CLIMATE_Hot-Dry  \\\n",
      "0                        1                  0             1                0   \n",
      "1                        1                  0             0                1   \n",
      "3                        1                  0             1                0   \n",
      "4                        1                  0             1                0   \n",
      "5                        1                  0             0                0   \n",
      "...                    ...                ...           ...              ...   \n",
      "1872299                  1                  0             0                0   \n",
      "1872300                  1                  0             0                1   \n",
      "1872301                  1                  0             0                0   \n",
      "1872302                  1                  0             0                1   \n",
      "1872304                  1                  0             0                0   \n",
      "\n",
      "         CLIMATE_Marine  CLIMATE_Mixed-Dry  CLIMATE_ZONE_2  CLIMATE_ZONE_3  \\\n",
      "0                     0                  0               0               0   \n",
      "1                     0                  0               0               1   \n",
      "3                     0                  0               0               0   \n",
      "4                     0                  0               0               0   \n",
      "5                     0                  1               0               0   \n",
      "...                 ...                ...             ...             ...   \n",
      "1872299               1                  0               0               0   \n",
      "1872300               0                  0               0               1   \n",
      "1872301               0                  1               0               0   \n",
      "1872302               0                  0               0               1   \n",
      "1872304               1                  0               0               1   \n",
      "\n",
      "         CLIMATE_ZONE_4  CLIMATE_ZONE_5  CLIMATE_ZONE_6  MOISTURE_B  \\\n",
      "0                     0               1               0           1   \n",
      "1                     0               0               0           1   \n",
      "3                     0               0               1           1   \n",
      "4                     0               0               1           1   \n",
      "5                     1               0               0           1   \n",
      "...                 ...             ...             ...         ...   \n",
      "1872299               1               0               0           0   \n",
      "1872300               0               0               0           1   \n",
      "1872301               1               0               0           1   \n",
      "1872302               0               0               0           1   \n",
      "1872304               0               0               0           0   \n",
      "\n",
      "         MOISTURE_C  FIRE_SIZE  DISCOVERY_DOY  DISCOVERY_DATE  FIRE_YEAR  \\\n",
      "0                 0  -0.578862      -2.339359       -0.988559  -0.894588   \n",
      "1                 0  -0.264846      -0.911317       -1.139540  -1.101624   \n",
      "3                 0  -0.578862      -0.240138       -1.112863  -1.101624   \n",
      "4                 0  -0.578862      -0.240138       -1.112863  -1.101624   \n",
      "5                 0  -0.578862      -0.211577       -1.111727  -1.101624   \n",
      "...             ...        ...            ...             ...        ...   \n",
      "1872299           1  -0.767271       1.487793        1.236419   1.175771   \n",
      "1872300           0  -0.767271       1.159343        1.223364   1.175771   \n",
      "1872301           0  -0.578862       1.387830        1.232446   1.175771   \n",
      "1872302           0  -0.578862       1.916205        1.253447   1.175771   \n",
      "1872304           1  -0.767271       1.187904        1.224499   1.175771   \n",
      "\n",
      "         STAT_CAUSE_DESCR  \n",
      "0                       3  \n",
      "1                       2  \n",
      "3                       2  \n",
      "4                       2  \n",
      "5                       2  \n",
      "...                   ...  \n",
      "1872299                 3  \n",
      "1872300                 4  \n",
      "1872301                 3  \n",
      "1872302                 3  \n",
      "1872304                 3  \n",
      "\n",
      "[39133 rows x 18 columns]\n"
     ]
    }
   ],
   "source": [
    "#Assign results to those three columns\n",
    "scaled_test1[col_names] = features\n",
    "print(scaled_test1)"
   ]
  },
  {
   "cell_type": "code",
   "execution_count": 325,
   "metadata": {},
   "outputs": [],
   "source": [
    "##Partitioning Data\n",
    "X = scaled_test1.drop(['STAT_CAUSE_DESCR'], axis=1).values\n",
    "y = scaled_test1['STAT_CAUSE_DESCR'].values"
   ]
  },
  {
   "cell_type": "code",
   "execution_count": 326,
   "metadata": {},
   "outputs": [],
   "source": [
    "from sklearn.model_selection import train_test_split\n",
    "X_train, X_test, y_train, y_test = train_test_split(X,y,test_size=0.3, random_state=0) #30% for testing, 70% for training"
   ]
  },
  {
   "cell_type": "code",
   "execution_count": 327,
   "metadata": {},
   "outputs": [
    {
     "name": "stdout",
     "output_type": "stream",
     "text": [
      "0.4596252129471891\n"
     ]
    }
   ],
   "source": [
    "#Random Forest\n",
    "from sklearn.ensemble import RandomForestClassifier\n",
    "rf_clsf = RandomForestClassifier(n_estimators=50)\n",
    "rf_clsf = rf_clsf.fit(X_train, y_train)\n",
    "print(rf_clsf.score(X_test,y_test))"
   ]
  },
  {
   "cell_type": "code",
   "execution_count": 329,
   "metadata": {},
   "outputs": [],
   "source": [
    "#Cause of wildfire\n",
    "#scaled_test1.STAT_CAUSE_DESCR.unique() #There seems to be 13 causes for these top 10 counties."
   ]
  },
  {
   "cell_type": "code",
   "execution_count": 330,
   "metadata": {},
   "outputs": [
    {
     "name": "stdout",
     "output_type": "stream",
     "text": [
      "\n",
      "Column Name: STAT_CAUSE_DESCR\n",
      "Debris Burning       429028\n",
      "Miscellaneous        323805\n",
      "Arson                281455\n",
      "Lightning            278468\n",
      "Missing/Undefined    166723\n",
      "Equipment Use        147612\n",
      "Campfire              76139\n",
      "Children              61167\n",
      "Smoking               52869\n",
      "Railroad              33455\n",
      "Powerline             14448\n",
      "Fireworks             11500\n",
      "Structure              3796\n",
      "Name: STAT_CAUSE_DESCR, dtype: int64\n",
      "\n",
      "Column Name: FIRE_SIZE_CLASS\n",
      "B    939376\n",
      "A    666919\n",
      "C    220077\n",
      "D     28427\n",
      "E     14107\n",
      "F      7786\n",
      "G      3773\n",
      "Name: FIRE_SIZE_CLASS, dtype: int64\n",
      "\n",
      "Column Name: STATE\n",
      "CA    189550\n",
      "GA    168867\n",
      "TX    142021\n",
      "NC    111277\n",
      "FL     90261\n",
      "SC     81315\n",
      "NY     80870\n",
      "MS     79230\n",
      "AZ     71586\n",
      "AL     66570\n",
      "OR     61088\n",
      "MN     44769\n",
      "OK     43239\n",
      "MT     40767\n",
      "NM     37478\n",
      "ID     36698\n",
      "CO     34157\n",
      "WA     33513\n",
      "WI     31861\n",
      "AR     31663\n",
      "TN     31154\n",
      "SD     30963\n",
      "UT     30725\n",
      "LA     30013\n",
      "KY     27089\n",
      "NJ     25949\n",
      "PR     22081\n",
      "WV     21967\n",
      "VA     21833\n",
      "MO     17953\n",
      "NV     16956\n",
      "ND     15201\n",
      "WY     14166\n",
      "ME     13150\n",
      "AK     12843\n",
      "MI     10502\n",
      "HI      9895\n",
      "PA      8712\n",
      "NE      7973\n",
      "KS      7673\n",
      "CT      4976\n",
      "IA      4134\n",
      "MD      3622\n",
      "OH      3479\n",
      "MA      2626\n",
      "NH      2452\n",
      "IL      2327\n",
      "IN      2098\n",
      "RI       480\n",
      "VT       456\n",
      "DE       171\n",
      "DC        66\n",
      "Name: STATE, dtype: int64\n",
      "\n",
      "Column Name: FIPS_NAME\n",
      "Washington          11014\n",
      "Lincoln             10571\n",
      "Jackson              9902\n",
      "Marion               8908\n",
      "Cherokee             8558\n",
      "                    ...  \n",
      "Costilla                1\n",
      "Glacier County          1\n",
      "Fairfax                 1\n",
      "Buena Vista City        1\n",
      "Richmond (city)         1\n",
      "Name: FIPS_NAME, Length: 1696, dtype: int64\n",
      "\n",
      "Column Name: CLIMATE\n",
      "Hot-Humid      368783\n",
      "Mixed-Humid    368108\n",
      "Cold           304879\n",
      "Hot-Dry         65357\n",
      "Very-Cold       38440\n",
      "Marine          33683\n",
      "Mixed-Dry       21553\n",
      "Subarctic          86\n",
      "Name: CLIMATE, dtype: int64\n",
      "\n",
      "Column Name: CLIMATE_ZONE\n",
      "3    418204\n",
      "4    224563\n",
      "2    203324\n",
      "5    182117\n",
      "6    121993\n",
      "7     38440\n",
      "1     11882\n",
      "2       280\n",
      "8        86\n",
      "Name: CLIMATE_ZONE, dtype: int64\n",
      "\n",
      "Column Name: MOISTURE\n",
      "A    916538\n",
      "B    249116\n",
      "C     34925\n",
      "Name: MOISTURE, dtype: int64\n"
     ]
    }
   ],
   "source": [
    "for col in df.columns:\n",
    "    if df[col].dtype == 'object':\n",
    "        print('\\nColumn Name:', col,)\n",
    "        print(df[col].value_counts())"
   ]
  },
  {
   "cell_type": "code",
   "execution_count": null,
   "metadata": {},
   "outputs": [],
   "source": []
  }
 ],
 "metadata": {
  "kernelspec": {
   "display_name": "Python 3",
   "language": "python",
   "name": "python3"
  },
  "language_info": {
   "codemirror_mode": {
    "name": "ipython",
    "version": 3
   },
   "file_extension": ".py",
   "mimetype": "text/x-python",
   "name": "python",
   "nbconvert_exporter": "python",
   "pygments_lexer": "ipython3",
   "version": "3.7.3"
  }
 },
 "nbformat": 4,
 "nbformat_minor": 2
}
